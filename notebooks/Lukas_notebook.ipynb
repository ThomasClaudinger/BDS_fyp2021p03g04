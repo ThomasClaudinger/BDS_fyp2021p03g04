{
 "cells": [
  {
   "cell_type": "code",
   "execution_count": null,
   "metadata": {},
   "outputs": [],
   "source": [
    "import pandas as pd\n",
    "import numpy as np\n",
    "import matplotlib.pyplot as plt"
   ]
  },
  {
   "cell_type": "code",
   "execution_count": null,
   "metadata": {},
   "outputs": [],
   "source": [
    "ground_truth = pd.read_csv(\"../data/example_ground_truth.csv\")\n",
    "# image_ids = []\n",
    "# images = []\n",
    "# images_seg = []\n",
    "\n",
    "# for image_id in ground_truth['image_id']:\n",
    "#     print(image_id)\n",
    "#     image = img.imread('../data/example_image/'+image_id+'.jpg')\n",
    "#     image_ids.append(image_id)\n",
    "#     images.append(image)\n",
    "\n",
    "# for image_id in ground_truth['image_id']:\n",
    "#     image_seg = img.imread('../data/example_segmentation/'+image_id+'_segmentation.png')\n",
    "#     images_seg.append(image_seg)"
   ]
  },
  {
   "cell_type": "code",
   "execution_count": null,
   "metadata": {},
   "outputs": [],
   "source": [
    "def findImage(image_id):\n",
    "    image = plt.imread('../data/example_image/'+image_id+'.jpg')\n",
    "    image_seg = plt.imread('../data/example_segmentation/'+image_id+'_segmentation.png')\n",
    "    \n",
    "    return image,image_seg"
   ]
  },
  {
   "cell_type": "code",
   "execution_count": null,
   "metadata": {},
   "outputs": [],
   "source": [
    "#Ex1\n",
    "image1,image1_seg = findImage('ISIC_0007156')\n",
    "\n",
    "f, axes = plt.subplots(1,2,figsize=(10,5))\n",
    "axes[0].imshow(image1)\n",
    "axes[1].imshow(image1_seg)"
   ]
  },
  {
   "cell_type": "code",
   "execution_count": null,
   "metadata": {},
   "outputs": [],
   "source": [
    "#Ex2\n",
    "#Dimensions are the same, but the first image has rgb, whereas the second just 0 and 1 \n",
    "print(image1.shape)\n",
    "print(image1_seg.shape)"
   ]
  },
  {
   "cell_type": "code",
   "execution_count": null,
   "metadata": {
    "scrolled": false
   },
   "outputs": [],
   "source": [
    "#Ex3 - max width, max height, max diameter\n",
    "#plt.imshow(image1_seg)\n",
    "\n",
    "circle = np.where(image1_seg==1)\n",
    "\n",
    "pixels = []\n",
    "for i in range(len(circle[0])):\n",
    "    pixels.append((circle[0][i],circle[1][i]))\n",
    "\n",
    "pixels #coordinates of the lesion\n",
    "\n",
    "#Max width, max height\n",
    "print(\"Max height\", max(circle[0]) - min(circle[0]))\n",
    "print(\"Max width\", max(circle[1])-min(circle[1]))"
   ]
  },
  {
   "cell_type": "code",
   "execution_count": null,
   "metadata": {},
   "outputs": [],
   "source": [
    "#Ex4 mask out around skin lesion\n",
    "\n",
    "mask = image1_seg == 0\n",
    "copy = image1.copy()\n",
    "copy[mask] = [0,0,0]\n",
    "plt.imshow(copy)"
   ]
  },
  {
   "cell_type": "code",
   "execution_count": null,
   "metadata": {},
   "outputs": [],
   "source": [
    "#Ex5 color, and fill the whole place with the colour\n",
    "list(copy[1000,1200])\n",
    "mask2 = image1_seg == 1\n",
    "\n",
    "copy[mask2] = list(copy[1000,1200])\n",
    "\n",
    "plt.imshow(copy)"
   ]
  },
  {
   "cell_type": "code",
   "execution_count": null,
   "metadata": {},
   "outputs": [],
   "source": []
  }
 ],
 "metadata": {
  "kernelspec": {
   "display_name": "Python 3",
   "language": "python",
   "name": "python3"
  },
  "language_info": {
   "codemirror_mode": {
    "name": "ipython",
    "version": 3
   },
   "file_extension": ".py",
   "mimetype": "text/x-python",
   "name": "python",
   "nbconvert_exporter": "python",
   "pygments_lexer": "ipython3",
   "version": "3.8.8"
  }
 },
 "nbformat": 4,
 "nbformat_minor": 4
}
