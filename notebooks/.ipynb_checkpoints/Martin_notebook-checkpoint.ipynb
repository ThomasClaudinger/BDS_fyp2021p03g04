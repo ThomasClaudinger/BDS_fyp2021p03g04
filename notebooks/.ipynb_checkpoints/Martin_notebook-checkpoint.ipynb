{
 "cells": [
  {
   "cell_type": "code",
   "execution_count": 1,
   "metadata": {},
   "outputs": [],
   "source": [
    "import pandas as pd\n",
    "import matplotlib.pyplot as plt\n",
    "import numpy as np\n",
    "import math\n",
    "from skimage import morphology\n",
    "import matplotlib.image as mpimg\n",
    "import random\n",
    "from sklearn.cluster import KMeans\n",
    "import cv2\n",
    "from collections import Counter\n",
    "from skimage.color import rgb2lab, deltaE_cie76\n",
    "import os\n",
    "from PIL import ImageColor\n",
    "from sklearn.model_selection import cross_val_score\n",
    "from sklearn.model_selection import train_test_split\n",
    "from sklearn.neighbors import KNeighborsClassifier\n",
    "from sklearn.metrics import accuracy_score"
   ]
  },
  {
   "cell_type": "code",
   "execution_count": 2,
   "metadata": {},
   "outputs": [],
   "source": [
    "features = pd.read_csv(r'../features/features.csv')\n",
    "ground_truth = pd.read_csv(r\"../data/example_ground_truth.csv\")\n"
   ]
  },
  {
   "cell_type": "markdown",
   "metadata": {},
   "source": [
    "## Functions"
   ]
  },
  {
   "cell_type": "code",
   "execution_count": 3,
   "metadata": {},
   "outputs": [],
   "source": [
    "def calculate_area(image):\n",
    "    \"\"\"\n",
    "    image = a numpy array\n",
    "    \"\"\"\n",
    "    return np.sum(image)\n",
    "\n",
    "def calculate_border(image,thickness):\n",
    "    \"\"\"\n",
    "    image = np array of a picture\n",
    "    thicness = an integer of the thiccness of the border\n",
    "    returns = the border of the figure\n",
    "    \"\"\"\n",
    "    struct_el = morphology.disk(thickness)\n",
    "    mask_eroded = morphology.binary_erosion(image, struct_el)\n",
    "    return calculate_area(image)-np.sum(mask_eroded)\n",
    "\n",
    "\n",
    "def compactness(area, border):\n",
    "    \"\"\"\n",
    "    area = the area of the figure\n",
    "    border = the circumference of the figure\n",
    "    return = returns the compactness\n",
    "    \"\"\"\n",
    "    top = border**2\n",
    "    bot = 4*math.pi*area\n",
    "    return top/bot\n",
    "\n",
    "def RGB2HEX(color):\n",
    "    return \"#{:02x}{:02x}{:02x}\".format(int(color[0]), int(color[1]), int(color[2]))\n",
    "\n",
    "\n",
    "\n",
    "def average_colour(image,segmentation):\n",
    "    mask = segmentation == 1\n",
    "    copy = image.copy()\n",
    "    r = np.mean(copy[mask,0])\n",
    "    g = np.mean(copy[mask,1])\n",
    "    b = np.mean(copy[mask,2])\n",
    "    #num_of_pixels = copy[mask].shape[0]\n",
    "    return [r,g,b]\n",
    "\n",
    "def deviation_of_colour(image,segmentation):\n",
    "    mask = segmentation == 1\n",
    "    copy = image.copy()\n",
    "    r = np.std(copy[mask,0])\n",
    "    g = np.std(copy[mask,1])\n",
    "    b = np.std(copy[mask,2])\n",
    "    return [r,g,b]\n",
    "\n",
    "def average_luminosity(image,segmentation):\n",
    "    avg_colour = average_colour(image,segmentation)\n",
    "    return 0.299*avg_colour[0] + 0.587*avg_colour[1] + 0.114*avg_colour[2]\n",
    "\n",
    "def deviation_luminosity(image,segmentation):\n",
    "    deviation_colour = deviation_of_colour(image,segmentation)\n",
    "    return np.sqrt(0.299**2*deviation_colour[0]**2 + 0.587**2*deviation_colour[1]**2 + 0.114**2*deviation_colour[2]**2)\n",
    "\n",
    "def findImage(image_id):\n",
    "    image = plt.imread('../data/example_image/'+image_id+'.jpg')\n",
    "    image_seg = plt.imread('../data/example_segmentation/'+image_id+'_segmentation.png')\n",
    "    return image,image_seg\n",
    "\n",
    "def make_knn_prediction(k):\n",
    "    neigh = KNeighborsClassifier(n_neighbors=k)\n",
    "    neigh.fit(x_train, y_train)\n",
    "    return neigh.predict(x_test)\n",
    "\n",
    "def from_rgb_to_int(df):\n",
    "    placeholder = [RGB2HEX(elm) for elm in df]\n",
    "    hex_val = [int(\"0x\" + elm[1:],0) for elm in placeholder]\n",
    "    return hex_val\n",
    "\n",
    "def knn_model_constructor(k,training,labels):\n",
    "    model = KNeighborsClassifier(n_neighbors=k)\n",
    "    model.fit(training, labels)\n",
    "    return model"
   ]
  },
  {
   "cell_type": "code",
   "execution_count": null,
   "metadata": {},
   "outputs": [],
   "source": []
  },
  {
   "cell_type": "markdown",
   "metadata": {},
   "source": [
    "## Here we load in the data"
   ]
  },
  {
   "cell_type": "code",
   "execution_count": 4,
   "metadata": {},
   "outputs": [],
   "source": [
    "#Reading ground truth\n",
    "ground_truth = pd.read_csv(\"../data/example_ground_truth.csv\")"
   ]
  },
  {
   "cell_type": "code",
   "execution_count": 5,
   "metadata": {},
   "outputs": [],
   "source": [
    "#read file features\n",
    "file_features_df = pd.read_csv(\"../features/features.csv\")"
   ]
  },
  {
   "cell_type": "code",
   "execution_count": 6,
   "metadata": {},
   "outputs": [],
   "source": [
    "#rename column 'id' to 'image_id'\n",
    "file_features_df.rename(columns={'id': 'image_id'}, inplace=True)"
   ]
  },
  {
   "cell_type": "code",
   "execution_count": 7,
   "metadata": {},
   "outputs": [],
   "source": [
    "#rename column 'id' to 'image_id'\n",
    "file_features_df.rename(columns={'id': 'image_id'}, inplace=True)"
   ]
  },
  {
   "cell_type": "code",
   "execution_count": 8,
   "metadata": {},
   "outputs": [],
   "source": [
    "all_feature_merge = file_features_df.merge(ground_truth, on='image_id', how='right')"
   ]
  },
  {
   "cell_type": "code",
   "execution_count": 9,
   "metadata": {},
   "outputs": [
    {
     "data": {
      "text/html": [
       "<div>\n",
       "<style scoped>\n",
       "    .dataframe tbody tr th:only-of-type {\n",
       "        vertical-align: middle;\n",
       "    }\n",
       "\n",
       "    .dataframe tbody tr th {\n",
       "        vertical-align: top;\n",
       "    }\n",
       "\n",
       "    .dataframe thead th {\n",
       "        text-align: right;\n",
       "    }\n",
       "</style>\n",
       "<table border=\"1\" class=\"dataframe\">\n",
       "  <thead>\n",
       "    <tr style=\"text-align: right;\">\n",
       "      <th></th>\n",
       "      <th>image_id</th>\n",
       "      <th>area</th>\n",
       "      <th>perimeter</th>\n",
       "      <th>melanoma</th>\n",
       "      <th>seborrheic_keratosis</th>\n",
       "    </tr>\n",
       "  </thead>\n",
       "  <tbody>\n",
       "    <tr>\n",
       "      <td>0</td>\n",
       "      <td>ISIC_0001769</td>\n",
       "      <td>216160.0</td>\n",
       "      <td>2013.0</td>\n",
       "      <td>0.0</td>\n",
       "      <td>0.0</td>\n",
       "    </tr>\n",
       "    <tr>\n",
       "      <td>1</td>\n",
       "      <td>ISIC_0001852</td>\n",
       "      <td>130493.0</td>\n",
       "      <td>1372.0</td>\n",
       "      <td>0.0</td>\n",
       "      <td>0.0</td>\n",
       "    </tr>\n",
       "    <tr>\n",
       "      <td>2</td>\n",
       "      <td>ISIC_0001871</td>\n",
       "      <td>205116.0</td>\n",
       "      <td>1720.0</td>\n",
       "      <td>0.0</td>\n",
       "      <td>0.0</td>\n",
       "    </tr>\n",
       "    <tr>\n",
       "      <td>3</td>\n",
       "      <td>ISIC_0003462</td>\n",
       "      <td>161705.0</td>\n",
       "      <td>1344.0</td>\n",
       "      <td>0.0</td>\n",
       "      <td>0.0</td>\n",
       "    </tr>\n",
       "    <tr>\n",
       "      <td>4</td>\n",
       "      <td>ISIC_0003539</td>\n",
       "      <td>317040.0</td>\n",
       "      <td>2063.0</td>\n",
       "      <td>0.0</td>\n",
       "      <td>0.0</td>\n",
       "    </tr>\n",
       "    <tr>\n",
       "      <td>...</td>\n",
       "      <td>...</td>\n",
       "      <td>...</td>\n",
       "      <td>...</td>\n",
       "      <td>...</td>\n",
       "      <td>...</td>\n",
       "    </tr>\n",
       "    <tr>\n",
       "      <td>145</td>\n",
       "      <td>ISIC_0015443</td>\n",
       "      <td>9732988.0</td>\n",
       "      <td>13775.0</td>\n",
       "      <td>0.0</td>\n",
       "      <td>0.0</td>\n",
       "    </tr>\n",
       "    <tr>\n",
       "      <td>146</td>\n",
       "      <td>ISIC_0015445</td>\n",
       "      <td>12049938.0</td>\n",
       "      <td>19517.0</td>\n",
       "      <td>0.0</td>\n",
       "      <td>0.0</td>\n",
       "    </tr>\n",
       "    <tr>\n",
       "      <td>147</td>\n",
       "      <td>ISIC_0015483</td>\n",
       "      <td>8856478.0</td>\n",
       "      <td>13813.0</td>\n",
       "      <td>0.0</td>\n",
       "      <td>0.0</td>\n",
       "    </tr>\n",
       "    <tr>\n",
       "      <td>148</td>\n",
       "      <td>ISIC_0015496</td>\n",
       "      <td>8951522.0</td>\n",
       "      <td>13742.0</td>\n",
       "      <td>0.0</td>\n",
       "      <td>0.0</td>\n",
       "    </tr>\n",
       "    <tr>\n",
       "      <td>149</td>\n",
       "      <td>ISIC_0015627</td>\n",
       "      <td>3193093.0</td>\n",
       "      <td>8751.0</td>\n",
       "      <td>0.0</td>\n",
       "      <td>0.0</td>\n",
       "    </tr>\n",
       "  </tbody>\n",
       "</table>\n",
       "<p>150 rows × 5 columns</p>\n",
       "</div>"
      ],
      "text/plain": [
       "         image_id        area  perimeter  melanoma  seborrheic_keratosis\n",
       "0    ISIC_0001769    216160.0     2013.0       0.0                   0.0\n",
       "1    ISIC_0001852    130493.0     1372.0       0.0                   0.0\n",
       "2    ISIC_0001871    205116.0     1720.0       0.0                   0.0\n",
       "3    ISIC_0003462    161705.0     1344.0       0.0                   0.0\n",
       "4    ISIC_0003539    317040.0     2063.0       0.0                   0.0\n",
       "..            ...         ...        ...       ...                   ...\n",
       "145  ISIC_0015443   9732988.0    13775.0       0.0                   0.0\n",
       "146  ISIC_0015445  12049938.0    19517.0       0.0                   0.0\n",
       "147  ISIC_0015483   8856478.0    13813.0       0.0                   0.0\n",
       "148  ISIC_0015496   8951522.0    13742.0       0.0                   0.0\n",
       "149  ISIC_0015627   3193093.0     8751.0       0.0                   0.0\n",
       "\n",
       "[150 rows x 5 columns]"
      ]
     },
     "execution_count": 9,
     "metadata": {},
     "output_type": "execute_result"
    }
   ],
   "source": [
    "all_feature_merge"
   ]
  },
  {
   "cell_type": "code",
   "execution_count": 10,
   "metadata": {},
   "outputs": [],
   "source": [
    "label = []\n",
    "for elm in zip(all_feature_merge['melanoma'],all_feature_merge['seborrheic_keratosis']):\n",
    "    \n",
    "    if elm[0] == 1.0:\n",
    "        #print(\"hej\")\n",
    "        label.append(1.0)\n",
    "    if elm[1] == 1.0:\n",
    "        label.append(2.0)\n",
    "    if (elm[0] == 0.0) and (elm[1] == 0.0):\n",
    "        label.append(0)\n",
    "    #print(type(elm[0]))\n",
    "#len(label)\n",
    "all_feature_merge['label'] = label"
   ]
  },
  {
   "cell_type": "code",
   "execution_count": 11,
   "metadata": {},
   "outputs": [],
   "source": [
    "label = []\n",
    "for elm in zip(all_feature_merge['melanoma'],all_feature_merge['seborrheic_keratosis']):\n",
    "    \n",
    "    if elm[0] == 1.0 or elm[1] == 1.0:\n",
    "        #print(\"hej\")\n",
    "        label.append(1.0)\n",
    "    else:\n",
    "        label.append(0.0)\n",
    "    #print(type(elm[0]))\n",
    "#len(label)\n",
    "all_feature_merge['label'] = label"
   ]
  },
  {
   "cell_type": "code",
   "execution_count": 13,
   "metadata": {},
   "outputs": [
    {
     "data": {
      "text/plain": [
       "Counter({0.0: 78, 1.0: 72})"
      ]
     },
     "execution_count": 13,
     "metadata": {},
     "output_type": "execute_result"
    }
   ],
   "source": [
    "all_feature_merge['label']"
   ]
  },
  {
   "cell_type": "code",
   "execution_count": 14,
   "metadata": {
    "scrolled": true
   },
   "outputs": [
    {
     "name": "stdout",
     "output_type": "stream",
     "text": [
      "ISIC_0001769 0\n",
      "ISIC_0001852 1\n",
      "ISIC_0001871 2\n",
      "ISIC_0003462 3\n",
      "ISIC_0003539 4\n",
      "ISIC_0003582 5\n",
      "ISIC_0003657 6\n",
      "ISIC_0003805 7\n",
      "ISIC_0004337 8\n",
      "ISIC_0006651 9\n",
      "ISIC_0006671 10\n",
      "ISIC_0006815 11\n",
      "ISIC_0006914 12\n",
      "ISIC_0007141 13\n",
      "ISIC_0007156 14\n",
      "ISIC_0007235 15\n",
      "ISIC_0007241 16\n",
      "ISIC_0007332 17\n",
      "ISIC_0007344 18\n",
      "ISIC_0007528 19\n",
      "ISIC_0007796 20\n",
      "ISIC_0008025 21\n",
      "ISIC_0008524 22\n",
      "ISIC_0009995 23\n",
      "ISIC_0010459 24\n",
      "ISIC_0012099 25\n",
      "ISIC_0012109 26\n",
      "ISIC_0012126 27\n",
      "ISIC_0012127 28\n",
      "ISIC_0012143 29\n",
      "ISIC_0012151 30\n",
      "ISIC_0012159 31\n",
      "ISIC_0012160 32\n",
      "ISIC_0012191 33\n",
      "ISIC_0012201 34\n",
      "ISIC_0012204 35\n",
      "ISIC_0012206 36\n",
      "ISIC_0012210 37\n",
      "ISIC_0012221 38\n",
      "ISIC_0012222 39\n",
      "ISIC_0012254 40\n",
      "ISIC_0012256 41\n",
      "ISIC_0012288 42\n",
      "ISIC_0012306 43\n",
      "ISIC_0012313 44\n",
      "ISIC_0012316 45\n",
      "ISIC_0012335 46\n",
      "ISIC_0012380 47\n",
      "ISIC_0012383 48\n",
      "ISIC_0012400 49\n",
      "ISIC_0012417 50\n",
      "ISIC_0012434 51\n",
      "ISIC_0012492 52\n",
      "ISIC_0012513 53\n",
      "ISIC_0012538 54\n",
      "ISIC_0012547 55\n",
      "ISIC_0012660 56\n",
      "ISIC_0012684 57\n",
      "ISIC_0012720 58\n",
      "ISIC_0012746 59\n",
      "ISIC_0012876 60\n",
      "ISIC_0012927 61\n",
      "ISIC_0012956 62\n",
      "ISIC_0012959 63\n",
      "ISIC_0012965 64\n",
      "ISIC_0013010 65\n",
      "ISIC_0013082 66\n",
      "ISIC_0013104 67\n",
      "ISIC_0013127 68\n",
      "ISIC_0013128 69\n",
      "ISIC_0013132 70\n",
      "ISIC_0013188 71\n",
      "ISIC_0013215 72\n",
      "ISIC_0013232 73\n",
      "ISIC_0013421 74\n",
      "ISIC_0013491 75\n",
      "ISIC_0013501 76\n",
      "ISIC_0013518 77\n",
      "ISIC_0013527 78\n",
      "ISIC_0013549 79\n",
      "ISIC_0013561 80\n",
      "ISIC_0013562 81\n",
      "ISIC_0013632 82\n",
      "ISIC_0013637 83\n",
      "ISIC_0013644 84\n",
      "ISIC_0013651 85\n",
      "ISIC_0013663 86\n",
      "ISIC_0013702 87\n",
      "ISIC_0013736 88\n",
      "ISIC_0013793 89\n",
      "ISIC_0013828 90\n",
      "ISIC_0013863 91\n",
      "ISIC_0013898 92\n",
      "ISIC_0013945 93\n",
      "ISIC_0014037 94\n",
      "ISIC_0014038 95\n",
      "ISIC_0014055 96\n",
      "ISIC_0014139 97\n",
      "ISIC_0014162 98\n",
      "ISIC_0014178 99\n",
      "ISIC_0014211 100\n",
      "ISIC_0014212 101\n",
      "ISIC_0014217 102\n",
      "ISIC_0014302 103\n",
      "ISIC_0014310 104\n",
      "ISIC_0014382 105\n",
      "ISIC_0014428 106\n",
      "ISIC_0014558 107\n",
      "ISIC_0014568 108\n",
      "ISIC_0014572 109\n",
      "ISIC_0014597 110\n",
      "ISIC_0014601 111\n",
      "ISIC_0014608 112\n",
      "ISIC_0014610 113\n",
      "ISIC_0014611 114\n",
      "ISIC_0014616 115\n",
      "ISIC_0014618 116\n",
      "ISIC_0014620 117\n",
      "ISIC_0014623 118\n",
      "ISIC_0014624 119\n",
      "ISIC_0014633 120\n",
      "ISIC_0014635 121\n",
      "ISIC_0014637 122\n",
      "ISIC_0014688 123\n",
      "ISIC_0014712 124\n",
      "ISIC_0014809 125\n",
      "ISIC_0014829 126\n",
      "ISIC_0014857 127\n",
      "ISIC_0014931 128\n",
      "ISIC_0014937 129\n",
      "ISIC_0014945 130\n",
      "ISIC_0014946 131\n",
      "ISIC_0014979 132\n",
      "ISIC_0014985 133\n",
      "ISIC_0014989 134\n",
      "ISIC_0015043 135\n",
      "ISIC_0015062 136\n",
      "ISIC_0015124 137\n",
      "ISIC_0015144 138\n",
      "ISIC_0015211 139\n",
      "ISIC_0015243 140\n",
      "ISIC_0015256 141\n",
      "ISIC_0015313 142\n",
      "ISIC_0015372 143\n",
      "ISIC_0015401 144\n",
      "ISIC_0015443 145\n",
      "ISIC_0015445 146\n",
      "ISIC_0015483 147\n",
      "ISIC_0015496 148\n",
      "ISIC_0015627 149\n"
     ]
    }
   ],
   "source": [
    "\n",
    "#Export features from images\n",
    "data = pd.DataFrame()\n",
    "count = 0\n",
    "rows = []\n",
    "for image_id in all_feature_merge['image_id']:\n",
    "    print(image_id,count)\n",
    "    \n",
    "    image = plt.imread('../data/example_image/'+image_id+'.jpg')\n",
    "    image_seg = plt.imread('../data/example_segmentation/'+image_id+'_segmentation.png')\n",
    "    #data['image_id'] = image_id\n",
    "    real_area = int(all_feature_merge[all_feature_merge['image_id'] == image_id]['area'])\n",
    "    real_perimeter = int(all_feature_merge[all_feature_merge['image_id'] == image_id]['perimeter'])\n",
    "    thing = all_feature_merge['image_id'] == image_id\n",
    "    label = int(all_feature_merge[thing]['label'])\n",
    "\n",
    "    calculated_area = int(calculate_area(image_seg))\n",
    "    calculated_perimeter = calculate_border(image_seg,2)\n",
    "    imgCompactness = compactness(calculate_area(image_seg),calculate_border(image_seg,1))\n",
    "    average_rgb = average_colour(image,image_seg)\n",
    "    deviation_of_rgb = deviation_of_colour(image,image_seg)\n",
    "    average_luminosity_img = average_luminosity(image,image_seg)\n",
    "    deviation_luminosity_img = deviation_luminosity(image,image_seg)\n",
    "    row = [label,image_id, real_area, real_perimeter,calculated_area,calculated_perimeter,imgCompactness,average_rgb,deviation_of_rgb,average_luminosity_img,deviation_luminosity_img]\n",
    "    rows.append(row)\n",
    "    count+= 1\n",
    "\n",
    "data = pd.DataFrame(rows, columns = ['label','image_id','real_area','real_perimeter','calculated_area','calculated_perimeter','compactness','average_rgb','deviation_of_colour','average_luminosity','deviation_luminosity'])"
   ]
  },
  {
   "cell_type": "code",
   "execution_count": null,
   "metadata": {
    "scrolled": true
   },
   "outputs": [],
   "source": [
    "backup = data.copy()"
   ]
  },
  {
   "cell_type": "code",
   "execution_count": 15,
   "metadata": {
    "scrolled": true
   },
   "outputs": [
    {
     "data": {
      "text/html": [
       "<div>\n",
       "<style scoped>\n",
       "    .dataframe tbody tr th:only-of-type {\n",
       "        vertical-align: middle;\n",
       "    }\n",
       "\n",
       "    .dataframe tbody tr th {\n",
       "        vertical-align: top;\n",
       "    }\n",
       "\n",
       "    .dataframe thead th {\n",
       "        text-align: right;\n",
       "    }\n",
       "</style>\n",
       "<table border=\"1\" class=\"dataframe\">\n",
       "  <thead>\n",
       "    <tr style=\"text-align: right;\">\n",
       "      <th></th>\n",
       "      <th>label</th>\n",
       "      <th>image_id</th>\n",
       "      <th>real_area</th>\n",
       "      <th>real_perimeter</th>\n",
       "      <th>calculated_area</th>\n",
       "      <th>calculated_perimeter</th>\n",
       "      <th>compactness</th>\n",
       "      <th>average_rgb</th>\n",
       "      <th>deviation_of_colour</th>\n",
       "      <th>average_luminosity</th>\n",
       "      <th>deviation_luminosity</th>\n",
       "    </tr>\n",
       "  </thead>\n",
       "  <tbody>\n",
       "    <tr>\n",
       "      <td>0</td>\n",
       "      <td>0</td>\n",
       "      <td>ISIC_0001769</td>\n",
       "      <td>216160</td>\n",
       "      <td>2013</td>\n",
       "      <td>216160</td>\n",
       "      <td>3982.0</td>\n",
       "      <td>1.491772</td>\n",
       "      <td>[162.07149333826794, 99.30780440414507, 67.786...</td>\n",
       "      <td>[12.205123532436513, 18.754262929408846, 19.89...</td>\n",
       "      <td>114.480686</td>\n",
       "      <td>11.817479</td>\n",
       "    </tr>\n",
       "    <tr>\n",
       "      <td>1</td>\n",
       "      <td>0</td>\n",
       "      <td>ISIC_0001852</td>\n",
       "      <td>130493</td>\n",
       "      <td>1372</td>\n",
       "      <td>130493</td>\n",
       "      <td>2718.0</td>\n",
       "      <td>1.147919</td>\n",
       "      <td>[116.74907466300874, 54.64894668679546, 33.087...</td>\n",
       "      <td>[31.27789052350099, 32.07510414646571, 25.0998...</td>\n",
       "      <td>70.758871</td>\n",
       "      <td>21.216643</td>\n",
       "    </tr>\n",
       "    <tr>\n",
       "      <td>2</td>\n",
       "      <td>0</td>\n",
       "      <td>ISIC_0001871</td>\n",
       "      <td>205116</td>\n",
       "      <td>1720</td>\n",
       "      <td>205116</td>\n",
       "      <td>3412.0</td>\n",
       "      <td>1.147751</td>\n",
       "      <td>[182.21681390042707, 134.7412049766961, 102.53...</td>\n",
       "      <td>[6.3898744270946, 12.975379982675513, 19.33878...</td>\n",
       "      <td>145.265327</td>\n",
       "      <td>8.156129</td>\n",
       "    </tr>\n",
       "    <tr>\n",
       "      <td>3</td>\n",
       "      <td>0</td>\n",
       "      <td>ISIC_0003462</td>\n",
       "      <td>161705</td>\n",
       "      <td>1344</td>\n",
       "      <td>161705</td>\n",
       "      <td>2683.0</td>\n",
       "      <td>0.888925</td>\n",
       "      <td>[165.82234315574658, 116.78643826721499, 87.55...</td>\n",
       "      <td>[13.467871330386464, 27.312125552850148, 34.95...</td>\n",
       "      <td>128.115611</td>\n",
       "      <td>17.003706</td>\n",
       "    </tr>\n",
       "    <tr>\n",
       "      <td>4</td>\n",
       "      <td>0</td>\n",
       "      <td>ISIC_0003539</td>\n",
       "      <td>317040</td>\n",
       "      <td>2063</td>\n",
       "      <td>317040</td>\n",
       "      <td>4120.0</td>\n",
       "      <td>1.068254</td>\n",
       "      <td>[165.12712276053495, 99.63897930860459, 63.168...</td>\n",
       "      <td>[23.770632535623616, 33.005983134923085, 30.47...</td>\n",
       "      <td>115.062269</td>\n",
       "      <td>20.927490</td>\n",
       "    </tr>\n",
       "    <tr>\n",
       "      <td>...</td>\n",
       "      <td>...</td>\n",
       "      <td>...</td>\n",
       "      <td>...</td>\n",
       "      <td>...</td>\n",
       "      <td>...</td>\n",
       "      <td>...</td>\n",
       "      <td>...</td>\n",
       "      <td>...</td>\n",
       "      <td>...</td>\n",
       "      <td>...</td>\n",
       "      <td>...</td>\n",
       "    </tr>\n",
       "    <tr>\n",
       "      <td>145</td>\n",
       "      <td>0</td>\n",
       "      <td>ISIC_0015443</td>\n",
       "      <td>9732988</td>\n",
       "      <td>13775</td>\n",
       "      <td>9732988</td>\n",
       "      <td>27463.0</td>\n",
       "      <td>1.551412</td>\n",
       "      <td>[139.39421737702747, 89.18466076399149, 63.660...</td>\n",
       "      <td>[14.693926319508012, 21.175403762962702, 27.40...</td>\n",
       "      <td>101.287584</td>\n",
       "      <td>13.548701</td>\n",
       "    </tr>\n",
       "    <tr>\n",
       "      <td>146</td>\n",
       "      <td>0</td>\n",
       "      <td>ISIC_0015445</td>\n",
       "      <td>12049938</td>\n",
       "      <td>19517</td>\n",
       "      <td>12049938</td>\n",
       "      <td>39025.0</td>\n",
       "      <td>2.515541</td>\n",
       "      <td>[154.57732197460268, 91.72927727926898, 82.038...</td>\n",
       "      <td>[47.62813987684408, 41.48168846201185, 40.1837...</td>\n",
       "      <td>109.416063</td>\n",
       "      <td>28.577897</td>\n",
       "    </tr>\n",
       "    <tr>\n",
       "      <td>147</td>\n",
       "      <td>0</td>\n",
       "      <td>ISIC_0015483</td>\n",
       "      <td>8856478</td>\n",
       "      <td>13813</td>\n",
       "      <td>8856478</td>\n",
       "      <td>27534.0</td>\n",
       "      <td>1.714372</td>\n",
       "      <td>[142.42447065300675, 105.85834335048311, 92.20...</td>\n",
       "      <td>[38.30387070156361, 34.627307043981304, 33.481...</td>\n",
       "      <td>115.234832</td>\n",
       "      <td>23.640907</td>\n",
       "    </tr>\n",
       "    <tr>\n",
       "      <td>148</td>\n",
       "      <td>0</td>\n",
       "      <td>ISIC_0015496</td>\n",
       "      <td>8951522</td>\n",
       "      <td>13742</td>\n",
       "      <td>8951522</td>\n",
       "      <td>27392.0</td>\n",
       "      <td>1.678778</td>\n",
       "      <td>[172.3990948131502, 98.74436403105528, 77.7044...</td>\n",
       "      <td>[71.20114045798132, 56.41305374592664, 50.9847...</td>\n",
       "      <td>118.368574</td>\n",
       "      <td>39.794190</td>\n",
       "    </tr>\n",
       "    <tr>\n",
       "      <td>149</td>\n",
       "      <td>0</td>\n",
       "      <td>ISIC_0015627</td>\n",
       "      <td>3193093</td>\n",
       "      <td>8751</td>\n",
       "      <td>3193093</td>\n",
       "      <td>17431.0</td>\n",
       "      <td>1.908508</td>\n",
       "      <td>[147.31902453201332, 57.81611465748101, 30.184...</td>\n",
       "      <td>[25.55400332278325, 23.24861680888407, 21.9983...</td>\n",
       "      <td>81.427437</td>\n",
       "      <td>15.840060</td>\n",
       "    </tr>\n",
       "  </tbody>\n",
       "</table>\n",
       "<p>150 rows × 11 columns</p>\n",
       "</div>"
      ],
      "text/plain": [
       "     label      image_id  real_area  real_perimeter  calculated_area  \\\n",
       "0        0  ISIC_0001769     216160            2013           216160   \n",
       "1        0  ISIC_0001852     130493            1372           130493   \n",
       "2        0  ISIC_0001871     205116            1720           205116   \n",
       "3        0  ISIC_0003462     161705            1344           161705   \n",
       "4        0  ISIC_0003539     317040            2063           317040   \n",
       "..     ...           ...        ...             ...              ...   \n",
       "145      0  ISIC_0015443    9732988           13775          9732988   \n",
       "146      0  ISIC_0015445   12049938           19517         12049938   \n",
       "147      0  ISIC_0015483    8856478           13813          8856478   \n",
       "148      0  ISIC_0015496    8951522           13742          8951522   \n",
       "149      0  ISIC_0015627    3193093            8751          3193093   \n",
       "\n",
       "     calculated_perimeter  compactness  \\\n",
       "0                  3982.0     1.491772   \n",
       "1                  2718.0     1.147919   \n",
       "2                  3412.0     1.147751   \n",
       "3                  2683.0     0.888925   \n",
       "4                  4120.0     1.068254   \n",
       "..                    ...          ...   \n",
       "145               27463.0     1.551412   \n",
       "146               39025.0     2.515541   \n",
       "147               27534.0     1.714372   \n",
       "148               27392.0     1.678778   \n",
       "149               17431.0     1.908508   \n",
       "\n",
       "                                           average_rgb  \\\n",
       "0    [162.07149333826794, 99.30780440414507, 67.786...   \n",
       "1    [116.74907466300874, 54.64894668679546, 33.087...   \n",
       "2    [182.21681390042707, 134.7412049766961, 102.53...   \n",
       "3    [165.82234315574658, 116.78643826721499, 87.55...   \n",
       "4    [165.12712276053495, 99.63897930860459, 63.168...   \n",
       "..                                                 ...   \n",
       "145  [139.39421737702747, 89.18466076399149, 63.660...   \n",
       "146  [154.57732197460268, 91.72927727926898, 82.038...   \n",
       "147  [142.42447065300675, 105.85834335048311, 92.20...   \n",
       "148  [172.3990948131502, 98.74436403105528, 77.7044...   \n",
       "149  [147.31902453201332, 57.81611465748101, 30.184...   \n",
       "\n",
       "                                   deviation_of_colour  average_luminosity  \\\n",
       "0    [12.205123532436513, 18.754262929408846, 19.89...          114.480686   \n",
       "1    [31.27789052350099, 32.07510414646571, 25.0998...           70.758871   \n",
       "2    [6.3898744270946, 12.975379982675513, 19.33878...          145.265327   \n",
       "3    [13.467871330386464, 27.312125552850148, 34.95...          128.115611   \n",
       "4    [23.770632535623616, 33.005983134923085, 30.47...          115.062269   \n",
       "..                                                 ...                 ...   \n",
       "145  [14.693926319508012, 21.175403762962702, 27.40...          101.287584   \n",
       "146  [47.62813987684408, 41.48168846201185, 40.1837...          109.416063   \n",
       "147  [38.30387070156361, 34.627307043981304, 33.481...          115.234832   \n",
       "148  [71.20114045798132, 56.41305374592664, 50.9847...          118.368574   \n",
       "149  [25.55400332278325, 23.24861680888407, 21.9983...           81.427437   \n",
       "\n",
       "     deviation_luminosity  \n",
       "0               11.817479  \n",
       "1               21.216643  \n",
       "2                8.156129  \n",
       "3               17.003706  \n",
       "4               20.927490  \n",
       "..                    ...  \n",
       "145             13.548701  \n",
       "146             28.577897  \n",
       "147             23.640907  \n",
       "148             39.794190  \n",
       "149             15.840060  \n",
       "\n",
       "[150 rows x 11 columns]"
      ]
     },
     "execution_count": 15,
     "metadata": {},
     "output_type": "execute_result"
    }
   ],
   "source": [
    "data"
   ]
  },
  {
   "cell_type": "markdown",
   "metadata": {},
   "source": [
    "## Testing and cross validation"
   ]
  },
  {
   "cell_type": "markdown",
   "metadata": {},
   "source": [
    "### test 01"
   ]
  },
  {
   "cell_type": "code",
   "execution_count": null,
   "metadata": {
    "scrolled": true
   },
   "outputs": [],
   "source": [
    "data = data.drop(columns = ['average_rgb','deviation_of_colour'])"
   ]
  },
  {
   "cell_type": "code",
   "execution_count": null,
   "metadata": {},
   "outputs": [],
   "source": [
    "np_data = np.array(data.iloc[:,2:11])"
   ]
  },
  {
   "cell_type": "code",
   "execution_count": null,
   "metadata": {},
   "outputs": [],
   "source": [
    "label = np.array(data.iloc[:,0:1])"
   ]
  },
  {
   "cell_type": "code",
   "execution_count": null,
   "metadata": {},
   "outputs": [],
   "source": [
    "label = [int(x) for x in label]"
   ]
  },
  {
   "cell_type": "code",
   "execution_count": null,
   "metadata": {},
   "outputs": [],
   "source": [
    "x_train, x_test, y_train, y_test = train_test_split(np_data,label,test_size=0.2, random_state = 4)"
   ]
  },
  {
   "cell_type": "code",
   "execution_count": null,
   "metadata": {},
   "outputs": [],
   "source": [
    "# Here we make a accuacy score for \n",
    "acc = []\n",
    "for i in range(1,71):\n",
    "    pred = make_knn_prediction(i) #Here i create the prediction and appending it\n",
    "    acc.append((accuracy_score(y_test, pred)))"
   ]
  },
  {
   "cell_type": "code",
   "execution_count": null,
   "metadata": {
    "scrolled": true
   },
   "outputs": [],
   "source": [
    "#Here I simply create the plot\n",
    "plt.plot\n",
    "plt.ylabel('Prediction accuracy')\n",
    "plt.xlabel('Value of K')\n",
    "plt.title('Prediction by our KNN-model for different values of k')\n",
    "plt.ylim(0.2,0.8)\n",
    "plt.plot(acc)\n",
    "plt.grid()\n",
    "plt.show()"
   ]
  },
  {
   "cell_type": "code",
   "execution_count": null,
   "metadata": {},
   "outputs": [],
   "source": [
    "# your solution to exercise 3 here\n",
    "#I create the function to make the prediction\n",
    "def make_knn_prediction(k,training,labels):\n",
    "    model = KNeighborsClassifier(n_neighbors=k)\n",
    "    model.fit(training, labels)\n",
    "    return model\n",
    "knn = make_knn_prediction(11,np_data, label)"
   ]
  },
  {
   "cell_type": "code",
   "execution_count": null,
   "metadata": {},
   "outputs": [],
   "source": [
    "scores = cross_val_score(knn, np_data, label, cv=5)"
   ]
  },
  {
   "cell_type": "code",
   "execution_count": null,
   "metadata": {
    "scrolled": true
   },
   "outputs": [],
   "source": [
    "# Here we print the average score from the cross validation\n",
    "sum(scores)/5"
   ]
  },
  {
   "cell_type": "code",
   "execution_count": null,
   "metadata": {},
   "outputs": [],
   "source": [
    "backup"
   ]
  },
  {
   "cell_type": "markdown",
   "metadata": {},
   "source": [
    "### Test 02"
   ]
  },
  {
   "cell_type": "code",
   "execution_count": null,
   "metadata": {
    "scrolled": true
   },
   "outputs": [],
   "source": [
    "backup"
   ]
  },
  {
   "cell_type": "code",
   "execution_count": null,
   "metadata": {
    "scrolled": true
   },
   "outputs": [],
   "source": [
    "hex_val = from_rgb_to_int(data['average_rgb'])\n",
    "data['average_rgb'] = hex_val"
   ]
  },
  {
   "cell_type": "code",
   "execution_count": null,
   "metadata": {},
   "outputs": [],
   "source": [
    "hex_val = from_rgb_to_int(data['deviation_of_colour'])\n",
    "data['deviation_of_colour'] = hex_val"
   ]
  },
  {
   "cell_type": "code",
   "execution_count": null,
   "metadata": {},
   "outputs": [],
   "source": [
    "for elm in data.iloc[:,2:]:\n",
    "    data[elm] = np.log10(data[elm])"
   ]
  },
  {
   "cell_type": "code",
   "execution_count": null,
   "metadata": {},
   "outputs": [],
   "source": [
    "data"
   ]
  },
  {
   "cell_type": "code",
   "execution_count": null,
   "metadata": {},
   "outputs": [],
   "source": [
    "np_data = np.array(data.iloc[:,2:])"
   ]
  },
  {
   "cell_type": "code",
   "execution_count": null,
   "metadata": {},
   "outputs": [],
   "source": [
    "label = np.array(data.iloc[:,0:1])"
   ]
  },
  {
   "cell_type": "code",
   "execution_count": null,
   "metadata": {},
   "outputs": [],
   "source": [
    "label = [int(x) for x in label]"
   ]
  },
  {
   "cell_type": "code",
   "execution_count": null,
   "metadata": {},
   "outputs": [],
   "source": [
    "x_train, x_test, y_train, y_test = train_test_split(np_data,label,test_size=0.2, random_state = 4)"
   ]
  },
  {
   "cell_type": "code",
   "execution_count": null,
   "metadata": {},
   "outputs": [],
   "source": [
    "# Here we make a accuacy score for \n",
    "acc = []\n",
    "for i in range(1,71):\n",
    "    pred = make_knn_prediction(i) #Here i create the prediction and appending it\n",
    "    acc.append((accuracy_score(y_test, pred)))"
   ]
  },
  {
   "cell_type": "code",
   "execution_count": null,
   "metadata": {},
   "outputs": [],
   "source": []
  },
  {
   "cell_type": "code",
   "execution_count": null,
   "metadata": {
    "scrolled": false
   },
   "outputs": [],
   "source": [
    "#Here I simply create the plot\n",
    "plt.plot\n",
    "plt.ylabel('Prediction accuracy')\n",
    "plt.xlabel('Value of K')\n",
    "plt.title('Prediction by our KNN-model for different values of k')\n",
    "plt.ylim(0.2,0.8)\n",
    "plt.plot(acc)\n",
    "plt.grid()\n",
    "plt.show()"
   ]
  },
  {
   "cell_type": "code",
   "execution_count": null,
   "metadata": {},
   "outputs": [],
   "source": [
    "knn = knn_model_constructor(11,np_data,label)"
   ]
  },
  {
   "cell_type": "code",
   "execution_count": null,
   "metadata": {},
   "outputs": [],
   "source": [
    "scores = cross_val_score(knn, np_data, label, cv=5)"
   ]
  },
  {
   "cell_type": "code",
   "execution_count": null,
   "metadata": {},
   "outputs": [],
   "source": [
    "# Here we print the average score from the cross validation\n",
    "sum(scores)/5"
   ]
  },
  {
   "cell_type": "code",
   "execution_count": null,
   "metadata": {},
   "outputs": [],
   "source": []
  },
  {
   "cell_type": "code",
   "execution_count": null,
   "metadata": {},
   "outputs": [],
   "source": []
  },
  {
   "cell_type": "code",
   "execution_count": null,
   "metadata": {},
   "outputs": [],
   "source": []
  },
  {
   "cell_type": "code",
   "execution_count": null,
   "metadata": {},
   "outputs": [],
   "source": []
  },
  {
   "cell_type": "code",
   "execution_count": null,
   "metadata": {},
   "outputs": [],
   "source": []
  },
  {
   "cell_type": "code",
   "execution_count": null,
   "metadata": {},
   "outputs": [],
   "source": []
  },
  {
   "cell_type": "code",
   "execution_count": null,
   "metadata": {},
   "outputs": [],
   "source": []
  },
  {
   "cell_type": "code",
   "execution_count": null,
   "metadata": {},
   "outputs": [],
   "source": []
  },
  {
   "cell_type": "code",
   "execution_count": null,
   "metadata": {},
   "outputs": [],
   "source": [
    "#Here we load the data\n",
    "#The list has the following structure\n",
    "#['id','np_array of a picture','the mask of the picture']"
   ]
  },
  {
   "cell_type": "code",
   "execution_count": null,
   "metadata": {},
   "outputs": [],
   "source": [
    "#Training data is structured the following way\n",
    "#['np_array of a picture','label']\n",
    "#In our case \n",
    "#0 == melanoma\n",
    "#1 == keratosis"
   ]
  },
  {
   "cell_type": "code",
   "execution_count": null,
   "metadata": {
    "scrolled": true
   },
   "outputs": [],
   "source": [
    "mask = ground_truth['melanoma'] == 1\n",
    "melanoma_mask = ground_truth[mask]\n",
    "\n",
    "total_data = []\n",
    "melanoma_data = []\n",
    "keratosis_data = []\n",
    "training_data = []\n",
    "x = 0\n",
    "\n",
    "for image_id in ground_truth['image_id']:\n",
    "    print(image_id,x)\n",
    "    image = plt.imread('../data/example_image/'+image_id+'.jpg') # Here we load the image\n",
    "    image_seg = plt.imread('../data/example_segmentation/'+image_id+'_segmentation.png') # Here we load the mask\n",
    "    if image_id in list(melanoma_mask['image_id']): # If the image id is in the melanoma list, label it as melanoma\n",
    "        melanoma_data.append((image_id,image,image_seg)) #else label it as keratosis\n",
    "        training_data.append((image,0))\n",
    "    else:\n",
    "        keratosis_data.append((image_id,image,image_seg))\n",
    "        training_data.append((image,1))\n",
    "    total_data.append((image_id,image,image_seg)) #Here we have a list of all the data together\n",
    "    x += 1"
   ]
  },
  {
   "cell_type": "code",
   "execution_count": null,
   "metadata": {},
   "outputs": [],
   "source": [
    "len(melanoma_data)"
   ]
  },
  {
   "cell_type": "code",
   "execution_count": null,
   "metadata": {
    "scrolled": true
   },
   "outputs": [],
   "source": [
    "len(keratosis_data)"
   ]
  },
  {
   "cell_type": "code",
   "execution_count": null,
   "metadata": {},
   "outputs": [],
   "source": [
    "#read file\n",
    "file_input = pd.read_csv(\"../data/example_ground_truth.csv\")\n",
    "file_input.shape"
   ]
  },
  {
   "cell_type": "code",
   "execution_count": null,
   "metadata": {
    "scrolled": true
   },
   "outputs": [],
   "source": [
    "# data frame for images with no diagnosis\n",
    "non_malignant_df = file_input.loc[(file_input['melanoma'] == 0.0) & (file_input[\"seborrheic_keratosis\"] == 0.0)]\n",
    "non_malignant_df"
   ]
  },
  {
   "cell_type": "code",
   "execution_count": null,
   "metadata": {},
   "outputs": [],
   "source": []
  },
  {
   "cell_type": "code",
   "execution_count": null,
   "metadata": {
    "scrolled": true
   },
   "outputs": [],
   "source": [
    "#filter out all images that are not melanoma\n",
    "melanoma = file_input[file_input[\"melanoma\"] == 1.0]\n",
    "\n",
    "#remove column for keratosis\n",
    "melanoma_df = melanoma.drop([\"seborrheic_keratosis\"], axis = 1)\n",
    "melanoma_df"
   ]
  },
  {
   "cell_type": "code",
   "execution_count": null,
   "metadata": {
    "scrolled": true
   },
   "outputs": [],
   "source": [
    "#number of images left\n",
    "melanoma.shape"
   ]
  },
  {
   "cell_type": "code",
   "execution_count": null,
   "metadata": {},
   "outputs": [],
   "source": [
    "#read file features\n",
    "file_features_df = pd.read_csv(\"../features/features.csv\")\n",
    "file_features_df.shape\n",
    "\n",
    "#150 rows, 3 columns"
   ]
  },
  {
   "cell_type": "code",
   "execution_count": null,
   "metadata": {},
   "outputs": [],
   "source": [
    "#data frame for features\n",
    "file_features_df"
   ]
  },
  {
   "cell_type": "code",
   "execution_count": null,
   "metadata": {},
   "outputs": [],
   "source": [
    "#rename column 'id' to 'image_id'\n",
    "file_features_df.rename(columns={'id': 'image_id'}, inplace=True)\n",
    "\n",
    "#merge data frame for file_features_df with melanoma by column 'image_id'\n",
    "merge_feature_melanoma = file_features_df.merge(melanoma_df, on='image_id', how='right')"
   ]
  },
  {
   "cell_type": "code",
   "execution_count": null,
   "metadata": {
    "scrolled": true
   },
   "outputs": [],
   "source": [
    "#data frame for merged features and melanoma\n",
    "#this data frame shows only data related to melanoma \n",
    "\n",
    "merge_feature_melanoma"
   ]
  },
  {
   "cell_type": "code",
   "execution_count": null,
   "metadata": {},
   "outputs": [],
   "source": [
    "# size of data frame\n",
    "merge_feature_melanoma.shape"
   ]
  },
  {
   "cell_type": "code",
   "execution_count": null,
   "metadata": {
    "scrolled": true
   },
   "outputs": [],
   "source": [
    "merge_feature_non_malignant_df = file_features_df.merge(non_malignant_df, on='image_id', how='right')\n",
    "#Here we use the function isna() to check for missing values in the different columns\n",
    "merge_feature_non_malignant_df.isna().any()"
   ]
  },
  {
   "cell_type": "code",
   "execution_count": null,
   "metadata": {
    "scrolled": false
   },
   "outputs": [],
   "source": [
    "merge_feature_non_malignant_df"
   ]
  },
  {
   "cell_type": "code",
   "execution_count": null,
   "metadata": {},
   "outputs": [],
   "source": [
    "all_feature_merge = file_features_df.merge(file_input, on='image_id', how='right')"
   ]
  },
  {
   "cell_type": "markdown",
   "metadata": {},
   "source": [
    "## Final DF"
   ]
  },
  {
   "cell_type": "code",
   "execution_count": null,
   "metadata": {
    "scrolled": true
   },
   "outputs": [],
   "source": [
    "#Export features from images\n",
    "data = pd.DataFrame()\n",
    "count = 0\n",
    "rows = []\n",
    "for image_id in all_feature_merge['image_id']:\n",
    "    print(image_id,count)\n",
    "    \n",
    "    image = plt.imread('../data/example_image/'+image_id+'.jpg')\n",
    "    image_seg = plt.imread('../data/example_segmentation/'+image_id+'_segmentation.png')\n",
    "    #data['image_id'] = image_id\n",
    "    real_area = int(all_feature_merge[all_feature_merge['image_id'] == image_id]['area'])\n",
    "    real_perimeter = int(all_feature_merge[all_feature_merge['image_id'] == image_id]['perimeter'])\n",
    "    melanoma = int(all_feature_merge[all_feature_merge['image_id'] == image_id]['melanoma'])\n",
    "    seborrheic_keratosis = int(all_feature_merge[all_feature_merge['image_id'] == image_id]['seborrheic_keratosis'])\n",
    "    thing = (all_feature_merge['image_id'] == image_id)\n",
    "    all_feature_merge\n",
    "    #label = int(all_feature_merge[all_feature_merge['image_id'] == image_id])\n",
    "    calculated_area = int(calculate_area(image_seg))\n",
    "    calculated_perimeter = calculate_border(image_seg,2)\n",
    "    imgCompactness = compactness(calculate_area(image_seg),calculate_border(image_seg,1))\n",
    "    average_rgb = average_colour(image,image_seg)\n",
    "    deviation_of_rgb = deviation_of_colour(image,image_seg)\n",
    "    average_luminosity_img = average_luminosity(image,image_seg)\n",
    "    deviation_luminosity_img = deviation_luminosity(image,image_seg)\n",
    "    row = [image_id, real_area, real_perimeter, label,melanoma,seborrheic_keratosis,calculated_area,calculated_perimeter,imgCompactness,average_rgb,deviation_of_rgb,average_luminosity_img,deviation_luminosity_img]\n",
    "    rows.append(row)\n",
    "    count+= 1\n",
    "\n",
    "data = pd.DataFrame(rows, columns = ['image_id','real_area','real_perimeter', 'label','melanoma','seborrheic_keratosis','calculated_area','calculated_perimeter','compactness','average_rgb','deviation_of_colour','average_luminosity','deviation_luminosity'])"
   ]
  },
  {
   "cell_type": "code",
   "execution_count": null,
   "metadata": {},
   "outputs": [],
   "source": [
    "Counter(data['seborrheic_keratosis'])"
   ]
  },
  {
   "cell_type": "code",
   "execution_count": null,
   "metadata": {},
   "outputs": [],
   "source": [
    "Counter(data['melanoma'])"
   ]
  },
  {
   "cell_type": "code",
   "execution_count": null,
   "metadata": {
    "scrolled": true
   },
   "outputs": [],
   "source": [
    "data"
   ]
  },
  {
   "cell_type": "code",
   "execution_count": null,
   "metadata": {},
   "outputs": [],
   "source": [
    "X = "
   ]
  },
  {
   "cell_type": "code",
   "execution_count": null,
   "metadata": {},
   "outputs": [],
   "source": [
    "x = raw_data[:,:4] #I chose the first 4 columns\n",
    "y = raw_data[:,-1]#I chose the last column\n",
    "print(x.shape,y.shape)"
   ]
  },
  {
   "cell_type": "code",
   "execution_count": null,
   "metadata": {},
   "outputs": [],
   "source": []
  },
  {
   "cell_type": "code",
   "execution_count": null,
   "metadata": {},
   "outputs": [],
   "source": []
  },
  {
   "cell_type": "code",
   "execution_count": null,
   "metadata": {},
   "outputs": [],
   "source": []
  },
  {
   "cell_type": "code",
   "execution_count": null,
   "metadata": {
    "scrolled": true
   },
   "outputs": [],
   "source": [
    "# Here we use our functions area and border to calculate the compactness of the first image\n",
    "area1 = calculate_area(melanoma_data[0][2])\n",
    "border1 = calculate_border(melanoma_data[0][2],4)\n",
    "compactness(area1,border1)"
   ]
  },
  {
   "cell_type": "code",
   "execution_count": null,
   "metadata": {},
   "outputs": [],
   "source": [
    "\n",
    "\n",
    "#Structural element, that we will use as a \"brush\" on our mask\n",
    "struct_el = morphology.disk(4)\n",
    "\n",
    "mask_eroded = morphology.binary_erosion(melanoma_data[0][2], struct_el)\n",
    "\n",
    "# Show side by side\n",
    "\n",
    "fig, axes = plt.subplots(nrows=1, ncols=2, figsize=(10, 5))\n",
    "axes[0].imshow(melanoma_data[0][2][500:1200,1000:2000], cmap='gray')\n",
    "#axes[1].imshow(mask_eroded, cmap='gray')\n",
    "fig.tight_layout()\n",
    "\n",
    "# Verify it's smaller\n",
    "#print(area)\n",
    "print(calculate_area(melanoma_data[0][2])-np.sum(mask_eroded))\n",
    "border = melanoma_data[0][2]-mask_eroded\n",
    "plt.imshow(border[500:1200,1000:2000])\n"
   ]
  },
  {
   "cell_type": "code",
   "execution_count": null,
   "metadata": {},
   "outputs": [],
   "source": []
  },
  {
   "cell_type": "code",
   "execution_count": null,
   "metadata": {},
   "outputs": [],
   "source": []
  },
  {
   "cell_type": "code",
   "execution_count": null,
   "metadata": {},
   "outputs": [],
   "source": []
  },
  {
   "cell_type": "code",
   "execution_count": null,
   "metadata": {},
   "outputs": [],
   "source": []
  },
  {
   "cell_type": "code",
   "execution_count": null,
   "metadata": {},
   "outputs": [],
   "source": [
    "def masking(image,mask):\n",
    "    mask2 = mask == 0\n",
    "    copy = image.copy()\n",
    "    copy[mask2] = [0,0,0]\n",
    "    return copy\n",
    "test = masking(total_data[0][1],total_data[0][2])"
   ]
  },
  {
   "cell_type": "code",
   "execution_count": null,
   "metadata": {},
   "outputs": [],
   "source": [
    "mask2 = total_data[0][2] == 0\n",
    "copy = total_data[0][1].copy()\n",
    "copy[mask2] = [0,0,0]"
   ]
  },
  {
   "cell_type": "code",
   "execution_count": null,
   "metadata": {},
   "outputs": [],
   "source": []
  },
  {
   "cell_type": "code",
   "execution_count": null,
   "metadata": {
    "scrolled": true
   },
   "outputs": [],
   "source": [
    "plt.imshow(test)"
   ]
  },
  {
   "cell_type": "code",
   "execution_count": null,
   "metadata": {},
   "outputs": [],
   "source": [
    "image = test"
   ]
  },
  {
   "cell_type": "code",
   "execution_count": null,
   "metadata": {},
   "outputs": [],
   "source": []
  },
  {
   "cell_type": "code",
   "execution_count": null,
   "metadata": {},
   "outputs": [],
   "source": []
  },
  {
   "cell_type": "code",
   "execution_count": null,
   "metadata": {},
   "outputs": [],
   "source": [
    "modified_image = cv2.resize(image, (600, 400), interpolation = cv2.INTER_AREA)\n",
    "modified_image = modified_image.reshape(modified_image.shape[0]*modified_image.shape[1], 3)"
   ]
  },
  {
   "cell_type": "code",
   "execution_count": null,
   "metadata": {},
   "outputs": [],
   "source": [
    "modified_image"
   ]
  },
  {
   "cell_type": "code",
   "execution_count": null,
   "metadata": {},
   "outputs": [],
   "source": []
  },
  {
   "cell_type": "code",
   "execution_count": null,
   "metadata": {},
   "outputs": [],
   "source": []
  },
  {
   "cell_type": "code",
   "execution_count": null,
   "metadata": {},
   "outputs": [],
   "source": [
    "number_of_colors = 5"
   ]
  },
  {
   "cell_type": "code",
   "execution_count": null,
   "metadata": {},
   "outputs": [],
   "source": [
    "clf = KMeans(n_clusters = number_of_colors)\n",
    "labels = clf.fit_predict(modified_image)"
   ]
  },
  {
   "cell_type": "code",
   "execution_count": null,
   "metadata": {
    "scrolled": false
   },
   "outputs": [],
   "source": [
    "counts = Counter(labels)"
   ]
  },
  {
   "cell_type": "code",
   "execution_count": null,
   "metadata": {},
   "outputs": [],
   "source": [
    "len(labels)"
   ]
  },
  {
   "cell_type": "code",
   "execution_count": null,
   "metadata": {},
   "outputs": [],
   "source": [
    "len(labels)/600"
   ]
  },
  {
   "cell_type": "code",
   "execution_count": null,
   "metadata": {},
   "outputs": [],
   "source": [
    "labels.resize(600,400)"
   ]
  },
  {
   "cell_type": "code",
   "execution_count": null,
   "metadata": {},
   "outputs": [],
   "source": [
    "labels"
   ]
  },
  {
   "cell_type": "code",
   "execution_count": null,
   "metadata": {},
   "outputs": [],
   "source": [
    "plt.imshow(labels)"
   ]
  },
  {
   "cell_type": "code",
   "execution_count": null,
   "metadata": {},
   "outputs": [],
   "source": []
  },
  {
   "cell_type": "code",
   "execution_count": null,
   "metadata": {},
   "outputs": [],
   "source": []
  },
  {
   "cell_type": "code",
   "execution_count": null,
   "metadata": {},
   "outputs": [],
   "source": []
  },
  {
   "cell_type": "code",
   "execution_count": null,
   "metadata": {
    "scrolled": true
   },
   "outputs": [],
   "source": [
    "\n",
    "center_colors = clf.cluster_centers_\n",
    "# We get ordered colors by iterating through the keys\n",
    "ordered_colors = [center_colors[i] for i in counts.keys()]\n",
    "hex_colors = [RGB2HEX(ordered_colors[i]) for i in counts.keys()]\n",
    "rgb_colors = [ordered_colors[i] for i in counts.keys()]"
   ]
  },
  {
   "cell_type": "code",
   "execution_count": null,
   "metadata": {},
   "outputs": [],
   "source": []
  },
  {
   "cell_type": "code",
   "execution_count": null,
   "metadata": {},
   "outputs": [],
   "source": [
    "color_list = []\n",
    "color_count = []\n",
    "for elm in zip(counts.values(),hex_colors):\n",
    "    if elm[1] == '#000000':\n",
    "        None\n",
    "    else:\n",
    "        color_list.append(elm[1])\n",
    "        color_count.append(elm[0])"
   ]
  },
  {
   "cell_type": "code",
   "execution_count": null,
   "metadata": {
    "scrolled": false
   },
   "outputs": [],
   "source": [
    "plt.figure(figsize = (8, 6))\n",
    "plt.pie(color_count, labels = color_list, colors = color_list);"
   ]
  },
  {
   "cell_type": "code",
   "execution_count": null,
   "metadata": {},
   "outputs": [],
   "source": []
  },
  {
   "cell_type": "code",
   "execution_count": null,
   "metadata": {},
   "outputs": [],
   "source": []
  },
  {
   "cell_type": "code",
   "execution_count": null,
   "metadata": {},
   "outputs": [],
   "source": []
  },
  {
   "cell_type": "code",
   "execution_count": null,
   "metadata": {},
   "outputs": [],
   "source": []
  },
  {
   "cell_type": "code",
   "execution_count": null,
   "metadata": {},
   "outputs": [],
   "source": []
  },
  {
   "cell_type": "code",
   "execution_count": null,
   "metadata": {},
   "outputs": [],
   "source": []
  },
  {
   "cell_type": "code",
   "execution_count": null,
   "metadata": {},
   "outputs": [],
   "source": [
    "for elm in zip(counts.values(),hex_colors):\n",
    "    print(elm)"
   ]
  },
  {
   "cell_type": "code",
   "execution_count": null,
   "metadata": {},
   "outputs": [],
   "source": [
    "color_data = [list(elm) for elm in zip(counts.values(),hex_colors) ]"
   ]
  },
  {
   "cell_type": "code",
   "execution_count": null,
   "metadata": {},
   "outputs": [],
   "source": [
    "color_data"
   ]
  },
  {
   "cell_type": "code",
   "execution_count": null,
   "metadata": {
    "scrolled": true
   },
   "outputs": [],
   "source": [
    "counter = 0\n",
    "for elm in color_data:\n",
    "    placeholder = ImageColor.getcolor(elm[1], \"RGB\")\n",
    "    color_data[counter][1] = placeholder\n",
    "    counter += 1"
   ]
  },
  {
   "cell_type": "code",
   "execution_count": null,
   "metadata": {
    "scrolled": true
   },
   "outputs": [],
   "source": [
    "color_data"
   ]
  },
  {
   "cell_type": "code",
   "execution_count": null,
   "metadata": {},
   "outputs": [],
   "source": []
  },
  {
   "cell_type": "code",
   "execution_count": null,
   "metadata": {},
   "outputs": [],
   "source": []
  },
  {
   "cell_type": "code",
   "execution_count": null,
   "metadata": {},
   "outputs": [],
   "source": []
  },
  {
   "cell_type": "code",
   "execution_count": null,
   "metadata": {},
   "outputs": [],
   "source": []
  },
  {
   "cell_type": "code",
   "execution_count": null,
   "metadata": {},
   "outputs": [],
   "source": []
  },
  {
   "cell_type": "code",
   "execution_count": null,
   "metadata": {},
   "outputs": [],
   "source": []
  },
  {
   "cell_type": "code",
   "execution_count": null,
   "metadata": {},
   "outputs": [],
   "source": []
  },
  {
   "cell_type": "code",
   "execution_count": null,
   "metadata": {},
   "outputs": [],
   "source": [
    "random.seed(420)"
   ]
  },
  {
   "cell_type": "code",
   "execution_count": null,
   "metadata": {
    "scrolled": false
   },
   "outputs": [],
   "source": [
    "img = mpimg.imread(r'C:\\Users\\tjupp\\Desktop\\ITU\\Intro_programing\\Exercise24\\ex24pick.png',0)\n",
    "data = img[:,:,:3]\n",
    "plt.imshow(data)"
   ]
  },
  {
   "cell_type": "code",
   "execution_count": null,
   "metadata": {},
   "outputs": [],
   "source": [
    "data.shape"
   ]
  },
  {
   "cell_type": "code",
   "execution_count": null,
   "metadata": {
    "scrolled": false
   },
   "outputs": [],
   "source": [
    "data = (total_data[0][1][600:1200,1300:2100])\n",
    "plt.imshow(data)"
   ]
  },
  {
   "cell_type": "code",
   "execution_count": null,
   "metadata": {},
   "outputs": [],
   "source": [
    "img.shape"
   ]
  },
  {
   "cell_type": "code",
   "execution_count": null,
   "metadata": {
    "scrolled": true
   },
   "outputs": [],
   "source": [
    "total_data[0][1][0][0]"
   ]
  },
  {
   "cell_type": "code",
   "execution_count": null,
   "metadata": {},
   "outputs": [],
   "source": []
  },
  {
   "cell_type": "code",
   "execution_count": null,
   "metadata": {},
   "outputs": [],
   "source": [
    "def rgb2gray(rgb):\n",
    "\n",
    "    r, g, b = rgb[:,:,0], rgb[:,:,1], rgb[:,:,2]\n",
    "    gray = 0.2989 * r + 0.5870 * g + 0.1140 * b\n",
    "\n",
    "    return gray\n",
    "\n",
    "grey_image = rgb2gray(total_data[0][1])"
   ]
  },
  {
   "cell_type": "code",
   "execution_count": null,
   "metadata": {},
   "outputs": [],
   "source": [
    "def rgb2gray(rgb):\n",
    "    return np.dot(rgb[...,:3], [0.2989, 0.5870, 0.1140])\n",
    "\n",
    "gray = rgb2gray(im)\n",
    "plt.imshow(gray, cmap='gray')"
   ]
  },
  {
   "cell_type": "code",
   "execution_count": null,
   "metadata": {},
   "outputs": [],
   "source": [
    "grey_image.shape"
   ]
  },
  {
   "cell_type": "code",
   "execution_count": null,
   "metadata": {
    "scrolled": true
   },
   "outputs": [],
   "source": [
    "plt.imshow(grey_image)"
   ]
  },
  {
   "cell_type": "code",
   "execution_count": null,
   "metadata": {},
   "outputs": [],
   "source": [
    "kmeans = KMeans(n_clusters=5, random_state=0).fit(grey_image)"
   ]
  },
  {
   "cell_type": "code",
   "execution_count": null,
   "metadata": {},
   "outputs": [],
   "source": [
    "kmeans.labels_"
   ]
  },
  {
   "cell_type": "code",
   "execution_count": null,
   "metadata": {},
   "outputs": [],
   "source": []
  },
  {
   "cell_type": "code",
   "execution_count": null,
   "metadata": {},
   "outputs": [],
   "source": []
  },
  {
   "cell_type": "code",
   "execution_count": null,
   "metadata": {},
   "outputs": [],
   "source": []
  },
  {
   "cell_type": "code",
   "execution_count": null,
   "metadata": {},
   "outputs": [],
   "source": []
  },
  {
   "cell_type": "code",
   "execution_count": null,
   "metadata": {},
   "outputs": [],
   "source": []
  },
  {
   "cell_type": "code",
   "execution_count": null,
   "metadata": {},
   "outputs": [],
   "source": [
    "amount_of_clusters = 5\n",
    "n_dimensions = 3\n",
    "def getcentroids(amount_of_clusters,n_dimensions,minpoint,maxpoint):\n",
    "    centroids = []\n",
    "    for i in range(amount_of_clusters):\n",
    "        li = []\n",
    "        for x in range(n_dimensions):\n",
    "            li.append(random.randint(minpoint,maxpoint))\n",
    "        centroids.append(li)\n",
    "    return centroids\n",
    "\n",
    "#centroids = getcentroids(amount_of_clusters,n_dimensions,0,255)\n",
    "#print(centroids)"
   ]
  },
  {
   "cell_type": "code",
   "execution_count": null,
   "metadata": {},
   "outputs": [],
   "source": [
    "def distance(pointA,pointB):\n",
    "    #This function calculates the distance between two points of n dimensions\n",
    "    li = []\n",
    "    for elm in zip(pointA, pointB):\n",
    "        li.append((elm[0]-elm[1])**2)\n",
    "    return math.sqrt(sum(li))"
   ]
  },
  {
   "cell_type": "code",
   "execution_count": null,
   "metadata": {},
   "outputs": [],
   "source": []
  },
  {
   "cell_type": "code",
   "execution_count": null,
   "metadata": {
    "scrolled": true
   },
   "outputs": [],
   "source": [
    "\n",
    "def linkpointtocentroid(data,centroids):\n",
    "    #This labels all the pixels with the label closest to a centroid\n",
    "    final_list = []\n",
    "    for k in data:\n",
    "        placeholder = []\n",
    "        for i in k:\n",
    "            label = 1\n",
    "            max_val = float('inf')\n",
    "            li = 0\n",
    "            for elm in centroids: \n",
    "                if max_val > distance(i, elm):\n",
    "                    max_val = distance(i,elm)\n",
    "                    li = label\n",
    "                label += 1\n",
    "            placeholder.append(li)\n",
    "        final_list.append(placeholder)\n",
    "    final_list = np.array(final_list)\n",
    "    return final_list\n",
    "#linkpointtocentroid(data,centroids)\n",
    "\n",
    "#labels = linkpointtocentroid(data,centroids)\n",
    "\n",
    "\n",
    "\n",
    "\n",
    "#labels, points_linked_to_centroid = linkpointtocentroid(data,centroids)\n",
    "#only uncomment line above once you get to step 3\n",
    "#print(labels.shape)\n",
    "#print(len(points_linked_to_centroid_dict))\n",
    "\n",
    "#print(np.unique(labels))\n",
    "#print(labels)\n",
    "#plt.imshow(labels)"
   ]
  },
  {
   "cell_type": "code",
   "execution_count": null,
   "metadata": {},
   "outputs": [],
   "source": [
    "#labels.shape"
   ]
  },
  {
   "cell_type": "code",
   "execution_count": null,
   "metadata": {},
   "outputs": [],
   "source": []
  },
  {
   "cell_type": "code",
   "execution_count": null,
   "metadata": {},
   "outputs": [],
   "source": []
  },
  {
   "cell_type": "code",
   "execution_count": null,
   "metadata": {},
   "outputs": [],
   "source": []
  }
 ],
 "metadata": {
  "kernelspec": {
   "display_name": "Python 3",
   "language": "python",
   "name": "python3"
  },
  "language_info": {
   "codemirror_mode": {
    "name": "ipython",
    "version": 3
   },
   "file_extension": ".py",
   "mimetype": "text/x-python",
   "name": "python",
   "nbconvert_exporter": "python",
   "pygments_lexer": "ipython3",
   "version": "3.7.4"
  }
 },
 "nbformat": 4,
 "nbformat_minor": 2
}
