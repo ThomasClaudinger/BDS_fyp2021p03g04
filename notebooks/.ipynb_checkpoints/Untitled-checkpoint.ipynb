{
 "cells": [
  {
   "cell_type": "code",
   "execution_count": 1,
   "metadata": {},
   "outputs": [],
   "source": [
    "import pandas as pd\n",
    "import matplotlib.pyplot as plt"
   ]
  },
  {
   "cell_type": "code",
   "execution_count": null,
   "metadata": {},
   "outputs": [
    {
     "name": "stdout",
     "output_type": "stream",
     "text": [
      "ISIC_0001769\n",
      "ISIC_0001852\n",
      "ISIC_0001871\n",
      "ISIC_0003462\n",
      "ISIC_0003539\n",
      "ISIC_0003582\n",
      "ISIC_0003657\n",
      "ISIC_0003805\n",
      "ISIC_0004337\n",
      "ISIC_0006651\n",
      "ISIC_0006671\n",
      "ISIC_0006815\n",
      "ISIC_0006914\n",
      "ISIC_0007141\n",
      "ISIC_0007156\n",
      "ISIC_0007235\n",
      "ISIC_0007241\n",
      "ISIC_0007332\n",
      "ISIC_0007344\n",
      "ISIC_0007528\n",
      "ISIC_0007796\n",
      "ISIC_0008025\n",
      "ISIC_0008524\n",
      "ISIC_0009995\n",
      "ISIC_0010459\n",
      "ISIC_0012099\n",
      "ISIC_0012109\n",
      "ISIC_0012126\n",
      "ISIC_0012127\n",
      "ISIC_0012143\n",
      "ISIC_0012151\n",
      "ISIC_0012159\n",
      "ISIC_0012160\n",
      "ISIC_0012191\n",
      "ISIC_0012201\n",
      "ISIC_0012204\n",
      "ISIC_0012206\n",
      "ISIC_0012210\n",
      "ISIC_0012221\n",
      "ISIC_0012222\n",
      "ISIC_0012254\n",
      "ISIC_0012256\n",
      "ISIC_0012288\n",
      "ISIC_0012306\n",
      "ISIC_0012313\n",
      "ISIC_0012316\n",
      "ISIC_0012335\n",
      "ISIC_0012380\n",
      "ISIC_0012383\n",
      "ISIC_0012400\n",
      "ISIC_0012417\n",
      "ISIC_0012434\n",
      "ISIC_0012492\n",
      "ISIC_0012513\n",
      "ISIC_0012538\n",
      "ISIC_0012547\n",
      "ISIC_0012660\n",
      "ISIC_0012684\n",
      "ISIC_0012720\n",
      "ISIC_0012746\n",
      "ISIC_0012876\n",
      "ISIC_0012927\n",
      "ISIC_0012956\n",
      "ISIC_0012959\n",
      "ISIC_0012965\n",
      "ISIC_0013010\n",
      "ISIC_0013082\n"
     ]
    }
   ],
   "source": [
    "ground_truth = pd.read_csv(r\"../data/example_ground_truth.csv\")\n",
    "image_ids = []\n",
    "images = []\n",
    "images_seg = []\n",
    "for image_id in ground_truth['image_id']:\n",
    "    print(image_id)\n",
    "    image = plt.imread('../data/example_image/'+image_id+'.jpg')\n",
    "    image_ids.append(image_id)\n",
    "    images.append(image)\n",
    "\n",
    "for image_id in ground_truth['image_id']:\n",
    "    image_seg = plt.imread('../data/example_segmentation/'+image_id+'_segmentation.png')\n",
    "    images_seg.append(image_seg)"
   ]
  },
  {
   "cell_type": "code",
   "execution_count": null,
   "metadata": {},
   "outputs": [],
   "source": []
  }
 ],
 "metadata": {
  "kernelspec": {
   "display_name": "Python 3",
   "language": "python",
   "name": "python3"
  },
  "language_info": {
   "codemirror_mode": {
    "name": "ipython",
    "version": 3
   },
   "file_extension": ".py",
   "mimetype": "text/x-python",
   "name": "python",
   "nbconvert_exporter": "python",
   "pygments_lexer": "ipython3",
   "version": "3.7.4"
  }
 },
 "nbformat": 4,
 "nbformat_minor": 2
}
