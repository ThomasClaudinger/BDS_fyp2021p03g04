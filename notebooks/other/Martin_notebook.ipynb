{
 "cells": [
  {
   "cell_type": "code",
   "execution_count": null,
   "metadata": {},
   "outputs": [],
   "source": [
    "import pandas as pd\n",
    "import matplotlib.pyplot as plt\n",
    "import matplotlib\n",
    "\n",
    "\n",
    "import numpy as np\n",
    "import math\n",
    "from skimage import morphology\n",
    "import matplotlib.image as mpimg\n",
    "import random\n",
    "from sklearn.cluster import KMeans\n",
    "import cv2\n",
    "from collections import Counter\n",
    "from skimage.color import rgb2lab, deltaE_cie76\n",
    "import os\n",
    "from PIL import ImageColor\n",
    "from sklearn.model_selection import cross_val_score\n",
    "from sklearn.model_selection import train_test_split\n",
    "from sklearn.neighbors import KNeighborsClassifier\n",
    "from sklearn.metrics import accuracy_score"
   ]
  },
  {
   "cell_type": "code",
   "execution_count": null,
   "metadata": {},
   "outputs": [],
   "source": [
    "features = pd.read_csv(r'../features/features.csv')\n",
    "ground_truth = pd.read_csv(r\"../data/example_ground_truth.csv\")\n"
   ]
  },
  {
   "cell_type": "markdown",
   "metadata": {},
   "source": [
    "## Functions"
   ]
  },
  {
   "cell_type": "code",
   "execution_count": null,
   "metadata": {},
   "outputs": [],
   "source": [
    "def calculate_area(image):\n",
    "    \"\"\"\n",
    "    image = a numpy array\n",
    "    \"\"\"\n",
    "    return np.sum(image)\n",
    "\n",
    "def calculate_border(image,thickness):\n",
    "    \"\"\"\n",
    "    image = np array of a picture\n",
    "    thicness = an integer of the thiccness of the border\n",
    "    returns = the border of the figure\n",
    "    \"\"\"\n",
    "    struct_el = morphology.disk(thickness)\n",
    "    mask_eroded = morphology.binary_erosion(image, struct_el)\n",
    "    return calculate_area(image)-np.sum(mask_eroded)\n",
    "\n",
    "\n",
    "def compactness(area, border):\n",
    "    \"\"\"\n",
    "    area = the area of the figure\n",
    "    border = the circumference of the figure\n",
    "    return = returns the compactness\n",
    "    \"\"\"\n",
    "    top = border**2\n",
    "    bot = 4*math.pi*area\n",
    "    return top/bot\n",
    "\n",
    "def RGB2HEX(color):\n",
    "    return \"#{:02x}{:02x}{:02x}\".format(int(color[0]), int(color[1]), int(color[2]))\n",
    "\n",
    "\n",
    "\n",
    "def average_colour(image,segmentation):\n",
    "    mask = segmentation == 1\n",
    "    copy = image.copy()\n",
    "    r = np.mean(copy[mask,0])\n",
    "    g = np.mean(copy[mask,1])\n",
    "    b = np.mean(copy[mask,2])\n",
    "    #num_of_pixels = copy[mask].shape[0]\n",
    "    return [r,g,b]\n",
    "\n",
    "def deviation_of_colour(image,segmentation):\n",
    "    mask = segmentation == 1\n",
    "    copy = image.copy()\n",
    "    r = np.std(copy[mask,0])\n",
    "    g = np.std(copy[mask,1])\n",
    "    b = np.std(copy[mask,2])\n",
    "    return [r,g,b]\n",
    "\n",
    "def average_luminosity(image,segmentation):\n",
    "    avg_colour = average_colour(image,segmentation)\n",
    "    return 0.299*avg_colour[0] + 0.587*avg_colour[1] + 0.114*avg_colour[2]\n",
    "\n",
    "def deviation_luminosity(image,segmentation):\n",
    "    deviation_colour = deviation_of_colour(image,segmentation)\n",
    "    return np.sqrt(0.299**2*deviation_colour[0]**2 + 0.587**2*deviation_colour[1]**2 + 0.114**2*deviation_colour[2]**2)\n",
    "\n",
    "def findImage(image_id):\n",
    "    image = plt.imread('../data/example_image/'+image_id+'.jpg')\n",
    "    image_seg = plt.imread('../data/example_segmentation/'+image_id+'_segmentation.png')\n",
    "    return image,image_seg\n",
    "\n",
    "def make_knn_prediction(k):\n",
    "    neigh = KNeighborsClassifier(n_neighbors=k)\n",
    "    neigh.fit(x_train, y_train)\n",
    "    return neigh.predict(x_test)\n",
    "\n",
    "def from_rgb_to_int(df):\n",
    "    placeholder = [RGB2HEX(elm) for elm in df]\n",
    "    hex_val = [int(\"0x\" + elm[1:],0) for elm in placeholder]\n",
    "    return hex_val\n",
    "\n",
    "def knn_model_constructor(k,training,labels):\n",
    "    model = KNeighborsClassifier(n_neighbors=k)\n",
    "    model.fit(training, labels)\n",
    "    return model\n",
    "\n",
    "def crop_image(img,tol=0):\n",
    "    # img is 2D image data\n",
    "    # tol  is tolerance\n",
    "    mask = img>tol\n",
    "    return img[np.ix_(mask.any(1),mask.any(0))]\n",
    "\n",
    "def cropping(image,mask):\n",
    "    \"\"\"\n",
    "    Crops the image using the mask\n",
    "    Image = the np_array\n",
    "    mask = the mask/segmentation\n",
    "    \"\"\"\n",
    "    new_image = []\n",
    "    for i in range(image.shape[0]):\n",
    "        is_black = True\n",
    "        row = []\n",
    "        for j in range(image.shape[1]):\n",
    "\n",
    "            if mask[i][j] == 0:\n",
    "                row.append(np.array([0,0,0]))\n",
    "\n",
    "            else:\n",
    "                row.append(image[i][j])\n",
    "                is_black = False\n",
    "        if is_black == False:\n",
    "            new_image.append(row)\n",
    "    new_image = np.array(new_image)\n",
    "    placeholder = [0]\n",
    "    x = 0\n",
    "    counter = 0\n",
    "    for i in range(image.shape[1]):\n",
    "        placeholder = np.unique(new_image[:,x])\n",
    "        if len(placeholder) > 1:\n",
    "            x += 1  \n",
    "        else:\n",
    "            new_image = np.delete(new_image,0 + x,1)\n",
    "            counter += 1\n",
    "    return new_image\n"
   ]
  },
  {
   "cell_type": "code",
   "execution_count": null,
   "metadata": {},
   "outputs": [],
   "source": []
  },
  {
   "cell_type": "code",
   "execution_count": null,
   "metadata": {},
   "outputs": [],
   "source": []
  },
  {
   "cell_type": "markdown",
   "metadata": {},
   "source": [
    "\n",
    "path = r'C:/Users/Martin/Desktop/Uni/mnist knn/knn-project-main/' #Insert the path to your project\n",
    "csv_file = 'train.csv'\n",
    "open_file = path + csv_file\n",
    "data = pd.read_csv(open_file) \n",
    "\n",
    "\n",
    "label = data[\"label\"] #Here I store the correct labels which will be used for the test set.\n",
    "\n",
    "\n",
    "#Here I remove the labels from the dataset\n",
    "data = data.drop('label',axis = 1)\n",
    "\n",
    "\n",
    "#Here I create the *dataset and devide each element with 255 to get values between 0 and 1\n",
    "data_set = []\n",
    "for i in range(len(data.index)):\n",
    "    k = data.iloc[i]\n",
    "    data_set.append(np.true_divide(k,255))\n",
    "\n",
    "\n",
    "data_set = np.array(data_set) #Here I convert the dataframe to a numpy array\n",
    "\n",
    "\n",
    "#Here I create the test and train datasets\n",
    "x_train, x_test, y_train, y_test =  train_test_split(data_set,label,test_size=0.2)\n",
    "\n",
    "\n",
    "k1 = int(x_train.shape[1]**0.5) #As a rule of thumb k is the sqare root of number of elements in the dataset\n"
   ]
  },
  {
   "cell_type": "markdown",
   "metadata": {},
   "source": [
    "\n",
    "print(\"begin to train\")\n",
    "\n",
    "model = KNeighborsClassifier(n_neighbors=k1) #Here I create the model\n",
    "model.fit(x_train, y_train) #Here I train the model\n",
    "prediction_list = model.predict(x_test) #Here I create a prediction based on the test material\n",
    "\n",
    "\n",
    "#Here I print the accuracy\n",
    "print(accuracy_score(y_test,prediction_list))\n",
    "\n",
    "\n",
    "#Here I convert the lists to a matrix. This I can use for plotting\n",
    "matrix = []\n",
    "for i in range(len(data.index)):\n",
    "    k = np.array(data.iloc[i].as_matrix().reshape(28,28)) #I use the reshape feature to create the matrix\n",
    "    matrix.append(np.true_divide(k,255)) #Here I divide each element by 255 since I want all the data points to be between 0 and 1\n",
    "\n",
    "\n",
    "\n",
    "n = 10 #N is number of predictions\n",
    "for i in range(n,20):\n",
    "    plt.imshow(matrix[y_test.index.values[i]],cmap = \"gray\") #Here I plot the matrix and make it gray scalled\n",
    "    plt.title(\"Prediction: {}, actual {}\".format(prediction_list[i],y_test.iloc[i])) #Here I print the title\n",
    "    plt.show() #Here I display the plot\n",
    "\n",
    "\n",
    "#Insert the file name and type\n",
    "file_name = \"0\"\n",
    "file_type = \".png\"\n",
    "#The picture has to have a transparent background \n",
    "\n",
    "\n",
    "from PIL import Image\n",
    "img = Image.open(path + file_name + file_type).convert('LA').resize((28,28))#This converts it to gray scale and resizes the image\n",
    "\n",
    "data = np.array(img) #I convert it to a numpy array\n",
    "\n",
    "data = data[:,:,1] #I remove the transparent features\n",
    "\n",
    "data = data.reshape(784) #I reshape it to a single list\n",
    "\n",
    "data = np.true_divide(data,255) #I divide every element with 255 to get elements between 0 and 1\n",
    "\n",
    "model.predict([data]) #Here I use the model to predict the image\n",
    "\n",
    "print(model.predict_proba([data])) #Here you can see the probability of each prediction\n",
    "\n"
   ]
  },
  {
   "cell_type": "code",
   "execution_count": null,
   "metadata": {},
   "outputs": [],
   "source": []
  },
  {
   "cell_type": "code",
   "execution_count": null,
   "metadata": {},
   "outputs": [],
   "source": []
  },
  {
   "cell_type": "code",
   "execution_count": null,
   "metadata": {},
   "outputs": [],
   "source": []
  },
  {
   "cell_type": "markdown",
   "metadata": {},
   "source": [
    "## Here we load in the data"
   ]
  },
  {
   "cell_type": "code",
   "execution_count": null,
   "metadata": {},
   "outputs": [],
   "source": [
    "#Reading ground trut\n",
    "ground_truth = pd.read_csv(\"../data/example_ground_truth.csv\")"
   ]
  },
  {
   "cell_type": "code",
   "execution_count": null,
   "metadata": {},
   "outputs": [],
   "source": [
    "#read file features\n",
    "file_features_df = pd.read_csv(\"../features/features.csv\")"
   ]
  },
  {
   "cell_type": "code",
   "execution_count": null,
   "metadata": {},
   "outputs": [],
   "source": [
    "#rename column 'id' to 'image_id'\n",
    "file_features_df.rename(columns={'id': 'image_id'}, inplace=True)"
   ]
  },
  {
   "cell_type": "code",
   "execution_count": null,
   "metadata": {},
   "outputs": [],
   "source": [
    "#rename column 'id' to 'image_id'\n",
    "file_features_df.rename(columns={'id': 'image_id'}, inplace=True)"
   ]
  },
  {
   "cell_type": "code",
   "execution_count": null,
   "metadata": {
    "scrolled": true
   },
   "outputs": [],
   "source": [
    "mask = ground_truth['seborrheic_keratosis'] == 1\n",
    "keratosis_mask = ground_truth[mask]\n",
    "mask = ground_truth['melanoma'] == 1\n",
    "melanoma_mask = ground_truth[mask]\n",
    "\n",
    "\n",
    "\n",
    "total_data = []\n",
    "melanoma_data = []\n",
    "keratosis_data = []\n",
    "non_infected_data = []\n",
    "x = 0\n",
    "\n",
    "for image_id in ground_truth['image_id']:\n",
    "    print(image_id,x)\n",
    "    image = plt.imread('../data/example_image/'+image_id+'.jpg') # Here we load the image\n",
    "    image_seg = plt.imread('../data/example_segmentation/'+image_id+'_segmentation.png') # Here we load the mask\n",
    "    label_thing = None\n",
    "    if image_id in list(melanoma_mask['image_id']): # If the image id is in the melanoma list, label it as melanoma\n",
    "        melanoma_data.append((image_id,image,image_seg)) #else label it as keratosis\n",
    "        label_thing = 1\n",
    "    if image_id in list(keratosis_mask['image_id']):\n",
    "        keratosis_data.append((image_id,image,image_seg))\n",
    "        label_thing = 2\n",
    "    if (image_id not in list(keratosis_mask['image_id'])) and (image_id not in list(melanoma_mask['image_id'])): # If the image id is in the melanoma list, label it as melanoma\n",
    "        non_infected_data.append((image_id,image,image_seg))\n",
    "        label_thing = 0\n",
    "    total_data.append((image_id,image,image_seg,label_thing)) #Here we have a list of all the data together\n",
    "    x += 1"
   ]
  },
  {
   "cell_type": "code",
   "execution_count": null,
   "metadata": {
    "scrolled": true
   },
   "outputs": [],
   "source": [
    "x = 49\n",
    "for elm in total_data[50:]:\n",
    "    test_thing = cropping(elm[1],elm[2])\n",
    "    plt.imshow(test_thing)\n",
    "    plt.axis('off')\n",
    "    plt.savefig('../data/processed/{}cropped.png'.format(elm[0]))\n",
    "    print(elm[0],x)\n",
    "    x += 1\n"
   ]
  },
  {
   "cell_type": "code",
   "execution_count": null,
   "metadata": {},
   "outputs": [],
   "source": [
    "# last print statement ISIC_0015483 146"
   ]
  },
  {
   "cell_type": "code",
   "execution_count": null,
   "metadata": {},
   "outputs": [],
   "source": [
    "test = cv2.imread(r'\\data\\processed\\ISIC_0001852cropped.png')"
   ]
  },
  {
   "cell_type": "code",
   "execution_count": null,
   "metadata": {},
   "outputs": [],
   "source": []
  },
  {
   "cell_type": "code",
   "execution_count": null,
   "metadata": {},
   "outputs": [],
   "source": []
  },
  {
   "cell_type": "code",
   "execution_count": null,
   "metadata": {},
   "outputs": [],
   "source": []
  },
  {
   "cell_type": "code",
   "execution_count": null,
   "metadata": {},
   "outputs": [],
   "source": []
  },
  {
   "cell_type": "code",
   "execution_count": null,
   "metadata": {},
   "outputs": [],
   "source": []
  },
  {
   "cell_type": "code",
   "execution_count": null,
   "metadata": {},
   "outputs": [],
   "source": []
  },
  {
   "cell_type": "code",
   "execution_count": null,
   "metadata": {},
   "outputs": [],
   "source": []
  },
  {
   "cell_type": "code",
   "execution_count": null,
   "metadata": {},
   "outputs": [],
   "source": [
    "new_image = np.array(new_image)"
   ]
  },
  {
   "cell_type": "code",
   "execution_count": null,
   "metadata": {
    "scrolled": true
   },
   "outputs": [],
   "source": [
    "test = np.array([[1,2,3],[4,5,6],[7,8,9]])"
   ]
  },
  {
   "cell_type": "code",
   "execution_count": null,
   "metadata": {
    "scrolled": true
   },
   "outputs": [],
   "source": [
    "np.delete(test,0,1)"
   ]
  },
  {
   "cell_type": "code",
   "execution_count": null,
   "metadata": {},
   "outputs": [],
   "source": [
    "new_image.shape"
   ]
  },
  {
   "cell_type": "code",
   "execution_count": null,
   "metadata": {},
   "outputs": [],
   "source": [
    "counter = 0\n",
    "for i in range(total_data[0][1].shape[1]-1):\n",
    "    \n",
    "    if [0,0,0] in (new_image[:,i+1]):\n",
    "        counter += 1\n",
    "    else:\n",
    "        "
   ]
  },
  {
   "cell_type": "code",
   "execution_count": null,
   "metadata": {},
   "outputs": [],
   "source": []
  },
  {
   "cell_type": "code",
   "execution_count": null,
   "metadata": {},
   "outputs": [],
   "source": [
    "plt.imshow(new_image)"
   ]
  },
  {
   "cell_type": "code",
   "execution_count": null,
   "metadata": {},
   "outputs": [],
   "source": []
  },
  {
   "cell_type": "code",
   "execution_count": null,
   "metadata": {},
   "outputs": [],
   "source": []
  },
  {
   "cell_type": "code",
   "execution_count": null,
   "metadata": {},
   "outputs": [],
   "source": [
    "new_image"
   ]
  },
  {
   "cell_type": "code",
   "execution_count": null,
   "metadata": {},
   "outputs": [],
   "source": [
    "total_data[0][1][i][j]"
   ]
  },
  {
   "cell_type": "code",
   "execution_count": null,
   "metadata": {},
   "outputs": [],
   "source": [
    "plt.imshow(new_image)"
   ]
  },
  {
   "cell_type": "code",
   "execution_count": null,
   "metadata": {},
   "outputs": [],
   "source": []
  },
  {
   "cell_type": "code",
   "execution_count": null,
   "metadata": {},
   "outputs": [],
   "source": []
  },
  {
   "cell_type": "code",
   "execution_count": null,
   "metadata": {},
   "outputs": [],
   "source": []
  },
  {
   "cell_type": "code",
   "execution_count": null,
   "metadata": {},
   "outputs": [],
   "source": []
  },
  {
   "cell_type": "code",
   "execution_count": null,
   "metadata": {},
   "outputs": [],
   "source": [
    "test = np.array(new_image)"
   ]
  },
  {
   "cell_type": "code",
   "execution_count": null,
   "metadata": {
    "scrolled": true
   },
   "outputs": [],
   "source": [
    "Counter(test[1500])"
   ]
  },
  {
   "cell_type": "code",
   "execution_count": null,
   "metadata": {},
   "outputs": [],
   "source": []
  },
  {
   "cell_type": "code",
   "execution_count": null,
   "metadata": {},
   "outputs": [],
   "source": [
    "plt.imshow(test)"
   ]
  },
  {
   "cell_type": "code",
   "execution_count": null,
   "metadata": {},
   "outputs": [],
   "source": []
  },
  {
   "cell_type": "code",
   "execution_count": null,
   "metadata": {},
   "outputs": [],
   "source": []
  },
  {
   "cell_type": "code",
   "execution_count": null,
   "metadata": {},
   "outputs": [],
   "source": []
  },
  {
   "cell_type": "code",
   "execution_count": null,
   "metadata": {},
   "outputs": [],
   "source": [
    "total_data[0][2][0][0]"
   ]
  },
  {
   "cell_type": "code",
   "execution_count": null,
   "metadata": {},
   "outputs": [],
   "source": [
    "plt.imshow(total_data[0][1])"
   ]
  },
  {
   "cell_type": "code",
   "execution_count": null,
   "metadata": {},
   "outputs": [],
   "source": []
  },
  {
   "cell_type": "code",
   "execution_count": null,
   "metadata": {},
   "outputs": [],
   "source": []
  },
  {
   "cell_type": "code",
   "execution_count": null,
   "metadata": {},
   "outputs": [],
   "source": []
  },
  {
   "cell_type": "code",
   "execution_count": null,
   "metadata": {},
   "outputs": [],
   "source": [
    "total_data[0][3]"
   ]
  },
  {
   "cell_type": "code",
   "execution_count": null,
   "metadata": {},
   "outputs": [],
   "source": [
    "def findImage(image_id):\n",
    "    image = plt.imread('../data/example_image/'+image_id+'.jpg')\n",
    "    image_seg = plt.imread('../data/example_segmentation/'+image_id+'_segmentation.png')\n",
    "    return image,image_seg"
   ]
  },
  {
   "cell_type": "code",
   "execution_count": null,
   "metadata": {},
   "outputs": [],
   "source": [
    "def crop_image(img,tol=0):\n",
    "    # img is 2D image data\n",
    "    # tol  is tolerance\n",
    "    mask = img>tol\n",
    "    return img[np.ix_(mask.any(1),mask.any(0))]\n"
   ]
  },
  {
   "cell_type": "code",
   "execution_count": null,
   "metadata": {},
   "outputs": [],
   "source": []
  },
  {
   "cell_type": "code",
   "execution_count": null,
   "metadata": {},
   "outputs": [],
   "source": [
    "import os \n",
    "import cv2\n",
    "import numpy as np\n",
    "\n",
    "mask = cv2.imread('../data/example_segmentation/ISIC_0012099_segmentation.png', 0)\n",
    "\n",
    "\n",
    "height, width = mask.shape\n",
    "x,y,w,h = cv2.boundingRect(mask)\n",
    "\n",
    "# Create new blank image and shift ROI to new coordinates\n",
    "image_mask = np.zeros(mask.shape, dtype=np.uint8)\n",
    "ROI = mask[y:y+h, x:x+w]\n",
    "x = width//2 - ROI.shape[0]//2 \n",
    "y = height//2 - ROI.shape[1]//2 \n",
    "image_mask[y:y+h, x:x+w] = ROI\n",
    "\n",
    "# cropped version of segmentation mask\n",
    "cv2.imshow('ROI', ROI)\n",
    "\n",
    "# original version of segmentation mask\n",
    "cv2.imshow('mask', image_mask)"
   ]
  },
  {
   "cell_type": "code",
   "execution_count": null,
   "metadata": {
    "scrolled": false
   },
   "outputs": [],
   "source": [
    "plt.imshow(image_mask)"
   ]
  },
  {
   "cell_type": "code",
   "execution_count": null,
   "metadata": {},
   "outputs": [],
   "source": [
    "mask = np.array(mask)\n",
    "\n",
    "# select only masked area below\n",
    "masked = total_data[0][1].copy()\n",
    "masked[mask == 0 ] = 0\n",
    "\n",
    "fig, axes = plt.subplots(1, 3, figsize=(16, 12))\n",
    "ax = axes.flatten()\n",
    "\n",
    "ax[0].imshow(image_mask, cmap=\"gray\")\n",
    "ax[0].set_axis_off()\n",
    "ax[0].set_title(\"Original Imput Image\", fontsize=12, c = 'w')\n",
    "\n",
    "ax[1].imshow(ROI, cmap=\"gray\")\n",
    "ax[1].set_axis_off()\n",
    "ax[1].set_title(\"Segmentation Mask\", fontsize=12, c = 'w')\n",
    "\n",
    "ax[2].imshow(image_mask, cmap=\"gray\")\n",
    "ax[2].set_axis_off()\n",
    "ax[2].set_title(\"Masked Image\", fontsize=12, c = 'w')\n",
    "\n",
    "plt.show()"
   ]
  },
  {
   "cell_type": "code",
   "execution_count": null,
   "metadata": {},
   "outputs": [],
   "source": []
  },
  {
   "cell_type": "code",
   "execution_count": null,
   "metadata": {},
   "outputs": [],
   "source": []
  },
  {
   "cell_type": "code",
   "execution_count": null,
   "metadata": {},
   "outputs": [],
   "source": []
  },
  {
   "cell_type": "code",
   "execution_count": null,
   "metadata": {},
   "outputs": [],
   "source": []
  },
  {
   "cell_type": "code",
   "execution_count": null,
   "metadata": {},
   "outputs": [],
   "source": []
  },
  {
   "cell_type": "code",
   "execution_count": null,
   "metadata": {},
   "outputs": [],
   "source": []
  },
  {
   "cell_type": "code",
   "execution_count": null,
   "metadata": {},
   "outputs": [],
   "source": []
  },
  {
   "cell_type": "code",
   "execution_count": null,
   "metadata": {},
   "outputs": [],
   "source": [
    "image, image_seg = findImage(total_data[0][0])"
   ]
  },
  {
   "cell_type": "code",
   "execution_count": null,
   "metadata": {},
   "outputs": [],
   "source": [
    "data = (crop_image(image_seg))"
   ]
  },
  {
   "cell_type": "code",
   "execution_count": null,
   "metadata": {},
   "outputs": [],
   "source": [
    "data"
   ]
  },
  {
   "cell_type": "code",
   "execution_count": null,
   "metadata": {},
   "outputs": [],
   "source": [
    "data.shape"
   ]
  },
  {
   "cell_type": "code",
   "execution_count": null,
   "metadata": {
    "scrolled": false
   },
   "outputs": [],
   "source": [
    "plt.imshow(data)"
   ]
  },
  {
   "cell_type": "code",
   "execution_count": null,
   "metadata": {},
   "outputs": [],
   "source": [
    "total_data[0][0]"
   ]
  },
  {
   "cell_type": "code",
   "execution_count": null,
   "metadata": {},
   "outputs": [],
   "source": [
    "plt.imshow(total_data[0][1])"
   ]
  },
  {
   "cell_type": "code",
   "execution_count": null,
   "metadata": {},
   "outputs": [],
   "source": [
    "img = cv2.imread('../data/example_image/ISIC_0001769.jpg',0)\n",
    "#img = total_data[0][1]\n",
    "kernel = np.ones((20,20),np.uint8)\n",
    "erosion = cv2.erode(img,kernel,iterations = 1)\n",
    "opening = cv2.morphologyEx(img, cv2.MORPH_OPEN, kernel)"
   ]
  },
  {
   "cell_type": "code",
   "execution_count": null,
   "metadata": {},
   "outputs": [],
   "source": [
    "plt.imshow(opening)"
   ]
  },
  {
   "cell_type": "code",
   "execution_count": null,
   "metadata": {},
   "outputs": [],
   "source": [
    "# Load image, grayscale, Otsu's threshold\n",
    "#image = cv2.imread(r'C:\\Users\\Martin\\Documents\\GitHub\\fyp2021p03g04\\data\\example_image\\ISIC_0015496.jpg')\n",
    "image = total_data[0][1]\n",
    "gray = cv2.cvtColor(image, cv2.COLOR_BGR2GRAY)\n",
    "print(gray)\n",
    "thresh = cv2.threshold(gray, 0, 255, cv2.THRESH_BINARY_INV + cv2.THRESH_OTSU)[1]\n",
    "\n",
    "# Remove background using bitwise-and operation\n",
    "result = cv2.bitwise_and(image, image, mask=thresh)\n",
    "result[thresh==0] = [255,255,255] # Turn background white\n",
    "\n",
    "\n",
    "cv2.imshow('result', result)\n",
    "(cv2.imshow('thresh', thresh))"
   ]
  },
  {
   "cell_type": "code",
   "execution_count": null,
   "metadata": {
    "scrolled": true
   },
   "outputs": [],
   "source": [
    "plt.imshow(result)"
   ]
  },
  {
   "cell_type": "code",
   "execution_count": null,
   "metadata": {},
   "outputs": [],
   "source": []
  },
  {
   "cell_type": "code",
   "execution_count": null,
   "metadata": {},
   "outputs": [],
   "source": []
  },
  {
   "cell_type": "code",
   "execution_count": null,
   "metadata": {},
   "outputs": [],
   "source": []
  },
  {
   "cell_type": "code",
   "execution_count": null,
   "metadata": {},
   "outputs": [],
   "source": [
    "unique, counts = np.unique(data, return_counts=True)\n",
    "dict(zip(unique, counts))\n"
   ]
  },
  {
   "cell_type": "code",
   "execution_count": null,
   "metadata": {},
   "outputs": [],
   "source": [
    "plt.imshow(image[data])"
   ]
  },
  {
   "cell_type": "code",
   "execution_count": null,
   "metadata": {},
   "outputs": [],
   "source": []
  },
  {
   "cell_type": "code",
   "execution_count": null,
   "metadata": {},
   "outputs": [],
   "source": [
    "all_feature_merge = file_features_df.merge(ground_truth, on='image_id', how='right')"
   ]
  },
  {
   "cell_type": "code",
   "execution_count": null,
   "metadata": {},
   "outputs": [],
   "source": [
    "all_feature_merge"
   ]
  },
  {
   "cell_type": "code",
   "execution_count": null,
   "metadata": {},
   "outputs": [],
   "source": [
    "label = []\n",
    "for elm in zip(all_feature_merge['melanoma'],all_feature_merge['seborrheic_keratosis']):\n",
    "    \n",
    "    if elm[0] == 1.0:\n",
    "        #print(\"hej\")\n",
    "        label.append(1.0)\n",
    "    if elm[1] == 1.0:\n",
    "        label.append(2.0)\n",
    "    if (elm[0] == 0.0) and (elm[1] == 0.0):\n",
    "        label.append(0)\n",
    "    #print(type(elm[0]))\n",
    "#len(label)\n",
    "all_feature_merge['label'] = label"
   ]
  },
  {
   "cell_type": "code",
   "execution_count": null,
   "metadata": {},
   "outputs": [],
   "source": [
    "#label = []\n",
    "#for elm in zip(all_feature_merge['melanoma'],all_feature_merge['seborrheic_keratosis']):\n",
    "#    \n",
    "#    if elm[0] == 1.0 or elm[1] == 1.0:\n",
    "#        label.append(1.0)\n",
    "#    else:\n",
    "#        label.append(0.0)\n",
    "\n",
    "#all_feature_merge['label'] = label"
   ]
  },
  {
   "cell_type": "code",
   "execution_count": null,
   "metadata": {},
   "outputs": [],
   "source": [
    "all_feature_merge['label']"
   ]
  },
  {
   "cell_type": "code",
   "execution_count": null,
   "metadata": {
    "scrolled": true
   },
   "outputs": [],
   "source": [
    "\n",
    "#Export features from images\n",
    "data = pd.DataFrame()\n",
    "count = 0\n",
    "rows = []\n",
    "for image_id in all_feature_merge['image_id']:\n",
    "    print(image_id,count)\n",
    "    \n",
    "    image = plt.imread('../data/example_image/'+image_id+'.jpg')\n",
    "    image_seg = plt.imread('../data/example_segmentation/'+image_id+'_segmentation.png')\n",
    "    #data['image_id'] = image_id\n",
    "    real_area = int(all_feature_merge[all_feature_merge['image_id'] == image_id]['area'])\n",
    "    real_perimeter = int(all_feature_merge[all_feature_merge['image_id'] == image_id]['perimeter'])\n",
    "    thing = all_feature_merge['image_id'] == image_id\n",
    "    label = int(all_feature_merge[thing]['label'])\n",
    "\n",
    "    calculated_area = int(calculate_area(image_seg))\n",
    "    calculated_perimeter = calculate_border(image_seg,2)\n",
    "    imgCompactness = compactness(calculate_area(image_seg),calculate_border(image_seg,1))\n",
    "    average_rgb = average_colour(image,image_seg)\n",
    "    deviation_of_rgb = deviation_of_colour(image,image_seg)\n",
    "    average_luminosity_img = average_luminosity(image,image_seg)\n",
    "    deviation_luminosity_img = deviation_luminosity(image,image_seg)\n",
    "    row = [label,image_id, real_area, real_perimeter,calculated_area,calculated_perimeter,imgCompactness,average_rgb,deviation_of_rgb,average_luminosity_img,deviation_luminosity_img]\n",
    "    rows.append(row)\n",
    "    count+= 1\n",
    "\n",
    "data = pd.DataFrame(rows, columns = ['label','image_id','real_area','real_perimeter','calculated_area','calculated_perimeter','compactness','average_rgb','deviation_of_colour','average_luminosity','deviation_luminosity'])"
   ]
  },
  {
   "cell_type": "code",
   "execution_count": null,
   "metadata": {},
   "outputs": [],
   "source": []
  },
  {
   "cell_type": "code",
   "execution_count": null,
   "metadata": {},
   "outputs": [],
   "source": [
    "Counter(data['label'])"
   ]
  },
  {
   "cell_type": "code",
   "execution_count": null,
   "metadata": {},
   "outputs": [],
   "source": [
    "#Here we create a backup"
   ]
  },
  {
   "cell_type": "code",
   "execution_count": null,
   "metadata": {
    "scrolled": true
   },
   "outputs": [],
   "source": [
    "backup = data.copy()"
   ]
  },
  {
   "cell_type": "code",
   "execution_count": null,
   "metadata": {},
   "outputs": [],
   "source": [
    "sick = data.copy()"
   ]
  },
  {
   "cell_type": "code",
   "execution_count": null,
   "metadata": {},
   "outputs": [],
   "source": [
    "mask = (sick['label'] == 1) | (sick['label'] == 2)"
   ]
  },
  {
   "cell_type": "code",
   "execution_count": null,
   "metadata": {
    "scrolled": true
   },
   "outputs": [],
   "source": [
    "# This is the df only containing melanoma or keratosis\n",
    "sick_df = sick[mask]"
   ]
  },
  {
   "cell_type": "code",
   "execution_count": null,
   "metadata": {},
   "outputs": [],
   "source": []
  },
  {
   "cell_type": "code",
   "execution_count": null,
   "metadata": {},
   "outputs": [],
   "source": [
    "label = []\n",
    "for elm in zip(all_feature_merge['melanoma'],all_feature_merge['seborrheic_keratosis']):\n",
    "    \n",
    "    if elm[0] == 1.0 or elm[1] == 1.0:\n",
    "        #print(\"hej\")\n",
    "        label.append(1.0)\n",
    "    else:\n",
    "        label.append(0.0)\n",
    "    \n",
    "data['label'] = label"
   ]
  },
  {
   "cell_type": "code",
   "execution_count": null,
   "metadata": {},
   "outputs": [],
   "source": [
    "#Now data is the df containing melanoma and keratosis as 1 and nothing as 0 "
   ]
  },
  {
   "cell_type": "code",
   "execution_count": null,
   "metadata": {},
   "outputs": [],
   "source": [
    "Counter(data['label'])"
   ]
  },
  {
   "cell_type": "code",
   "execution_count": null,
   "metadata": {},
   "outputs": [],
   "source": []
  },
  {
   "cell_type": "markdown",
   "metadata": {},
   "source": [
    "## Testing and cross validation"
   ]
  },
  {
   "cell_type": "markdown",
   "metadata": {},
   "source": [
    "### test 01 without the color"
   ]
  },
  {
   "cell_type": "code",
   "execution_count": null,
   "metadata": {
    "scrolled": true
   },
   "outputs": [],
   "source": [
    "data = data.drop(columns = ['average_rgb','deviation_of_colour'])"
   ]
  },
  {
   "cell_type": "code",
   "execution_count": null,
   "metadata": {},
   "outputs": [],
   "source": [
    "np_data = np.array(data.iloc[:,2:11])"
   ]
  },
  {
   "cell_type": "code",
   "execution_count": null,
   "metadata": {},
   "outputs": [],
   "source": [
    "label = np.array(data.iloc[:,0:1])"
   ]
  },
  {
   "cell_type": "code",
   "execution_count": null,
   "metadata": {},
   "outputs": [],
   "source": [
    "label = [int(x) for x in label]"
   ]
  },
  {
   "cell_type": "code",
   "execution_count": null,
   "metadata": {},
   "outputs": [],
   "source": [
    "x_train, x_test, y_train, y_test = train_test_split(np_data,label,test_size=0.2, random_state = 4)"
   ]
  },
  {
   "cell_type": "code",
   "execution_count": null,
   "metadata": {},
   "outputs": [],
   "source": [
    "x_train[0]"
   ]
  },
  {
   "cell_type": "code",
   "execution_count": null,
   "metadata": {},
   "outputs": [],
   "source": [
    "# Here we make a accuacy score for \n",
    "acc = []\n",
    "for i in range(1,71):\n",
    "    pred = make_knn_prediction(i) #Here i create the prediction and appending it\n",
    "    acc.append((accuracy_score(y_test, pred)))"
   ]
  },
  {
   "cell_type": "code",
   "execution_count": null,
   "metadata": {
    "scrolled": true
   },
   "outputs": [],
   "source": [
    "#Here I simply create the plot\n",
    "plt.plot\n",
    "plt.ylabel('Prediction accuracy')\n",
    "plt.xlabel('Value of K')\n",
    "plt.title('Prediction by our KNN-model for different values of k')\n",
    "plt.ylim(0.2,0.8)\n",
    "plt.plot(acc)\n",
    "plt.grid()\n",
    "plt.show()"
   ]
  },
  {
   "cell_type": "code",
   "execution_count": null,
   "metadata": {},
   "outputs": [],
   "source": [
    "knn = knn_model_constructor(11,np_data, label)"
   ]
  },
  {
   "cell_type": "code",
   "execution_count": null,
   "metadata": {},
   "outputs": [],
   "source": [
    "scores = cross_val_score(knn, np_data, label, cv=5)"
   ]
  },
  {
   "cell_type": "code",
   "execution_count": null,
   "metadata": {
    "scrolled": true
   },
   "outputs": [],
   "source": [
    "# Here we print the average score from the cross validation\n",
    "sum(scores)/5"
   ]
  },
  {
   "cell_type": "markdown",
   "metadata": {},
   "source": [
    "## Test 03 with color as an int"
   ]
  },
  {
   "cell_type": "code",
   "execution_count": null,
   "metadata": {},
   "outputs": [],
   "source": [
    "data = backup.copy()"
   ]
  },
  {
   "cell_type": "code",
   "execution_count": null,
   "metadata": {
    "scrolled": true
   },
   "outputs": [],
   "source": [
    "data"
   ]
  },
  {
   "cell_type": "code",
   "execution_count": null,
   "metadata": {},
   "outputs": [],
   "source": [
    "# Here we convert the rgb featues to a number using hex values\n",
    "hex_val = from_rgb_to_int(data['average_rgb'])\n",
    "data['average_rgb'] = hex_val\n",
    "hex_val = from_rgb_to_int(data['deviation_of_colour'])\n",
    "data['deviation_of_colour'] = hex_val\n",
    "for elm in data.iloc[:,2:]:\n",
    "    data[elm] = np.log10(data[elm])"
   ]
  },
  {
   "cell_type": "code",
   "execution_count": null,
   "metadata": {
    "scrolled": true
   },
   "outputs": [],
   "source": [
    "np_data = np.array(data.iloc[:,2:])"
   ]
  },
  {
   "cell_type": "code",
   "execution_count": null,
   "metadata": {},
   "outputs": [],
   "source": [
    "label = np.array(data.iloc[:,0:1])"
   ]
  },
  {
   "cell_type": "code",
   "execution_count": null,
   "metadata": {},
   "outputs": [],
   "source": [
    "label = [int(x) for x in label]"
   ]
  },
  {
   "cell_type": "code",
   "execution_count": null,
   "metadata": {},
   "outputs": [],
   "source": [
    "x_train, x_test, y_train, y_test = train_test_split(np_data,label,test_size=0.2, random_state = 4)"
   ]
  },
  {
   "cell_type": "code",
   "execution_count": null,
   "metadata": {
    "scrolled": true
   },
   "outputs": [],
   "source": [
    "# Here we make a accuacy score for \n",
    "acc = []\n",
    "for i in range(1,71):\n",
    "    pred = make_knn_prediction(i) #Here i create the prediction and appending it\n",
    "    acc.append((accuracy_score(y_test, pred)))"
   ]
  },
  {
   "cell_type": "code",
   "execution_count": null,
   "metadata": {
    "scrolled": false
   },
   "outputs": [],
   "source": [
    "#Here I simply create the plot\n",
    "plt.plot\n",
    "plt.ylabel('Prediction accuracy')\n",
    "plt.xlabel('Value of K')\n",
    "plt.title('Prediction by our KNN-model for different values of k')\n",
    "plt.ylim(0.2,0.8)\n",
    "plt.plot(acc)\n",
    "plt.grid()\n",
    "plt.show()"
   ]
  },
  {
   "cell_type": "code",
   "execution_count": null,
   "metadata": {},
   "outputs": [],
   "source": [
    "knn = knn_model_constructor(11,np_data, label)"
   ]
  },
  {
   "cell_type": "code",
   "execution_count": null,
   "metadata": {},
   "outputs": [],
   "source": [
    "scores = cross_val_score(knn, np_data, label, cv=5)"
   ]
  },
  {
   "cell_type": "code",
   "execution_count": null,
   "metadata": {},
   "outputs": [],
   "source": [
    "# Here we print the average score from the cross validation\n",
    "sum(scores)/5"
   ]
  },
  {
   "cell_type": "markdown",
   "metadata": {},
   "source": [
    "### Test 02 using log on the df"
   ]
  },
  {
   "cell_type": "code",
   "execution_count": null,
   "metadata": {
    "scrolled": true
   },
   "outputs": [],
   "source": [
    "data = backup.copy()"
   ]
  },
  {
   "cell_type": "code",
   "execution_count": null,
   "metadata": {
    "scrolled": true
   },
   "outputs": [],
   "source": [
    "hex_val = from_rgb_to_int(data['average_rgb'])\n",
    "data['average_rgb'] = hex_val"
   ]
  },
  {
   "cell_type": "code",
   "execution_count": null,
   "metadata": {},
   "outputs": [],
   "source": [
    "hex_val = from_rgb_to_int(data['deviation_of_colour'])\n",
    "data['deviation_of_colour'] = hex_val"
   ]
  },
  {
   "cell_type": "code",
   "execution_count": null,
   "metadata": {},
   "outputs": [],
   "source": [
    "for elm in data.iloc[:,2:]:\n",
    "    data[elm] = np.log10(data[elm])"
   ]
  },
  {
   "cell_type": "code",
   "execution_count": null,
   "metadata": {},
   "outputs": [],
   "source": [
    "data"
   ]
  },
  {
   "cell_type": "code",
   "execution_count": null,
   "metadata": {},
   "outputs": [],
   "source": [
    "np_data = np.array(data.iloc[:,2:])"
   ]
  },
  {
   "cell_type": "code",
   "execution_count": null,
   "metadata": {},
   "outputs": [],
   "source": [
    "label = np.array(data.iloc[:,0:1])"
   ]
  },
  {
   "cell_type": "code",
   "execution_count": null,
   "metadata": {},
   "outputs": [],
   "source": [
    "label = [int(x) for x in label]"
   ]
  },
  {
   "cell_type": "code",
   "execution_count": null,
   "metadata": {},
   "outputs": [],
   "source": [
    "x_train, x_test, y_train, y_test = train_test_split(np_data,label,test_size=0.2, random_state = 4)"
   ]
  },
  {
   "cell_type": "code",
   "execution_count": null,
   "metadata": {},
   "outputs": [],
   "source": []
  },
  {
   "cell_type": "code",
   "execution_count": null,
   "metadata": {},
   "outputs": [],
   "source": [
    "# Here we make a accuacy score for \n",
    "acc = []\n",
    "for i in range(1,71):\n",
    "    pred = make_knn_prediction(i) #Here i create the prediction and appending it\n",
    "    acc.append((accuracy_score(y_test, pred)))"
   ]
  },
  {
   "cell_type": "code",
   "execution_count": null,
   "metadata": {},
   "outputs": [],
   "source": []
  },
  {
   "cell_type": "code",
   "execution_count": null,
   "metadata": {
    "scrolled": false
   },
   "outputs": [],
   "source": [
    "#Here I simply create the plot\n",
    "plt.plot\n",
    "plt.ylabel('Prediction accuracy')\n",
    "plt.xlabel('Value of K')\n",
    "plt.title('Prediction by our KNN-model for different values of k')\n",
    "plt.ylim(0.2,0.8)\n",
    "plt.plot(acc)\n",
    "plt.grid()\n",
    "plt.show()"
   ]
  },
  {
   "cell_type": "code",
   "execution_count": null,
   "metadata": {},
   "outputs": [],
   "source": [
    "knn = knn_model_constructor(11,np_data,label)"
   ]
  },
  {
   "cell_type": "code",
   "execution_count": null,
   "metadata": {},
   "outputs": [],
   "source": [
    "scores = cross_val_score(knn, np_data, label, cv=5)"
   ]
  },
  {
   "cell_type": "code",
   "execution_count": null,
   "metadata": {},
   "outputs": [],
   "source": [
    "# Here we print the average score from the cross validation\n",
    "sum(scores)/5"
   ]
  },
  {
   "cell_type": "markdown",
   "metadata": {},
   "source": [
    "## Test 04 Only with limited features"
   ]
  },
  {
   "cell_type": "code",
   "execution_count": null,
   "metadata": {},
   "outputs": [],
   "source": [
    "data = backup.copy()"
   ]
  },
  {
   "cell_type": "code",
   "execution_count": null,
   "metadata": {},
   "outputs": [],
   "source": [
    "data = data.drop(columns = ['calculated_area','calculated_perimeter'])"
   ]
  },
  {
   "cell_type": "code",
   "execution_count": null,
   "metadata": {},
   "outputs": [],
   "source": [
    "hex_val = from_rgb_to_int(data['deviation_of_colour'])\n",
    "data['deviation_of_colour'] = hex_val\n",
    "hex_val = from_rgb_to_int(data['average_rgb'])\n",
    "data['average_rgb'] = hex_val"
   ]
  },
  {
   "cell_type": "code",
   "execution_count": null,
   "metadata": {},
   "outputs": [],
   "source": [
    "np_data = np.array(data.iloc[:,2:])\n",
    "label = np.array(data.iloc[:,0:1])\n",
    "label = [int(x) for x in label]\n",
    "x_train, x_test, y_train, y_test = train_test_split(np_data,label,test_size=0.2, random_state = 4)\n",
    "# Here we make a accuacy score for \n",
    "acc = []\n",
    "for i in range(1,71):\n",
    "    pred = make_knn_prediction(i) #Here i create the prediction and appending it\n",
    "    acc.append((accuracy_score(y_test, pred)))"
   ]
  },
  {
   "cell_type": "code",
   "execution_count": null,
   "metadata": {},
   "outputs": [],
   "source": [
    "#Here I simply create the plot\n",
    "plt.plot\n",
    "plt.ylabel('Prediction accuracy')\n",
    "plt.xlabel('Value of K')\n",
    "plt.title('Prediction by our KNN-model for different values of k')\n",
    "plt.ylim(0.2,0.8)\n",
    "plt.plot(acc)\n",
    "plt.grid()\n",
    "plt.show()"
   ]
  },
  {
   "cell_type": "code",
   "execution_count": null,
   "metadata": {},
   "outputs": [],
   "source": [
    "knn = knn_model_constructor(11,np_data, label)\n",
    "scores = cross_val_score(knn, np_data, label, cv=5)\n",
    "sum(scores)/5"
   ]
  },
  {
   "cell_type": "markdown",
   "metadata": {},
   "source": [
    "## Test 05 Test using binary labels"
   ]
  },
  {
   "cell_type": "code",
   "execution_count": null,
   "metadata": {},
   "outputs": [],
   "source": [
    "backup_binary_label = sick_df.copy()"
   ]
  },
  {
   "cell_type": "code",
   "execution_count": null,
   "metadata": {},
   "outputs": [],
   "source": [
    "data = sick_df"
   ]
  },
  {
   "cell_type": "code",
   "execution_count": null,
   "metadata": {},
   "outputs": [],
   "source": [
    "data = data.drop(columns = ['calculated_area','calculated_perimeter'])"
   ]
  },
  {
   "cell_type": "code",
   "execution_count": null,
   "metadata": {},
   "outputs": [],
   "source": [
    "# Here we convert our rgb to hex to int\n",
    "hex_val = from_rgb_to_int(data['deviation_of_colour'])\n",
    "data['deviation_of_colour'] = hex_val\n",
    "hex_val = from_rgb_to_int(data['average_rgb'])\n",
    "data['average_rgb'] = hex_val"
   ]
  },
  {
   "cell_type": "code",
   "execution_count": null,
   "metadata": {},
   "outputs": [],
   "source": [
    "#This is to transform our data to using log 10\n",
    "for elm in data.iloc[:,2:]:\n",
    "    data[elm] = np.log10(data[elm])"
   ]
  },
  {
   "cell_type": "code",
   "execution_count": null,
   "metadata": {},
   "outputs": [],
   "source": [
    "np_data = np.array(data.iloc[:,2:])\n",
    "label = np.array(data.iloc[:,0:1])\n",
    "label = [int(x) for x in label]\n",
    "x_train, x_test, y_train, y_test = train_test_split(np_data,label,test_size=0.2, random_state = 4)\n",
    "# Here we make a accuacy score for \n",
    "acc = []\n",
    "for i in range(1,50):\n",
    "    pred = make_knn_prediction(i) #Here i create the prediction and appending it\n",
    "    acc.append((accuracy_score(y_test, pred)))"
   ]
  },
  {
   "cell_type": "code",
   "execution_count": null,
   "metadata": {},
   "outputs": [],
   "source": [
    "#Here I simply create the plot\n",
    "plt.plot\n",
    "plt.ylabel('Prediction accuracy')\n",
    "plt.xlabel('Value of K')\n",
    "plt.title('Prediction by our KNN-model for different values of k')\n",
    "plt.ylim(0.2,0.8)\n",
    "plt.plot(acc)\n",
    "plt.grid()\n",
    "plt.show()"
   ]
  },
  {
   "cell_type": "code",
   "execution_count": null,
   "metadata": {},
   "outputs": [],
   "source": [
    "knn = knn_model_constructor(11,np_data, label)\n",
    "scores = cross_val_score(knn, np_data, label, cv=5)\n",
    "sum(scores)/5"
   ]
  },
  {
   "cell_type": "code",
   "execution_count": null,
   "metadata": {},
   "outputs": [],
   "source": []
  },
  {
   "cell_type": "code",
   "execution_count": null,
   "metadata": {},
   "outputs": [],
   "source": []
  },
  {
   "cell_type": "code",
   "execution_count": null,
   "metadata": {},
   "outputs": [],
   "source": []
  },
  {
   "cell_type": "code",
   "execution_count": null,
   "metadata": {},
   "outputs": [],
   "source": []
  },
  {
   "cell_type": "code",
   "execution_count": null,
   "metadata": {},
   "outputs": [],
   "source": []
  },
  {
   "cell_type": "code",
   "execution_count": null,
   "metadata": {},
   "outputs": [],
   "source": []
  },
  {
   "cell_type": "code",
   "execution_count": null,
   "metadata": {},
   "outputs": [],
   "source": []
  },
  {
   "cell_type": "code",
   "execution_count": null,
   "metadata": {},
   "outputs": [],
   "source": []
  },
  {
   "cell_type": "code",
   "execution_count": null,
   "metadata": {},
   "outputs": [],
   "source": []
  },
  {
   "cell_type": "code",
   "execution_count": null,
   "metadata": {},
   "outputs": [],
   "source": []
  },
  {
   "cell_type": "code",
   "execution_count": null,
   "metadata": {},
   "outputs": [],
   "source": []
  },
  {
   "cell_type": "code",
   "execution_count": null,
   "metadata": {},
   "outputs": [],
   "source": []
  },
  {
   "cell_type": "code",
   "execution_count": null,
   "metadata": {},
   "outputs": [],
   "source": []
  },
  {
   "cell_type": "code",
   "execution_count": null,
   "metadata": {},
   "outputs": [],
   "source": []
  },
  {
   "cell_type": "code",
   "execution_count": null,
   "metadata": {},
   "outputs": [],
   "source": []
  },
  {
   "cell_type": "code",
   "execution_count": null,
   "metadata": {},
   "outputs": [],
   "source": []
  },
  {
   "cell_type": "code",
   "execution_count": null,
   "metadata": {},
   "outputs": [],
   "source": []
  },
  {
   "cell_type": "code",
   "execution_count": null,
   "metadata": {},
   "outputs": [],
   "source": []
  },
  {
   "cell_type": "code",
   "execution_count": null,
   "metadata": {},
   "outputs": [],
   "source": []
  },
  {
   "cell_type": "code",
   "execution_count": null,
   "metadata": {},
   "outputs": [],
   "source": []
  },
  {
   "cell_type": "code",
   "execution_count": null,
   "metadata": {},
   "outputs": [],
   "source": []
  },
  {
   "cell_type": "code",
   "execution_count": null,
   "metadata": {},
   "outputs": [],
   "source": []
  },
  {
   "cell_type": "code",
   "execution_count": null,
   "metadata": {},
   "outputs": [],
   "source": []
  },
  {
   "cell_type": "code",
   "execution_count": null,
   "metadata": {},
   "outputs": [],
   "source": []
  },
  {
   "cell_type": "code",
   "execution_count": null,
   "metadata": {},
   "outputs": [],
   "source": []
  },
  {
   "cell_type": "code",
   "execution_count": null,
   "metadata": {},
   "outputs": [],
   "source": []
  },
  {
   "cell_type": "code",
   "execution_count": null,
   "metadata": {},
   "outputs": [],
   "source": [
    "#Here we load the data\n",
    "#The list has the following structure\n",
    "#['id','np_array of a picture','the mask of the picture']"
   ]
  },
  {
   "cell_type": "code",
   "execution_count": null,
   "metadata": {},
   "outputs": [],
   "source": [
    "#Training data is structured the following way\n",
    "#['np_array of a picture','label']\n",
    "#In our case \n",
    "#0 == melanoma\n",
    "#1 == keratosis"
   ]
  },
  {
   "cell_type": "code",
   "execution_count": null,
   "metadata": {
    "scrolled": true
   },
   "outputs": [],
   "source": [
    "mask = ground_truth['melanoma'] == 1\n",
    "melanoma_mask = ground_truth[mask]\n",
    "\n",
    "total_data = []\n",
    "melanoma_data = []\n",
    "keratosis_data = []\n",
    "training_data = []\n",
    "x = 0\n",
    "\n",
    "for image_id in ground_truth['image_id']:\n",
    "    print(image_id,x)\n",
    "    image = plt.imread('../data/example_image/'+image_id+'.jpg') # Here we load the image\n",
    "    image_seg = plt.imread('../data/example_segmentation/'+image_id+'_segmentation.png') # Here we load the mask\n",
    "    if image_id in list(melanoma_mask['image_id']): # If the image id is in the melanoma list, label it as melanoma\n",
    "        melanoma_data.append((image_id,image,image_seg)) #else label it as keratosis\n",
    "        training_data.append((image,0))\n",
    "    else:\n",
    "        keratosis_data.append((image_id,image,image_seg))\n",
    "        training_data.append((image,1))\n",
    "    total_data.append((image_id,image,image_seg)) #Here we have a list of all the data together\n",
    "    x += 1"
   ]
  },
  {
   "cell_type": "code",
   "execution_count": null,
   "metadata": {},
   "outputs": [],
   "source": [
    "len(melanoma_data)"
   ]
  },
  {
   "cell_type": "code",
   "execution_count": null,
   "metadata": {
    "scrolled": true
   },
   "outputs": [],
   "source": [
    "len(keratosis_data)"
   ]
  },
  {
   "cell_type": "code",
   "execution_count": null,
   "metadata": {},
   "outputs": [],
   "source": [
    "#read file\n",
    "file_input = pd.read_csv(\"../data/example_ground_truth.csv\")\n",
    "file_input.shape"
   ]
  },
  {
   "cell_type": "code",
   "execution_count": null,
   "metadata": {
    "scrolled": true
   },
   "outputs": [],
   "source": [
    "# data frame for images with no diagnosis\n",
    "non_malignant_df = file_input.loc[(file_input['melanoma'] == 0.0) & (file_input[\"seborrheic_keratosis\"] == 0.0)]\n",
    "non_malignant_df"
   ]
  },
  {
   "cell_type": "code",
   "execution_count": null,
   "metadata": {},
   "outputs": [],
   "source": []
  },
  {
   "cell_type": "code",
   "execution_count": null,
   "metadata": {
    "scrolled": true
   },
   "outputs": [],
   "source": [
    "#filter out all images that are not melanoma\n",
    "melanoma = file_input[file_input[\"melanoma\"] == 1.0]\n",
    "\n",
    "#remove column for keratosis\n",
    "melanoma_df = melanoma.drop([\"seborrheic_keratosis\"], axis = 1)\n",
    "melanoma_df"
   ]
  },
  {
   "cell_type": "code",
   "execution_count": null,
   "metadata": {
    "scrolled": true
   },
   "outputs": [],
   "source": [
    "#number of images left\n",
    "melanoma.shape"
   ]
  },
  {
   "cell_type": "code",
   "execution_count": null,
   "metadata": {},
   "outputs": [],
   "source": [
    "#read file features\n",
    "file_features_df = pd.read_csv(\"../features/features.csv\")\n",
    "file_features_df.shape\n",
    "\n",
    "#150 rows, 3 columns"
   ]
  },
  {
   "cell_type": "code",
   "execution_count": null,
   "metadata": {},
   "outputs": [],
   "source": [
    "#data frame for features\n",
    "file_features_df"
   ]
  },
  {
   "cell_type": "code",
   "execution_count": null,
   "metadata": {},
   "outputs": [],
   "source": [
    "#rename column 'id' to 'image_id'\n",
    "file_features_df.rename(columns={'id': 'image_id'}, inplace=True)\n",
    "\n",
    "#merge data frame for file_features_df with melanoma by column 'image_id'\n",
    "merge_feature_melanoma = file_features_df.merge(melanoma_df, on='image_id', how='right')"
   ]
  },
  {
   "cell_type": "code",
   "execution_count": null,
   "metadata": {
    "scrolled": true
   },
   "outputs": [],
   "source": [
    "#data frame for merged features and melanoma\n",
    "#this data frame shows only data related to melanoma \n",
    "\n",
    "merge_feature_melanoma"
   ]
  },
  {
   "cell_type": "code",
   "execution_count": null,
   "metadata": {},
   "outputs": [],
   "source": [
    "# size of data frame\n",
    "merge_feature_melanoma.shape"
   ]
  },
  {
   "cell_type": "code",
   "execution_count": null,
   "metadata": {
    "scrolled": true
   },
   "outputs": [],
   "source": [
    "merge_feature_non_malignant_df = file_features_df.merge(non_malignant_df, on='image_id', how='right')\n",
    "#Here we use the function isna() to check for missing values in the different columns\n",
    "merge_feature_non_malignant_df.isna().any()"
   ]
  },
  {
   "cell_type": "code",
   "execution_count": null,
   "metadata": {
    "scrolled": false
   },
   "outputs": [],
   "source": [
    "merge_feature_non_malignant_df"
   ]
  },
  {
   "cell_type": "code",
   "execution_count": null,
   "metadata": {},
   "outputs": [],
   "source": [
    "all_feature_merge = file_features_df.merge(file_input, on='image_id', how='right')"
   ]
  },
  {
   "cell_type": "markdown",
   "metadata": {},
   "source": [
    "## Final DF"
   ]
  },
  {
   "cell_type": "code",
   "execution_count": null,
   "metadata": {
    "scrolled": true
   },
   "outputs": [],
   "source": [
    "#Export features from images\n",
    "data = pd.DataFrame()\n",
    "count = 0\n",
    "rows = []\n",
    "for image_id in all_feature_merge['image_id']:\n",
    "    print(image_id,count)\n",
    "    \n",
    "    image = plt.imread('../data/example_image/'+image_id+'.jpg')\n",
    "    image_seg = plt.imread('../data/example_segmentation/'+image_id+'_segmentation.png')\n",
    "    #data['image_id'] = image_id\n",
    "    real_area = int(all_feature_merge[all_feature_merge['image_id'] == image_id]['area'])\n",
    "    real_perimeter = int(all_feature_merge[all_feature_merge['image_id'] == image_id]['perimeter'])\n",
    "    melanoma = int(all_feature_merge[all_feature_merge['image_id'] == image_id]['melanoma'])\n",
    "    seborrheic_keratosis = int(all_feature_merge[all_feature_merge['image_id'] == image_id]['seborrheic_keratosis'])\n",
    "    thing = (all_feature_merge['image_id'] == image_id)\n",
    "    all_feature_merge\n",
    "    #label = int(all_feature_merge[all_feature_merge['image_id'] == image_id])\n",
    "    calculated_area = int(calculate_area(image_seg))\n",
    "    calculated_perimeter = calculate_border(image_seg,2)\n",
    "    imgCompactness = compactness(calculate_area(image_seg),calculate_border(image_seg,1))\n",
    "    average_rgb = average_colour(image,image_seg)\n",
    "    deviation_of_rgb = deviation_of_colour(image,image_seg)\n",
    "    average_luminosity_img = average_luminosity(image,image_seg)\n",
    "    deviation_luminosity_img = deviation_luminosity(image,image_seg)\n",
    "    row = [image_id, real_area, real_perimeter, label,melanoma,seborrheic_keratosis,calculated_area,calculated_perimeter,imgCompactness,average_rgb,deviation_of_rgb,average_luminosity_img,deviation_luminosity_img]\n",
    "    rows.append(row)\n",
    "    count+= 1\n",
    "\n",
    "data = pd.DataFrame(rows, columns = ['image_id','real_area','real_perimeter', 'label','melanoma','seborrheic_keratosis','calculated_area','calculated_perimeter','compactness','average_rgb','deviation_of_colour','average_luminosity','deviation_luminosity'])"
   ]
  },
  {
   "cell_type": "code",
   "execution_count": null,
   "metadata": {},
   "outputs": [],
   "source": [
    "Counter(data['seborrheic_keratosis'])"
   ]
  },
  {
   "cell_type": "code",
   "execution_count": null,
   "metadata": {},
   "outputs": [],
   "source": [
    "Counter(data['melanoma'])"
   ]
  },
  {
   "cell_type": "code",
   "execution_count": null,
   "metadata": {
    "scrolled": true
   },
   "outputs": [],
   "source": [
    "data"
   ]
  },
  {
   "cell_type": "code",
   "execution_count": null,
   "metadata": {},
   "outputs": [],
   "source": [
    "X = "
   ]
  },
  {
   "cell_type": "code",
   "execution_count": null,
   "metadata": {},
   "outputs": [],
   "source": [
    "x = raw_data[:,:4] #I chose the first 4 columns\n",
    "y = raw_data[:,-1]#I chose the last column\n",
    "print(x.shape,y.shape)"
   ]
  },
  {
   "cell_type": "code",
   "execution_count": null,
   "metadata": {},
   "outputs": [],
   "source": []
  },
  {
   "cell_type": "code",
   "execution_count": null,
   "metadata": {},
   "outputs": [],
   "source": []
  },
  {
   "cell_type": "code",
   "execution_count": null,
   "metadata": {},
   "outputs": [],
   "source": []
  },
  {
   "cell_type": "code",
   "execution_count": null,
   "metadata": {
    "scrolled": true
   },
   "outputs": [],
   "source": [
    "# Here we use our functions area and border to calculate the compactness of the first image\n",
    "area1 = calculate_area(melanoma_data[0][2])\n",
    "border1 = calculate_border(melanoma_data[0][2],4)\n",
    "compactness(area1,border1)"
   ]
  },
  {
   "cell_type": "code",
   "execution_count": null,
   "metadata": {},
   "outputs": [],
   "source": [
    "\n",
    "\n",
    "#Structural element, that we will use as a \"brush\" on our mask\n",
    "struct_el = morphology.disk(4)\n",
    "\n",
    "mask_eroded = morphology.binary_erosion(melanoma_data[0][2], struct_el)\n",
    "\n",
    "# Show side by side\n",
    "\n",
    "fig, axes = plt.subplots(nrows=1, ncols=2, figsize=(10, 5))\n",
    "axes[0].imshow(melanoma_data[0][2][500:1200,1000:2000], cmap='gray')\n",
    "#axes[1].imshow(mask_eroded, cmap='gray')\n",
    "fig.tight_layout()\n",
    "\n",
    "# Verify it's smaller\n",
    "#print(area)\n",
    "print(calculate_area(melanoma_data[0][2])-np.sum(mask_eroded))\n",
    "border = melanoma_data[0][2]-mask_eroded\n",
    "plt.imshow(border[500:1200,1000:2000])\n"
   ]
  },
  {
   "cell_type": "code",
   "execution_count": null,
   "metadata": {},
   "outputs": [],
   "source": []
  },
  {
   "cell_type": "code",
   "execution_count": null,
   "metadata": {},
   "outputs": [],
   "source": []
  },
  {
   "cell_type": "code",
   "execution_count": null,
   "metadata": {},
   "outputs": [],
   "source": []
  },
  {
   "cell_type": "code",
   "execution_count": null,
   "metadata": {},
   "outputs": [],
   "source": []
  },
  {
   "cell_type": "code",
   "execution_count": null,
   "metadata": {},
   "outputs": [],
   "source": [
    "def masking(image,mask):\n",
    "    mask2 = mask == 0\n",
    "    copy = image.copy()\n",
    "    copy[mask2] = [0,0,0]\n",
    "    return copy\n",
    "test = masking(total_data[0][1],total_data[0][2])"
   ]
  },
  {
   "cell_type": "code",
   "execution_count": null,
   "metadata": {},
   "outputs": [],
   "source": [
    "mask2 = total_data[0][2] == 0\n",
    "copy = total_data[0][1].copy()\n",
    "copy[mask2] = [0,0,0]"
   ]
  },
  {
   "cell_type": "code",
   "execution_count": null,
   "metadata": {},
   "outputs": [],
   "source": []
  },
  {
   "cell_type": "code",
   "execution_count": null,
   "metadata": {
    "scrolled": true
   },
   "outputs": [],
   "source": [
    "plt.imshow(test)"
   ]
  },
  {
   "cell_type": "code",
   "execution_count": null,
   "metadata": {},
   "outputs": [],
   "source": [
    "image = test"
   ]
  },
  {
   "cell_type": "code",
   "execution_count": null,
   "metadata": {},
   "outputs": [],
   "source": []
  },
  {
   "cell_type": "code",
   "execution_count": null,
   "metadata": {},
   "outputs": [],
   "source": []
  },
  {
   "cell_type": "code",
   "execution_count": null,
   "metadata": {},
   "outputs": [],
   "source": [
    "modified_image = cv2.resize(image, (600, 400), interpolation = cv2.INTER_AREA)\n",
    "modified_image = modified_image.reshape(modified_image.shape[0]*modified_image.shape[1], 3)"
   ]
  },
  {
   "cell_type": "code",
   "execution_count": null,
   "metadata": {},
   "outputs": [],
   "source": [
    "modified_image"
   ]
  },
  {
   "cell_type": "code",
   "execution_count": null,
   "metadata": {},
   "outputs": [],
   "source": []
  },
  {
   "cell_type": "code",
   "execution_count": null,
   "metadata": {},
   "outputs": [],
   "source": []
  },
  {
   "cell_type": "code",
   "execution_count": null,
   "metadata": {},
   "outputs": [],
   "source": [
    "number_of_colors = 5"
   ]
  },
  {
   "cell_type": "code",
   "execution_count": null,
   "metadata": {},
   "outputs": [],
   "source": [
    "clf = KMeans(n_clusters = number_of_colors)\n",
    "labels = clf.fit_predict(modified_image)"
   ]
  },
  {
   "cell_type": "code",
   "execution_count": null,
   "metadata": {
    "scrolled": false
   },
   "outputs": [],
   "source": [
    "counts = Counter(labels)"
   ]
  },
  {
   "cell_type": "code",
   "execution_count": null,
   "metadata": {},
   "outputs": [],
   "source": [
    "len(labels)"
   ]
  },
  {
   "cell_type": "code",
   "execution_count": null,
   "metadata": {},
   "outputs": [],
   "source": [
    "len(labels)/600"
   ]
  },
  {
   "cell_type": "code",
   "execution_count": null,
   "metadata": {},
   "outputs": [],
   "source": [
    "labels.resize(600,400)"
   ]
  },
  {
   "cell_type": "code",
   "execution_count": null,
   "metadata": {},
   "outputs": [],
   "source": [
    "labels"
   ]
  },
  {
   "cell_type": "code",
   "execution_count": null,
   "metadata": {},
   "outputs": [],
   "source": [
    "plt.imshow(labels)"
   ]
  },
  {
   "cell_type": "code",
   "execution_count": null,
   "metadata": {},
   "outputs": [],
   "source": []
  },
  {
   "cell_type": "code",
   "execution_count": null,
   "metadata": {},
   "outputs": [],
   "source": []
  },
  {
   "cell_type": "code",
   "execution_count": null,
   "metadata": {},
   "outputs": [],
   "source": []
  },
  {
   "cell_type": "code",
   "execution_count": null,
   "metadata": {
    "scrolled": true
   },
   "outputs": [],
   "source": [
    "\n",
    "center_colors = clf.cluster_centers_\n",
    "# We get ordered colors by iterating through the keys\n",
    "ordered_colors = [center_colors[i] for i in counts.keys()]\n",
    "hex_colors = [RGB2HEX(ordered_colors[i]) for i in counts.keys()]\n",
    "rgb_colors = [ordered_colors[i] for i in counts.keys()]"
   ]
  },
  {
   "cell_type": "code",
   "execution_count": null,
   "metadata": {},
   "outputs": [],
   "source": []
  },
  {
   "cell_type": "code",
   "execution_count": null,
   "metadata": {},
   "outputs": [],
   "source": [
    "color_list = []\n",
    "color_count = []\n",
    "for elm in zip(counts.values(),hex_colors):\n",
    "    if elm[1] == '#000000':\n",
    "        None\n",
    "    else:\n",
    "        color_list.append(elm[1])\n",
    "        color_count.append(elm[0])"
   ]
  },
  {
   "cell_type": "code",
   "execution_count": null,
   "metadata": {
    "scrolled": false
   },
   "outputs": [],
   "source": [
    "plt.figure(figsize = (8, 6))\n",
    "plt.pie(color_count, labels = color_list, colors = color_list);"
   ]
  },
  {
   "cell_type": "code",
   "execution_count": null,
   "metadata": {},
   "outputs": [],
   "source": []
  },
  {
   "cell_type": "code",
   "execution_count": null,
   "metadata": {},
   "outputs": [],
   "source": []
  },
  {
   "cell_type": "code",
   "execution_count": null,
   "metadata": {},
   "outputs": [],
   "source": []
  },
  {
   "cell_type": "code",
   "execution_count": null,
   "metadata": {},
   "outputs": [],
   "source": []
  },
  {
   "cell_type": "code",
   "execution_count": null,
   "metadata": {},
   "outputs": [],
   "source": []
  },
  {
   "cell_type": "code",
   "execution_count": null,
   "metadata": {},
   "outputs": [],
   "source": []
  },
  {
   "cell_type": "code",
   "execution_count": null,
   "metadata": {},
   "outputs": [],
   "source": [
    "for elm in zip(counts.values(),hex_colors):\n",
    "    print(elm)"
   ]
  },
  {
   "cell_type": "code",
   "execution_count": null,
   "metadata": {},
   "outputs": [],
   "source": [
    "color_data = [list(elm) for elm in zip(counts.values(),hex_colors) ]"
   ]
  },
  {
   "cell_type": "code",
   "execution_count": null,
   "metadata": {},
   "outputs": [],
   "source": [
    "color_data"
   ]
  },
  {
   "cell_type": "code",
   "execution_count": null,
   "metadata": {
    "scrolled": true
   },
   "outputs": [],
   "source": [
    "counter = 0\n",
    "for elm in color_data:\n",
    "    placeholder = ImageColor.getcolor(elm[1], \"RGB\")\n",
    "    color_data[counter][1] = placeholder\n",
    "    counter += 1"
   ]
  },
  {
   "cell_type": "code",
   "execution_count": null,
   "metadata": {
    "scrolled": true
   },
   "outputs": [],
   "source": [
    "color_data"
   ]
  },
  {
   "cell_type": "code",
   "execution_count": null,
   "metadata": {},
   "outputs": [],
   "source": []
  },
  {
   "cell_type": "code",
   "execution_count": null,
   "metadata": {},
   "outputs": [],
   "source": []
  },
  {
   "cell_type": "code",
   "execution_count": null,
   "metadata": {},
   "outputs": [],
   "source": []
  },
  {
   "cell_type": "code",
   "execution_count": null,
   "metadata": {},
   "outputs": [],
   "source": []
  },
  {
   "cell_type": "code",
   "execution_count": null,
   "metadata": {},
   "outputs": [],
   "source": []
  },
  {
   "cell_type": "code",
   "execution_count": null,
   "metadata": {},
   "outputs": [],
   "source": []
  },
  {
   "cell_type": "code",
   "execution_count": null,
   "metadata": {},
   "outputs": [],
   "source": []
  },
  {
   "cell_type": "code",
   "execution_count": null,
   "metadata": {},
   "outputs": [],
   "source": [
    "random.seed(420)"
   ]
  },
  {
   "cell_type": "code",
   "execution_count": null,
   "metadata": {
    "scrolled": false
   },
   "outputs": [],
   "source": [
    "img = mpimg.imread(r'C:\\Users\\tjupp\\Desktop\\ITU\\Intro_programing\\Exercise24\\ex24pick.png',0)\n",
    "data = img[:,:,:3]\n",
    "plt.imshow(data)"
   ]
  },
  {
   "cell_type": "code",
   "execution_count": null,
   "metadata": {},
   "outputs": [],
   "source": [
    "data.shape"
   ]
  },
  {
   "cell_type": "code",
   "execution_count": null,
   "metadata": {
    "scrolled": false
   },
   "outputs": [],
   "source": [
    "data = (total_data[0][1][600:1200,1300:2100])\n",
    "plt.imshow(data)"
   ]
  },
  {
   "cell_type": "code",
   "execution_count": null,
   "metadata": {},
   "outputs": [],
   "source": [
    "img.shape"
   ]
  },
  {
   "cell_type": "code",
   "execution_count": null,
   "metadata": {
    "scrolled": true
   },
   "outputs": [],
   "source": [
    "total_data[0][1][0][0]"
   ]
  },
  {
   "cell_type": "code",
   "execution_count": null,
   "metadata": {},
   "outputs": [],
   "source": []
  },
  {
   "cell_type": "code",
   "execution_count": null,
   "metadata": {},
   "outputs": [],
   "source": [
    "def rgb2gray(rgb):\n",
    "\n",
    "    r, g, b = rgb[:,:,0], rgb[:,:,1], rgb[:,:,2]\n",
    "    gray = 0.2989 * r + 0.5870 * g + 0.1140 * b\n",
    "\n",
    "    return gray\n",
    "\n",
    "grey_image = rgb2gray(total_data[0][1])"
   ]
  },
  {
   "cell_type": "code",
   "execution_count": null,
   "metadata": {},
   "outputs": [],
   "source": [
    "def rgb2gray(rgb):\n",
    "    return np.dot(rgb[...,:3], [0.2989, 0.5870, 0.1140])\n",
    "\n",
    "gray = rgb2gray(im)\n",
    "plt.imshow(gray, cmap='gray')"
   ]
  },
  {
   "cell_type": "code",
   "execution_count": null,
   "metadata": {},
   "outputs": [],
   "source": [
    "grey_image.shape"
   ]
  },
  {
   "cell_type": "code",
   "execution_count": null,
   "metadata": {
    "scrolled": true
   },
   "outputs": [],
   "source": [
    "plt.imshow(grey_image)"
   ]
  },
  {
   "cell_type": "code",
   "execution_count": null,
   "metadata": {},
   "outputs": [],
   "source": [
    "kmeans = KMeans(n_clusters=5, random_state=0).fit(grey_image)"
   ]
  },
  {
   "cell_type": "code",
   "execution_count": null,
   "metadata": {},
   "outputs": [],
   "source": [
    "kmeans.labels_"
   ]
  },
  {
   "cell_type": "code",
   "execution_count": null,
   "metadata": {},
   "outputs": [],
   "source": []
  },
  {
   "cell_type": "code",
   "execution_count": null,
   "metadata": {},
   "outputs": [],
   "source": []
  },
  {
   "cell_type": "code",
   "execution_count": null,
   "metadata": {},
   "outputs": [],
   "source": []
  },
  {
   "cell_type": "code",
   "execution_count": null,
   "metadata": {},
   "outputs": [],
   "source": []
  },
  {
   "cell_type": "code",
   "execution_count": null,
   "metadata": {},
   "outputs": [],
   "source": []
  },
  {
   "cell_type": "code",
   "execution_count": null,
   "metadata": {},
   "outputs": [],
   "source": [
    "amount_of_clusters = 5\n",
    "n_dimensions = 3\n",
    "def getcentroids(amount_of_clusters,n_dimensions,minpoint,maxpoint):\n",
    "    centroids = []\n",
    "    for i in range(amount_of_clusters):\n",
    "        li = []\n",
    "        for x in range(n_dimensions):\n",
    "            li.append(random.randint(minpoint,maxpoint))\n",
    "        centroids.append(li)\n",
    "    return centroids\n",
    "\n",
    "#centroids = getcentroids(amount_of_clusters,n_dimensions,0,255)\n",
    "#print(centroids)"
   ]
  },
  {
   "cell_type": "code",
   "execution_count": null,
   "metadata": {},
   "outputs": [],
   "source": [
    "def distance(pointA,pointB):\n",
    "    #This function calculates the distance between two points of n dimensions\n",
    "    li = []\n",
    "    for elm in zip(pointA, pointB):\n",
    "        li.append((elm[0]-elm[1])**2)\n",
    "    return math.sqrt(sum(li))"
   ]
  },
  {
   "cell_type": "code",
   "execution_count": null,
   "metadata": {},
   "outputs": [],
   "source": []
  },
  {
   "cell_type": "code",
   "execution_count": null,
   "metadata": {
    "scrolled": true
   },
   "outputs": [],
   "source": [
    "\n",
    "def linkpointtocentroid(data,centroids):\n",
    "    #This labels all the pixels with the label closest to a centroid\n",
    "    final_list = []\n",
    "    for k in data:\n",
    "        placeholder = []\n",
    "        for i in k:\n",
    "            label = 1\n",
    "            max_val = float('inf')\n",
    "            li = 0\n",
    "            for elm in centroids: \n",
    "                if max_val > distance(i, elm):\n",
    "                    max_val = distance(i,elm)\n",
    "                    li = label\n",
    "                label += 1\n",
    "            placeholder.append(li)\n",
    "        final_list.append(placeholder)\n",
    "    final_list = np.array(final_list)\n",
    "    return final_list\n",
    "#linkpointtocentroid(data,centroids)\n",
    "\n",
    "#labels = linkpointtocentroid(data,centroids)\n",
    "\n",
    "\n",
    "\n",
    "\n",
    "#labels, points_linked_to_centroid = linkpointtocentroid(data,centroids)\n",
    "#only uncomment line above once you get to step 3\n",
    "#print(labels.shape)\n",
    "#print(len(points_linked_to_centroid_dict))\n",
    "\n",
    "#print(np.unique(labels))\n",
    "#print(labels)\n",
    "#plt.imshow(labels)"
   ]
  },
  {
   "cell_type": "code",
   "execution_count": null,
   "metadata": {},
   "outputs": [],
   "source": [
    "#labels.shape"
   ]
  },
  {
   "cell_type": "code",
   "execution_count": null,
   "metadata": {},
   "outputs": [],
   "source": []
  },
  {
   "cell_type": "code",
   "execution_count": null,
   "metadata": {},
   "outputs": [],
   "source": []
  },
  {
   "cell_type": "code",
   "execution_count": null,
   "metadata": {},
   "outputs": [],
   "source": []
  }
 ],
 "metadata": {
  "kernelspec": {
   "display_name": "Python 3",
   "language": "python",
   "name": "python3"
  },
  "language_info": {
   "codemirror_mode": {
    "name": "ipython",
    "version": 3
   },
   "file_extension": ".py",
   "mimetype": "text/x-python",
   "name": "python",
   "nbconvert_exporter": "python",
   "pygments_lexer": "ipython3",
   "version": "3.7.4"
  }
 },
 "nbformat": 4,
 "nbformat_minor": 2
}
