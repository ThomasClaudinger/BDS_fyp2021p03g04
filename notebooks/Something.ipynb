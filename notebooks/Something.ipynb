{
 "cells": [
  {
   "cell_type": "code",
   "execution_count": null,
   "metadata": {},
   "outputs": [],
   "source": [
    "import pandas as pd\n",
    "import matplotlib.pyplot as plt\n",
    "import  numpy as np\n",
    "import math\n",
    "from skimage import morphology\n",
    "import matplotlib.image as mpimg\n",
    "import random"
   ]
  },
  {
   "cell_type": "code",
   "execution_count": null,
   "metadata": {},
   "outputs": [],
   "source": [
    "features = pd.read_csv(r'../features/features.csv')\n",
    "ground_truth = pd.read_csv(r\"../data/example_ground_truth.csv\")\n"
   ]
  },
  {
   "cell_type": "markdown",
   "metadata": {},
   "source": [
    "## Functions"
   ]
  },
  {
   "cell_type": "code",
   "execution_count": null,
   "metadata": {},
   "outputs": [],
   "source": [
    "def calculate_area(image):\n",
    "    \"\"\"\n",
    "    image = a numpy array\n",
    "    \"\"\"\n",
    "    return np.sum(image)\n",
    "\n",
    "def calculate_border(image,thickness):\n",
    "    \"\"\"\n",
    "    image = np array of a picture\n",
    "    thicness = an integer of the thiccness of the border\n",
    "    returns = the border of the figure\n",
    "    \"\"\"\n",
    "    struct_el = morphology.disk(thickness)\n",
    "    mask_eroded = morphology.binary_erosion(image, struct_el)\n",
    "    return calculate_area(image)-np.sum(mask_eroded)\n",
    "\n",
    "\n",
    "def compactness(area, border):\n",
    "    \"\"\"\n",
    "    area = the area of the figure\n",
    "    border = the circumference of the figure\n",
    "    return = returns the compactness\n",
    "    \"\"\"\n",
    "    top = border**2\n",
    "    bot = 4*math.pi*area\n",
    "    return top/bot"
   ]
  },
  {
   "cell_type": "code",
   "execution_count": null,
   "metadata": {},
   "outputs": [],
   "source": [
    "#Here we load the data\n",
    "#The list has the following structure\n",
    "#['id','np_array of a picture','the mask of the picture']"
   ]
  },
  {
   "cell_type": "code",
   "execution_count": null,
   "metadata": {},
   "outputs": [],
   "source": [
    "#Training data is structured the following way\n",
    "#['np_array of a picture','label']\n",
    "#In our case \n",
    "#0 == melanoma\n",
    "#1 == keratosis"
   ]
  },
  {
   "cell_type": "code",
   "execution_count": null,
   "metadata": {
    "scrolled": true
   },
   "outputs": [],
   "source": [
    "mask = ground_truth['melanoma'] == 1\n",
    "melanoma_mask = ground_truth[mask]\n",
    "\n",
    "total_data = []\n",
    "melanoma_data = []\n",
    "keratosis_data = []\n",
    "training_data = []\n",
    "x = 0\n",
    "\n",
    "for image_id in ground_truth['image_id']:\n",
    "    print(image_id,x)\n",
    "    image = plt.imread('../data/example_image/'+image_id+'.jpg')\n",
    "    image_seg = plt.imread('../data/example_segmentation/'+image_id+'_segmentation.png')\n",
    "    if image_id in list(melanoma_mask['image_id']):\n",
    "        melanoma_data.append((image_id,image,image_seg))\n",
    "        training_data.append((image,0))\n",
    "    else:\n",
    "        keratosis_data.append((image_id,image,image_seg))\n",
    "        training_data.append((image,1))\n",
    "    total_data.append((image_id,image,image_seg))\n",
    "    x += 1"
   ]
  },
  {
   "cell_type": "code",
   "execution_count": null,
   "metadata": {},
   "outputs": [],
   "source": [
    "#read file\n",
    "file_input = pd.read_csv(\"../data/example_ground_truth.csv\")\n",
    "file_input.shape"
   ]
  },
  {
   "cell_type": "code",
   "execution_count": null,
   "metadata": {},
   "outputs": [],
   "source": [
    "# data frame for images with no diagnosis\n",
    "non_malignant_df = file_input.loc[(file_input['melanoma'] == 0.0) & (file_input[\"seborrheic_keratosis\"] == 0.0)]\n",
    "non_malignant_df"
   ]
  },
  {
   "cell_type": "code",
   "execution_count": null,
   "metadata": {
    "scrolled": true
   },
   "outputs": [],
   "source": [
    "#filter out all images that are not melanoma\n",
    "melanoma = file_input[file_input[\"melanoma\"] == 1.0]\n",
    "\n",
    "#remove column for keratosis\n",
    "melanoma_df = melanoma.drop([\"seborrheic_keratosis\"], axis = 1)\n",
    "melanoma_df"
   ]
  },
  {
   "cell_type": "code",
   "execution_count": null,
   "metadata": {
    "scrolled": true
   },
   "outputs": [],
   "source": [
    "#number of images left\n",
    "melanoma.shape"
   ]
  },
  {
   "cell_type": "code",
   "execution_count": null,
   "metadata": {},
   "outputs": [],
   "source": [
    "#read file features\n",
    "file_features_df = pd.read_csv(\"../features/features.csv\")\n",
    "file_features_df.shape\n",
    "\n",
    "#150 rows, 3 columns"
   ]
  },
  {
   "cell_type": "code",
   "execution_count": null,
   "metadata": {},
   "outputs": [],
   "source": [
    "#data frame for features\n",
    "file_features_df"
   ]
  },
  {
   "cell_type": "code",
   "execution_count": null,
   "metadata": {},
   "outputs": [],
   "source": [
    "#rename column 'id' to 'image_id'\n",
    "file_features_df.rename(columns={'id': 'image_id'}, inplace=True)\n",
    "\n",
    "#merge data frame for file_features_df with melanoma by column 'image_id'\n",
    "merge_feature_melanoma = file_features_df.merge(melanoma_df, on='image_id', how='right')"
   ]
  },
  {
   "cell_type": "code",
   "execution_count": null,
   "metadata": {
    "scrolled": true
   },
   "outputs": [],
   "source": [
    "#data frame for merged features and melanoma\n",
    "#this data frame shows only data related to melanoma \n",
    "\n",
    "merge_feature_melanoma"
   ]
  },
  {
   "cell_type": "code",
   "execution_count": null,
   "metadata": {},
   "outputs": [],
   "source": [
    "# size of data frame\n",
    "merge_feature_melanoma.shape"
   ]
  },
  {
   "cell_type": "code",
   "execution_count": null,
   "metadata": {
    "scrolled": false
   },
   "outputs": [],
   "source": [
    "merge_feature_non_malignant_df = file_features_df.merge(non_malignant_df, on='image_id', how='right')\n",
    "#Here we use the function isna() to check for missing values in the different columns\n",
    "merge_feature_non_malignant_df.isna().any()"
   ]
  },
  {
   "cell_type": "code",
   "execution_count": null,
   "metadata": {},
   "outputs": [],
   "source": []
  },
  {
   "cell_type": "code",
   "execution_count": null,
   "metadata": {},
   "outputs": [],
   "source": []
  },
  {
   "cell_type": "code",
   "execution_count": null,
   "metadata": {},
   "outputs": [],
   "source": []
  },
  {
   "cell_type": "code",
   "execution_count": null,
   "metadata": {},
   "outputs": [],
   "source": []
  },
  {
   "cell_type": "code",
   "execution_count": null,
   "metadata": {
    "scrolled": true
   },
   "outputs": [],
   "source": [
    "area1 = calculate_area(melanoma_data[0][2])\n",
    "border1 = calculate_border(melanoma_data[0][2],4)\n",
    "compactness(area1,border1)"
   ]
  },
  {
   "cell_type": "code",
   "execution_count": null,
   "metadata": {},
   "outputs": [],
   "source": [
    "\n",
    "\n",
    "#Structural element, that we will use as a \"brush\" on our mask\n",
    "struct_el = morphology.disk(4)\n",
    "\n",
    "mask_eroded = morphology.binary_erosion(melanoma_data[0][2], struct_el)\n",
    "\n",
    "# Show side by side\n",
    "\n",
    "fig, axes = plt.subplots(nrows=1, ncols=2, figsize=(10, 5))\n",
    "axes[0].imshow(melanoma_data[0][2][500:1200,1000:2000], cmap='gray')\n",
    "#axes[1].imshow(mask_eroded, cmap='gray')\n",
    "fig.tight_layout()\n",
    "\n",
    "# Verify it's smaller\n",
    "#print(area)\n",
    "print(calculate_area(melanoma_data[0][2])-np.sum(mask_eroded))\n",
    "border = melanoma_data[0][2]-mask_eroded\n",
    "plt.imshow(border[500:1200,1000:2000])\n"
   ]
  },
  {
   "cell_type": "code",
   "execution_count": null,
   "metadata": {},
   "outputs": [],
   "source": [
    "def colour(image,mask):\n",
    "    mask2 = mask == 0\n",
    "    copy = image.copy()\n",
    "    copy[mask2] = [0,0,0]\n",
    "    plt.imshow(copy[700:1200,1200:2000])\n",
    "    print(np.std(copy))\n",
    "    #print(np.mean(copy[:,:,1]),\"mean\")\n",
    "    print(copy[700:1200,1200:2000,2])\n",
    "    #print(copy[:,:,0])\n",
    "    #print(copy[0])\n",
    "    \n",
    "    #print(len(copy[0]))\n",
    "    #calculate_area(copy[0])\n",
    "colour(melanoma_data[0][1],melanoma_data[0][2])\n",
    "colour(total_data[0][1],total_data[0][2])"
   ]
  },
  {
   "cell_type": "code",
   "execution_count": null,
   "metadata": {},
   "outputs": [],
   "source": []
  },
  {
   "cell_type": "code",
   "execution_count": null,
   "metadata": {},
   "outputs": [],
   "source": [
    "from sklearn.cluster import KMeans"
   ]
  },
  {
   "cell_type": "code",
   "execution_count": null,
   "metadata": {},
   "outputs": [],
   "source": [
    "plt.imshow(total_data[0][2][500:1200,1000:2000], cmap='gray')"
   ]
  },
  {
   "cell_type": "code",
   "execution_count": null,
   "metadata": {},
   "outputs": [],
   "source": []
  },
  {
   "cell_type": "code",
   "execution_count": null,
   "metadata": {},
   "outputs": [],
   "source": [
    "random.seed(420)"
   ]
  },
  {
   "cell_type": "code",
   "execution_count": null,
   "metadata": {
    "scrolled": false
   },
   "outputs": [],
   "source": [
    "img = mpimg.imread(r'C:\\Users\\tjupp\\Desktop\\ITU\\Intro_programing\\Exercise24\\ex24pick.png',0)\n",
    "data = img[:,:,:3]\n",
    "plt.imshow(data)"
   ]
  },
  {
   "cell_type": "code",
   "execution_count": null,
   "metadata": {},
   "outputs": [],
   "source": [
    "data.shape"
   ]
  },
  {
   "cell_type": "code",
   "execution_count": null,
   "metadata": {
    "scrolled": false
   },
   "outputs": [],
   "source": [
    "data = (total_data[0][1][600:1200,1300:2100])\n",
    "plt.imshow(data)"
   ]
  },
  {
   "cell_type": "code",
   "execution_count": null,
   "metadata": {},
   "outputs": [],
   "source": [
    "img.shape"
   ]
  },
  {
   "cell_type": "code",
   "execution_count": null,
   "metadata": {
    "scrolled": true
   },
   "outputs": [],
   "source": [
    "total_data[0][1][0][0]"
   ]
  },
  {
   "cell_type": "code",
   "execution_count": null,
   "metadata": {},
   "outputs": [],
   "source": []
  },
  {
   "cell_type": "code",
   "execution_count": null,
   "metadata": {},
   "outputs": [],
   "source": [
    "def rgb2gray(rgb):\n",
    "\n",
    "    r, g, b = rgb[:,:,0], rgb[:,:,1], rgb[:,:,2]\n",
    "    gray = 0.2989 * r + 0.5870 * g + 0.1140 * b\n",
    "\n",
    "    return gray\n",
    "\n",
    "grey_image = rgb2gray(total_data[0][1])"
   ]
  },
  {
   "cell_type": "code",
   "execution_count": null,
   "metadata": {},
   "outputs": [],
   "source": [
    "def rgb2gray(rgb):\n",
    "    return np.dot(rgb[...,:3], [0.2989, 0.5870, 0.1140])\n",
    "\n",
    "gray = rgb2gray(im)\n",
    "plt.imshow(gray, cmap='gray')"
   ]
  },
  {
   "cell_type": "code",
   "execution_count": null,
   "metadata": {},
   "outputs": [],
   "source": [
    "grey_image.shape"
   ]
  },
  {
   "cell_type": "code",
   "execution_count": null,
   "metadata": {
    "scrolled": true
   },
   "outputs": [],
   "source": [
    "plt.imshow(grey_image)"
   ]
  },
  {
   "cell_type": "code",
   "execution_count": null,
   "metadata": {},
   "outputs": [],
   "source": [
    "kmeans = KMeans(n_clusters=5, random_state=0).fit(grey_image)"
   ]
  },
  {
   "cell_type": "code",
   "execution_count": null,
   "metadata": {},
   "outputs": [],
   "source": [
    "kmeans.labels_"
   ]
  },
  {
   "cell_type": "code",
   "execution_count": null,
   "metadata": {},
   "outputs": [],
   "source": []
  },
  {
   "cell_type": "code",
   "execution_count": null,
   "metadata": {},
   "outputs": [],
   "source": []
  },
  {
   "cell_type": "code",
   "execution_count": null,
   "metadata": {},
   "outputs": [],
   "source": []
  },
  {
   "cell_type": "code",
   "execution_count": null,
   "metadata": {},
   "outputs": [],
   "source": []
  },
  {
   "cell_type": "code",
   "execution_count": null,
   "metadata": {},
   "outputs": [],
   "source": []
  },
  {
   "cell_type": "code",
   "execution_count": null,
   "metadata": {},
   "outputs": [],
   "source": [
    "amount_of_clusters = 5\n",
    "n_dimensions = 3\n",
    "def getcentroids(amount_of_clusters,n_dimensions,minpoint,maxpoint):\n",
    "    centroids = []\n",
    "    for i in range(amount_of_clusters):\n",
    "        li = []\n",
    "        for x in range(n_dimensions):\n",
    "            li.append(random.randint(minpoint,maxpoint))\n",
    "        centroids.append(li)\n",
    "    return centroids\n",
    "\n",
    "centroids = getcentroids(amount_of_clusters,n_dimensions,0,255)\n",
    "print(centroids)"
   ]
  },
  {
   "cell_type": "code",
   "execution_count": null,
   "metadata": {},
   "outputs": [],
   "source": [
    "def distance(pointA,pointB):\n",
    "    #This function calculates the distance between two points of n dimensions\n",
    "    li = []\n",
    "    for elm in zip(pointA, pointB):\n",
    "        li.append((elm[0]-elm[1])**2)\n",
    "    return math.sqrt(sum(li))"
   ]
  },
  {
   "cell_type": "code",
   "execution_count": null,
   "metadata": {},
   "outputs": [],
   "source": []
  },
  {
   "cell_type": "code",
   "execution_count": null,
   "metadata": {
    "scrolled": true
   },
   "outputs": [],
   "source": [
    "\n",
    "def linkpointtocentroid(data,centroids):\n",
    "    #This labels all the pixels with the label closest to a centroid\n",
    "    final_list = []\n",
    "    for k in data:\n",
    "        placeholder = []\n",
    "        for i in k:\n",
    "            label = 1\n",
    "            max_val = float('inf')\n",
    "            li = 0\n",
    "            for elm in centroids: \n",
    "                if max_val > distance(i, elm):\n",
    "                    max_val = distance(i,elm)\n",
    "                    li = label\n",
    "                label += 1\n",
    "            placeholder.append(li)\n",
    "        final_list.append(placeholder)\n",
    "    final_list = np.array(final_list)\n",
    "    return final_list\n",
    "linkpointtocentroid(data,centroids)\n",
    "\n",
    "labels = linkpointtocentroid(data,centroids)\n",
    "#labels, points_linked_to_centroid = linkpointtocentroid(data,centroids)\n",
    "#only uncomment line above once you get to step 3\n",
    "#print(labels.shape)\n",
    "#print(len(points_linked_to_centroid_dict))\n",
    "\n",
    "print(np.unique(labels))\n",
    "#print(labels)\n",
    "plt.imshow(labels)"
   ]
  },
  {
   "cell_type": "code",
   "execution_count": null,
   "metadata": {},
   "outputs": [],
   "source": [
    "labels.shape"
   ]
  },
  {
   "cell_type": "code",
   "execution_count": null,
   "metadata": {},
   "outputs": [],
   "source": []
  }
 ],
 "metadata": {
  "kernelspec": {
   "display_name": "Python 3",
   "language": "python",
   "name": "python3"
  },
  "language_info": {
   "codemirror_mode": {
    "name": "ipython",
    "version": 3
   },
   "file_extension": ".py",
   "mimetype": "text/x-python",
   "name": "python",
   "nbconvert_exporter": "python",
   "pygments_lexer": "ipython3",
   "version": "3.7.4"
  }
 },
 "nbformat": 4,
 "nbformat_minor": 2
}
