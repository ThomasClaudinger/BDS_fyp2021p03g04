{
 "cells": [
  {
   "cell_type": "markdown",
   "metadata": {},
   "source": [
    "# Imports"
   ]
  },
  {
   "cell_type": "code",
   "execution_count": 1,
   "metadata": {},
   "outputs": [],
   "source": [
    "import pandas as pd\n",
    "import matplotlib.pyplot as plt\n",
    "import numpy as np\n",
    "import math\n",
    "from skimage import morphology\n",
    "import matplotlib.image as mpimg\n",
    "import random\n",
    "from sklearn.cluster import KMeans\n",
    "import cv2\n",
    "from collections import Counter\n",
    "from skimage.color import rgb2lab, deltaE_cie76\n",
    "import os\n",
    "from PIL import ImageColor\n",
    "from sklearn.model_selection import cross_val_score\n",
    "from sklearn.model_selection import train_test_split\n",
    "from sklearn.neighbors import KNeighborsClassifier\n",
    "from sklearn.metrics import accuracy_score\n",
    "\n",
    "import pandas as pd\n",
    "import matplotlib.pyplot as plt\n",
    "import numpy as np\n",
    "import math\n",
    "from skimage import morphology\n",
    "import matplotlib.image as mpimg\n",
    "import random\n",
    "from sklearn.cluster import KMeans\n",
    "import cv2\n",
    "from collections import Counter\n",
    "from skimage.color import rgb2lab, deltaE_cie76\n",
    "import os\n",
    "from PIL import ImageColor"
   ]
  },
  {
   "cell_type": "markdown",
   "metadata": {},
   "source": [
    "# Loading data"
   ]
  },
  {
   "cell_type": "code",
   "execution_count": 2,
   "metadata": {},
   "outputs": [],
   "source": [
    "features = pd.read_csv(r'../features/features.csv')\n",
    "ground_truth = pd.read_csv(r\"../data/example_ground_truth.csv\")\n"
   ]
  },
  {
   "cell_type": "markdown",
   "metadata": {},
   "source": [
    "# Functions"
   ]
  },
  {
   "cell_type": "code",
   "execution_count": 3,
   "metadata": {},
   "outputs": [],
   "source": [
    "def calculate_area(image):\n",
    "    \"\"\"\n",
    "    image = a numpy array\n",
    "    \"\"\"\n",
    "    return np.sum(image)\n",
    "\n",
    "def calculate_border(image,thickness):\n",
    "    \"\"\"\n",
    "    image = np array of a picture\n",
    "    thicness = an integer of the thiccness of the border\n",
    "    returns = the border of the figure\n",
    "    \"\"\"\n",
    "    struct_el = morphology.disk(thickness)\n",
    "    mask_eroded = morphology.binary_erosion(image, struct_el)\n",
    "    return calculate_area(image)-np.sum(mask_eroded)\n",
    "\n",
    "\n",
    "def compactness(area, border):\n",
    "    \"\"\"\n",
    "    area = the area of the figure\n",
    "    border = the circumference of the figure\n",
    "    return = returns the compactness\n",
    "    \"\"\"\n",
    "    top = border**2\n",
    "    bot = 4*math.pi*area\n",
    "    return top/bot\n",
    "\n",
    "def RGB2HEX(color):\n",
    "    return \"#{:02x}{:02x}{:02x}\".format(int(color[0]), int(color[1]), int(color[2]))\n",
    "\n",
    "\n",
    "\n",
    "def average_colour(image,segmentation):\n",
    "    mask = segmentation == 1\n",
    "    copy = image.copy()\n",
    "    r = np.mean(copy[mask,0])\n",
    "    g = np.mean(copy[mask,1])\n",
    "    b = np.mean(copy[mask,2])\n",
    "    #num_of_pixels = copy[mask].shape[0]\n",
    "    return [r,g,b]\n",
    "\n",
    "def deviation_of_colour(image,segmentation):\n",
    "    mask = segmentation == 1\n",
    "    copy = image.copy()\n",
    "    r = np.std(copy[mask,0])\n",
    "    g = np.std(copy[mask,1])\n",
    "    b = np.std(copy[mask,2])\n",
    "    return [r,g,b]\n",
    "\n",
    "def average_luminosity(image,segmentation):\n",
    "    avg_colour = average_colour(image,segmentation)\n",
    "    return 0.299*avg_colour[0] + 0.587*avg_colour[1] + 0.114*avg_colour[2]\n",
    "\n",
    "def deviation_luminosity(image,segmentation):\n",
    "    deviation_colour = deviation_of_colour(image,segmentation)\n",
    "    return np.sqrt(0.299**2*deviation_colour[0]**2 + 0.587**2*deviation_colour[1]**2 + 0.114**2*deviation_colour[2]**2)\n",
    "\n",
    "def findImage(image_id):\n",
    "    image = plt.imread('../data/example_image/'+image_id+'.jpg')\n",
    "    image_seg = plt.imread('../data/example_segmentation/'+image_id+'_segmentation.png')\n",
    "    return image,image_seg\n",
    "\n",
    "def make_knn_prediction(k):\n",
    "    neigh = KNeighborsClassifier(n_neighbors=k)\n",
    "    neigh.fit(x_train, y_train)\n",
    "    return neigh.predict(x_test)\n",
    "\n",
    "def from_rgb_to_int(df):\n",
    "    placeholder = [RGB2HEX(elm) for elm in df]\n",
    "    hex_val = [int(\"0x\" + elm[1:],0) for elm in placeholder]\n",
    "    return hex_val\n",
    "\n",
    "def knn_model_constructor(k,training,labels):\n",
    "    model = KNeighborsClassifier(n_neighbors=k)\n",
    "    model.fit(training, labels)\n",
    "    return model"
   ]
  },
  {
   "cell_type": "markdown",
   "metadata": {},
   "source": [
    "# Task 0: Exploring the data"
   ]
  },
  {
   "cell_type": "code",
   "execution_count": 4,
   "metadata": {},
   "outputs": [],
   "source": [
    "#rename column 'id' to 'image_id'\n",
    "features.rename(columns={'id': 'image_id'}, inplace=True)"
   ]
  },
  {
   "cell_type": "code",
   "execution_count": 5,
   "metadata": {},
   "outputs": [],
   "source": [
    "# Here we merge the two data frames\n",
    "all_feature_merge = features.merge(ground_truth, on='image_id', how='right')"
   ]
  },
  {
   "cell_type": "code",
   "execution_count": 6,
   "metadata": {},
   "outputs": [
    {
     "data": {
      "text/html": [
       "<div>\n",
       "<style scoped>\n",
       "    .dataframe tbody tr th:only-of-type {\n",
       "        vertical-align: middle;\n",
       "    }\n",
       "\n",
       "    .dataframe tbody tr th {\n",
       "        vertical-align: top;\n",
       "    }\n",
       "\n",
       "    .dataframe thead th {\n",
       "        text-align: right;\n",
       "    }\n",
       "</style>\n",
       "<table border=\"1\" class=\"dataframe\">\n",
       "  <thead>\n",
       "    <tr style=\"text-align: right;\">\n",
       "      <th></th>\n",
       "      <th>image_id</th>\n",
       "      <th>area</th>\n",
       "      <th>perimeter</th>\n",
       "      <th>melanoma</th>\n",
       "      <th>seborrheic_keratosis</th>\n",
       "    </tr>\n",
       "  </thead>\n",
       "  <tbody>\n",
       "    <tr>\n",
       "      <td>0</td>\n",
       "      <td>ISIC_0001769</td>\n",
       "      <td>216160.0</td>\n",
       "      <td>2013.0</td>\n",
       "      <td>0.0</td>\n",
       "      <td>0.0</td>\n",
       "    </tr>\n",
       "    <tr>\n",
       "      <td>1</td>\n",
       "      <td>ISIC_0001852</td>\n",
       "      <td>130493.0</td>\n",
       "      <td>1372.0</td>\n",
       "      <td>0.0</td>\n",
       "      <td>0.0</td>\n",
       "    </tr>\n",
       "    <tr>\n",
       "      <td>2</td>\n",
       "      <td>ISIC_0001871</td>\n",
       "      <td>205116.0</td>\n",
       "      <td>1720.0</td>\n",
       "      <td>0.0</td>\n",
       "      <td>0.0</td>\n",
       "    </tr>\n",
       "    <tr>\n",
       "      <td>3</td>\n",
       "      <td>ISIC_0003462</td>\n",
       "      <td>161705.0</td>\n",
       "      <td>1344.0</td>\n",
       "      <td>0.0</td>\n",
       "      <td>0.0</td>\n",
       "    </tr>\n",
       "    <tr>\n",
       "      <td>4</td>\n",
       "      <td>ISIC_0003539</td>\n",
       "      <td>317040.0</td>\n",
       "      <td>2063.0</td>\n",
       "      <td>0.0</td>\n",
       "      <td>0.0</td>\n",
       "    </tr>\n",
       "    <tr>\n",
       "      <td>...</td>\n",
       "      <td>...</td>\n",
       "      <td>...</td>\n",
       "      <td>...</td>\n",
       "      <td>...</td>\n",
       "      <td>...</td>\n",
       "    </tr>\n",
       "    <tr>\n",
       "      <td>145</td>\n",
       "      <td>ISIC_0015443</td>\n",
       "      <td>9732988.0</td>\n",
       "      <td>13775.0</td>\n",
       "      <td>0.0</td>\n",
       "      <td>0.0</td>\n",
       "    </tr>\n",
       "    <tr>\n",
       "      <td>146</td>\n",
       "      <td>ISIC_0015445</td>\n",
       "      <td>12049938.0</td>\n",
       "      <td>19517.0</td>\n",
       "      <td>0.0</td>\n",
       "      <td>0.0</td>\n",
       "    </tr>\n",
       "    <tr>\n",
       "      <td>147</td>\n",
       "      <td>ISIC_0015483</td>\n",
       "      <td>8856478.0</td>\n",
       "      <td>13813.0</td>\n",
       "      <td>0.0</td>\n",
       "      <td>0.0</td>\n",
       "    </tr>\n",
       "    <tr>\n",
       "      <td>148</td>\n",
       "      <td>ISIC_0015496</td>\n",
       "      <td>8951522.0</td>\n",
       "      <td>13742.0</td>\n",
       "      <td>0.0</td>\n",
       "      <td>0.0</td>\n",
       "    </tr>\n",
       "    <tr>\n",
       "      <td>149</td>\n",
       "      <td>ISIC_0015627</td>\n",
       "      <td>3193093.0</td>\n",
       "      <td>8751.0</td>\n",
       "      <td>0.0</td>\n",
       "      <td>0.0</td>\n",
       "    </tr>\n",
       "  </tbody>\n",
       "</table>\n",
       "<p>150 rows × 5 columns</p>\n",
       "</div>"
      ],
      "text/plain": [
       "         image_id        area  perimeter  melanoma  seborrheic_keratosis\n",
       "0    ISIC_0001769    216160.0     2013.0       0.0                   0.0\n",
       "1    ISIC_0001852    130493.0     1372.0       0.0                   0.0\n",
       "2    ISIC_0001871    205116.0     1720.0       0.0                   0.0\n",
       "3    ISIC_0003462    161705.0     1344.0       0.0                   0.0\n",
       "4    ISIC_0003539    317040.0     2063.0       0.0                   0.0\n",
       "..            ...         ...        ...       ...                   ...\n",
       "145  ISIC_0015443   9732988.0    13775.0       0.0                   0.0\n",
       "146  ISIC_0015445  12049938.0    19517.0       0.0                   0.0\n",
       "147  ISIC_0015483   8856478.0    13813.0       0.0                   0.0\n",
       "148  ISIC_0015496   8951522.0    13742.0       0.0                   0.0\n",
       "149  ISIC_0015627   3193093.0     8751.0       0.0                   0.0\n",
       "\n",
       "[150 rows x 5 columns]"
      ]
     },
     "execution_count": 6,
     "metadata": {},
     "output_type": "execute_result"
    }
   ],
   "source": [
    "# Here we plot the dataframe\n",
    "all_feature_merge"
   ]
  },
  {
   "cell_type": "code",
   "execution_count": 7,
   "metadata": {},
   "outputs": [
    {
     "data": {
      "text/plain": [
       "image_id                False\n",
       "area                    False\n",
       "perimeter               False\n",
       "melanoma                False\n",
       "seborrheic_keratosis    False\n",
       "dtype: bool"
      ]
     },
     "execution_count": 7,
     "metadata": {},
     "output_type": "execute_result"
    }
   ],
   "source": [
    "# Here we check for missing values, which we do not have\n",
    "all_feature_merge.isna().any()"
   ]
  },
  {
   "cell_type": "markdown",
   "metadata": {},
   "source": [
    "# Task 1: implement two features"
   ]
  },
  {
   "cell_type": "code",
   "execution_count": 8,
   "metadata": {},
   "outputs": [],
   "source": [
    "# Here we are creating masks for which we are going to sort our data"
   ]
  },
  {
   "cell_type": "code",
   "execution_count": 9,
   "metadata": {},
   "outputs": [],
   "source": [
    "mask = ground_truth['melanoma'] == 1\n",
    "melanoma_mask = ground_truth[mask]"
   ]
  },
  {
   "cell_type": "code",
   "execution_count": 10,
   "metadata": {},
   "outputs": [],
   "source": [
    "mask = ground_truth['seborrheic_keratosis'] == 1\n",
    "keratosis_mask = ground_truth[mask]"
   ]
  },
  {
   "cell_type": "code",
   "execution_count": 11,
   "metadata": {},
   "outputs": [],
   "source": [
    "# Here we create a couple lists with the data\n",
    "# the structure of the lists are [(\"Image_id\", \"np_array of the picture\", \"np_array of the mask\")]"
   ]
  },
  {
   "cell_type": "code",
   "execution_count": 12,
   "metadata": {
    "scrolled": true
   },
   "outputs": [
    {
     "name": "stdout",
     "output_type": "stream",
     "text": [
      "ISIC_0001769 0\n",
      "ISIC_0001852 1\n",
      "ISIC_0001871 2\n",
      "ISIC_0003462 3\n",
      "ISIC_0003539 4\n",
      "ISIC_0003582 5\n",
      "ISIC_0003657 6\n",
      "ISIC_0003805 7\n",
      "ISIC_0004337 8\n",
      "ISIC_0006651 9\n",
      "ISIC_0006671 10\n",
      "ISIC_0006815 11\n",
      "ISIC_0006914 12\n",
      "ISIC_0007141 13\n",
      "ISIC_0007156 14\n",
      "ISIC_0007235 15\n",
      "ISIC_0007241 16\n",
      "ISIC_0007332 17\n",
      "ISIC_0007344 18\n",
      "ISIC_0007528 19\n",
      "ISIC_0007796 20\n",
      "ISIC_0008025 21\n",
      "ISIC_0008524 22\n",
      "ISIC_0009995 23\n",
      "ISIC_0010459 24\n",
      "ISIC_0012099 25\n",
      "ISIC_0012109 26\n",
      "ISIC_0012126 27\n",
      "ISIC_0012127 28\n",
      "ISIC_0012143 29\n",
      "ISIC_0012151 30\n",
      "ISIC_0012159 31\n",
      "ISIC_0012160 32\n",
      "ISIC_0012191 33\n",
      "ISIC_0012201 34\n",
      "ISIC_0012204 35\n",
      "ISIC_0012206 36\n",
      "ISIC_0012210 37\n",
      "ISIC_0012221 38\n",
      "ISIC_0012222 39\n",
      "ISIC_0012254 40\n",
      "ISIC_0012256 41\n",
      "ISIC_0012288 42\n",
      "ISIC_0012306 43\n",
      "ISIC_0012313 44\n",
      "ISIC_0012316 45\n",
      "ISIC_0012335 46\n",
      "ISIC_0012380 47\n",
      "ISIC_0012383 48\n",
      "ISIC_0012400 49\n",
      "ISIC_0012417 50\n",
      "ISIC_0012434 51\n",
      "ISIC_0012492 52\n",
      "ISIC_0012513 53\n",
      "ISIC_0012538 54\n",
      "ISIC_0012547 55\n",
      "ISIC_0012660 56\n",
      "ISIC_0012684 57\n",
      "ISIC_0012720 58\n",
      "ISIC_0012746 59\n",
      "ISIC_0012876 60\n",
      "ISIC_0012927 61\n",
      "ISIC_0012956 62\n",
      "ISIC_0012959 63\n",
      "ISIC_0012965 64\n",
      "ISIC_0013010 65\n",
      "ISIC_0013082 66\n",
      "ISIC_0013104 67\n",
      "ISIC_0013127 68\n",
      "ISIC_0013128 69\n",
      "ISIC_0013132 70\n",
      "ISIC_0013188 71\n",
      "ISIC_0013215 72\n",
      "ISIC_0013232 73\n",
      "ISIC_0013421 74\n",
      "ISIC_0013491 75\n",
      "ISIC_0013501 76\n",
      "ISIC_0013518 77\n",
      "ISIC_0013527 78\n",
      "ISIC_0013549 79\n",
      "ISIC_0013561 80\n",
      "ISIC_0013562 81\n",
      "ISIC_0013632 82\n",
      "ISIC_0013637 83\n",
      "ISIC_0013644 84\n",
      "ISIC_0013651 85\n",
      "ISIC_0013663 86\n",
      "ISIC_0013702 87\n",
      "ISIC_0013736 88\n",
      "ISIC_0013793 89\n",
      "ISIC_0013828 90\n",
      "ISIC_0013863 91\n",
      "ISIC_0013898 92\n",
      "ISIC_0013945 93\n",
      "ISIC_0014037 94\n",
      "ISIC_0014038 95\n",
      "ISIC_0014055 96\n",
      "ISIC_0014139 97\n",
      "ISIC_0014162 98\n",
      "ISIC_0014178 99\n",
      "ISIC_0014211 100\n",
      "ISIC_0014212 101\n",
      "ISIC_0014217 102\n",
      "ISIC_0014302 103\n",
      "ISIC_0014310 104\n",
      "ISIC_0014382 105\n",
      "ISIC_0014428 106\n",
      "ISIC_0014558 107\n",
      "ISIC_0014568 108\n",
      "ISIC_0014572 109\n",
      "ISIC_0014597 110\n",
      "ISIC_0014601 111\n",
      "ISIC_0014608 112\n",
      "ISIC_0014610 113\n",
      "ISIC_0014611 114\n",
      "ISIC_0014616 115\n",
      "ISIC_0014618 116\n",
      "ISIC_0014620 117\n",
      "ISIC_0014623 118\n",
      "ISIC_0014624 119\n",
      "ISIC_0014633 120\n",
      "ISIC_0014635 121\n",
      "ISIC_0014637 122\n",
      "ISIC_0014688 123\n",
      "ISIC_0014712 124\n",
      "ISIC_0014809 125\n",
      "ISIC_0014829 126\n",
      "ISIC_0014857 127\n",
      "ISIC_0014931 128\n",
      "ISIC_0014937 129\n",
      "ISIC_0014945 130\n",
      "ISIC_0014946 131\n",
      "ISIC_0014979 132\n",
      "ISIC_0014985 133\n",
      "ISIC_0014989 134\n",
      "ISIC_0015043 135\n",
      "ISIC_0015062 136\n",
      "ISIC_0015124 137\n",
      "ISIC_0015144 138\n",
      "ISIC_0015211 139\n",
      "ISIC_0015243 140\n",
      "ISIC_0015256 141\n",
      "ISIC_0015313 142\n",
      "ISIC_0015372 143\n",
      "ISIC_0015401 144\n",
      "ISIC_0015443 145\n",
      "ISIC_0015445 146\n",
      "ISIC_0015483 147\n",
      "ISIC_0015496 148\n",
      "ISIC_0015627 149\n"
     ]
    }
   ],
   "source": [
    "total_data = []\n",
    "melanoma_data = []\n",
    "keratosis_data = []\n",
    "non_infected_data = []\n",
    "x = 0\n",
    "\n",
    "for image_id in ground_truth['image_id']:\n",
    "    print(image_id,x)\n",
    "    image = plt.imread('../data/example_image/'+image_id+'.jpg') # Here we load the image\n",
    "    image_seg = plt.imread('../data/example_segmentation/'+image_id+'_segmentation.png') # Here we load the mask\n",
    "    if image_id in list(melanoma_mask['image_id']): # If the image id is in the melanoma list, label it as melanoma\n",
    "        melanoma_data.append((image_id,image,image_seg)) #else label it as keratosis\n",
    "    if image_id in list(keratosis_mask['image_id']):\n",
    "        keratosis_data.append((image_id,image,image_seg))\n",
    "    if (image_id not in list(keratosis_mask['image_id'])) and (image_id not in list(melanoma_mask['image_id'])): # If the image id is in the melanoma list, label it as melanoma\n",
    "        non_infected_data.append((image_id,image,image_seg))\n",
    "    total_data.append((image_id,image,image_seg)) #Here we have a list of all the data together\n",
    "    x += 1"
   ]
  },
  {
   "cell_type": "code",
   "execution_count": 13,
   "metadata": {
    "scrolled": true
   },
   "outputs": [
    {
     "data": {
      "text/plain": [
       "'ISIC_0012099'"
      ]
     },
     "execution_count": 13,
     "metadata": {},
     "output_type": "execute_result"
    }
   ],
   "source": [
    "# Here we get the id of the first legion\n",
    "melanoma_data[0][0]"
   ]
  },
  {
   "cell_type": "code",
   "execution_count": 14,
   "metadata": {},
   "outputs": [],
   "source": [
    "# Here we create the mask\n",
    "id_mask = all_feature_merge['image_id'] == 'ISIC_0012099'"
   ]
  },
  {
   "cell_type": "code",
   "execution_count": 15,
   "metadata": {},
   "outputs": [],
   "source": [
    "area = calculate_area(melanoma_data[0][2])"
   ]
  },
  {
   "cell_type": "code",
   "execution_count": 16,
   "metadata": {
    "scrolled": true
   },
   "outputs": [
    {
     "name": "stdout",
     "output_type": "stream",
     "text": [
      "Here is the actual area 88455 and here is the computed area 88455.0\n"
     ]
    }
   ],
   "source": [
    "print(\"Here is the actual area {} and here is the computed area\".format(int(all_feature_merge[id_mask]['area'])), area)"
   ]
  },
  {
   "cell_type": "code",
   "execution_count": 17,
   "metadata": {},
   "outputs": [],
   "source": [
    "# This shows us that our function is correct. This is important because we are using the \n",
    "# calculate_area function in the perimeter Function"
   ]
  },
  {
   "cell_type": "code",
   "execution_count": 18,
   "metadata": {},
   "outputs": [],
   "source": [
    "# Now we compare our border function"
   ]
  },
  {
   "cell_type": "code",
   "execution_count": 19,
   "metadata": {},
   "outputs": [],
   "source": [
    "border = calculate_border(melanoma_data[0][2],1)"
   ]
  },
  {
   "cell_type": "code",
   "execution_count": 20,
   "metadata": {},
   "outputs": [
    {
     "name": "stdout",
     "output_type": "stream",
     "text": [
      "Here is the actual area 1353 and here is the computed area 1353.0\n"
     ]
    }
   ],
   "source": [
    "print(\"Here is the actual area {} and here is the computed area\".format(int(all_feature_merge[id_mask]['perimeter'])), border)"
   ]
  },
  {
   "cell_type": "code",
   "execution_count": 21,
   "metadata": {},
   "outputs": [],
   "source": [
    "# Now we are going to compute the compactness"
   ]
  },
  {
   "cell_type": "code",
   "execution_count": 22,
   "metadata": {},
   "outputs": [
    {
     "name": "stdout",
     "output_type": "stream",
     "text": [
      "Legion: ISIC_0012099 Compactness: 1.6468852592759675\n"
     ]
    }
   ],
   "source": [
    "print(\"Legion: {} Compactness: {}\".format(melanoma_data[0][0],compactness(area,border)))"
   ]
  },
  {
   "cell_type": "markdown",
   "metadata": {},
   "source": [
    "# Task 02"
   ]
  },
  {
   "cell_type": "code",
   "execution_count": 23,
   "metadata": {},
   "outputs": [],
   "source": [
    "label = []\n",
    "for elm in zip(all_feature_merge['melanoma'],all_feature_merge['seborrheic_keratosis']):\n",
    "    \n",
    "    if elm[0] == 1.0:\n",
    "        #print(\"hej\")\n",
    "        label.append(1.0)\n",
    "    if elm[1] == 1.0:\n",
    "        label.append(2.0)\n",
    "    if (elm[0] == 0.0) and (elm[1] == 0.0):\n",
    "        label.append(0)\n",
    "    #print(type(elm[0]))\n",
    "#len(label)\n",
    "all_feature_merge['label'] = label"
   ]
  },
  {
   "cell_type": "code",
   "execution_count": 24,
   "metadata": {},
   "outputs": [
    {
     "name": "stdout",
     "output_type": "stream",
     "text": [
      "ISIC_0001769 0\n",
      "ISIC_0001852 1\n",
      "ISIC_0001871 2\n",
      "ISIC_0003462 3\n",
      "ISIC_0003539 4\n",
      "ISIC_0003582 5\n",
      "ISIC_0003657 6\n",
      "ISIC_0003805 7\n",
      "ISIC_0004337 8\n",
      "ISIC_0006651 9\n",
      "ISIC_0006671 10\n",
      "ISIC_0006815 11\n",
      "ISIC_0006914 12\n",
      "ISIC_0007141 13\n",
      "ISIC_0007156 14\n",
      "ISIC_0007235 15\n",
      "ISIC_0007241 16\n",
      "ISIC_0007332 17\n",
      "ISIC_0007344 18\n",
      "ISIC_0007528 19\n",
      "ISIC_0007796 20\n",
      "ISIC_0008025 21\n",
      "ISIC_0008524 22\n",
      "ISIC_0009995 23\n",
      "ISIC_0010459 24\n",
      "ISIC_0012099 25\n",
      "ISIC_0012109 26\n",
      "ISIC_0012126 27\n",
      "ISIC_0012127 28\n",
      "ISIC_0012143 29\n",
      "ISIC_0012151 30\n",
      "ISIC_0012159 31\n",
      "ISIC_0012160 32\n",
      "ISIC_0012191 33\n",
      "ISIC_0012201 34\n",
      "ISIC_0012204 35\n",
      "ISIC_0012206 36\n",
      "ISIC_0012210 37\n",
      "ISIC_0012221 38\n",
      "ISIC_0012222 39\n",
      "ISIC_0012254 40\n",
      "ISIC_0012256 41\n",
      "ISIC_0012288 42\n",
      "ISIC_0012306 43\n",
      "ISIC_0012313 44\n",
      "ISIC_0012316 45\n",
      "ISIC_0012335 46\n",
      "ISIC_0012380 47\n",
      "ISIC_0012383 48\n",
      "ISIC_0012400 49\n",
      "ISIC_0012417 50\n",
      "ISIC_0012434 51\n",
      "ISIC_0012492 52\n",
      "ISIC_0012513 53\n",
      "ISIC_0012538 54\n",
      "ISIC_0012547 55\n",
      "ISIC_0012660 56\n",
      "ISIC_0012684 57\n",
      "ISIC_0012720 58\n",
      "ISIC_0012746 59\n",
      "ISIC_0012876 60\n",
      "ISIC_0012927 61\n",
      "ISIC_0012956 62\n",
      "ISIC_0012959 63\n",
      "ISIC_0012965 64\n",
      "ISIC_0013010 65\n",
      "ISIC_0013082 66\n",
      "ISIC_0013104 67\n",
      "ISIC_0013127 68\n",
      "ISIC_0013128 69\n",
      "ISIC_0013132 70\n",
      "ISIC_0013188 71\n",
      "ISIC_0013215 72\n",
      "ISIC_0013232 73\n",
      "ISIC_0013421 74\n",
      "ISIC_0013491 75\n",
      "ISIC_0013501 76\n",
      "ISIC_0013518 77\n",
      "ISIC_0013527 78\n",
      "ISIC_0013549 79\n",
      "ISIC_0013561 80\n",
      "ISIC_0013562 81\n",
      "ISIC_0013632 82\n",
      "ISIC_0013637 83\n",
      "ISIC_0013644 84\n",
      "ISIC_0013651 85\n",
      "ISIC_0013663 86\n",
      "ISIC_0013702 87\n",
      "ISIC_0013736 88\n",
      "ISIC_0013793 89\n",
      "ISIC_0013828 90\n",
      "ISIC_0013863 91\n",
      "ISIC_0013898 92\n",
      "ISIC_0013945 93\n",
      "ISIC_0014037 94\n",
      "ISIC_0014038 95\n",
      "ISIC_0014055 96\n",
      "ISIC_0014139 97\n",
      "ISIC_0014162 98\n",
      "ISIC_0014178 99\n",
      "ISIC_0014211 100\n",
      "ISIC_0014212 101\n",
      "ISIC_0014217 102\n",
      "ISIC_0014302 103\n",
      "ISIC_0014310 104\n",
      "ISIC_0014382 105\n",
      "ISIC_0014428 106\n",
      "ISIC_0014558 107\n",
      "ISIC_0014568 108\n",
      "ISIC_0014572 109\n",
      "ISIC_0014597 110\n",
      "ISIC_0014601 111\n",
      "ISIC_0014608 112\n",
      "ISIC_0014610 113\n",
      "ISIC_0014611 114\n",
      "ISIC_0014616 115\n",
      "ISIC_0014618 116\n",
      "ISIC_0014620 117\n",
      "ISIC_0014623 118\n",
      "ISIC_0014624 119\n",
      "ISIC_0014633 120\n",
      "ISIC_0014635 121\n",
      "ISIC_0014637 122\n",
      "ISIC_0014688 123\n",
      "ISIC_0014712 124\n",
      "ISIC_0014809 125\n",
      "ISIC_0014829 126\n",
      "ISIC_0014857 127\n",
      "ISIC_0014931 128\n",
      "ISIC_0014937 129\n",
      "ISIC_0014945 130\n",
      "ISIC_0014946 131\n",
      "ISIC_0014979 132\n",
      "ISIC_0014985 133\n",
      "ISIC_0014989 134\n",
      "ISIC_0015043 135\n",
      "ISIC_0015062 136\n",
      "ISIC_0015124 137\n",
      "ISIC_0015144 138\n",
      "ISIC_0015211 139\n",
      "ISIC_0015243 140\n",
      "ISIC_0015256 141\n",
      "ISIC_0015313 142\n",
      "ISIC_0015372 143\n",
      "ISIC_0015401 144\n",
      "ISIC_0015443 145\n",
      "ISIC_0015445 146\n",
      "ISIC_0015483 147\n",
      "ISIC_0015496 148\n",
      "ISIC_0015627 149\n"
     ]
    }
   ],
   "source": [
    "\n",
    "#Export features from images\n",
    "data = pd.DataFrame()\n",
    "count = 0\n",
    "rows = []\n",
    "for image_id in all_feature_merge['image_id']:\n",
    "    print(image_id,count)\n",
    "    \n",
    "    image = plt.imread('../data/example_image/'+image_id+'.jpg')\n",
    "    image_seg = plt.imread('../data/example_segmentation/'+image_id+'_segmentation.png')\n",
    "    #data['image_id'] = image_id\n",
    "    real_area = int(all_feature_merge[all_feature_merge['image_id'] == image_id]['area'])\n",
    "    real_perimeter = int(all_feature_merge[all_feature_merge['image_id'] == image_id]['perimeter'])\n",
    "    thing = all_feature_merge['image_id'] == image_id\n",
    "    label = int(all_feature_merge[thing]['label'])\n",
    "\n",
    "    calculated_area = int(calculate_area(image_seg))\n",
    "    calculated_perimeter = calculate_border(image_seg,2)\n",
    "    imgCompactness = compactness(calculate_area(image_seg),calculate_border(image_seg,1))\n",
    "    average_rgb = average_colour(image,image_seg)\n",
    "    deviation_of_rgb = deviation_of_colour(image,image_seg)\n",
    "    average_luminosity_img = average_luminosity(image,image_seg)\n",
    "    deviation_luminosity_img = deviation_luminosity(image,image_seg)\n",
    "    row = [label,image_id, real_area, real_perimeter,calculated_area,calculated_perimeter,imgCompactness,average_rgb,deviation_of_rgb,average_luminosity_img,deviation_luminosity_img]\n",
    "    rows.append(row)\n",
    "    count+= 1\n",
    "\n",
    "data = pd.DataFrame(rows, columns = ['label','image_id','real_area','real_perimeter','calculated_area','calculated_perimeter','compactness','average_rgb','deviation_of_colour','average_luminosity','deviation_luminosity'])"
   ]
  },
  {
   "cell_type": "code",
   "execution_count": 25,
   "metadata": {
    "scrolled": true
   },
   "outputs": [
    {
     "data": {
      "text/html": [
       "<div>\n",
       "<style scoped>\n",
       "    .dataframe tbody tr th:only-of-type {\n",
       "        vertical-align: middle;\n",
       "    }\n",
       "\n",
       "    .dataframe tbody tr th {\n",
       "        vertical-align: top;\n",
       "    }\n",
       "\n",
       "    .dataframe thead th {\n",
       "        text-align: right;\n",
       "    }\n",
       "</style>\n",
       "<table border=\"1\" class=\"dataframe\">\n",
       "  <thead>\n",
       "    <tr style=\"text-align: right;\">\n",
       "      <th></th>\n",
       "      <th>label</th>\n",
       "      <th>image_id</th>\n",
       "      <th>real_area</th>\n",
       "      <th>real_perimeter</th>\n",
       "      <th>calculated_area</th>\n",
       "      <th>calculated_perimeter</th>\n",
       "      <th>compactness</th>\n",
       "      <th>average_rgb</th>\n",
       "      <th>deviation_of_colour</th>\n",
       "      <th>average_luminosity</th>\n",
       "      <th>deviation_luminosity</th>\n",
       "    </tr>\n",
       "  </thead>\n",
       "  <tbody>\n",
       "    <tr>\n",
       "      <td>0</td>\n",
       "      <td>0</td>\n",
       "      <td>ISIC_0001769</td>\n",
       "      <td>216160</td>\n",
       "      <td>2013</td>\n",
       "      <td>216160</td>\n",
       "      <td>3982.0</td>\n",
       "      <td>1.491772</td>\n",
       "      <td>[162.07149333826794, 99.30780440414507, 67.786...</td>\n",
       "      <td>[12.205123532436513, 18.754262929408846, 19.89...</td>\n",
       "      <td>114.480686</td>\n",
       "      <td>11.817479</td>\n",
       "    </tr>\n",
       "    <tr>\n",
       "      <td>1</td>\n",
       "      <td>0</td>\n",
       "      <td>ISIC_0001852</td>\n",
       "      <td>130493</td>\n",
       "      <td>1372</td>\n",
       "      <td>130493</td>\n",
       "      <td>2718.0</td>\n",
       "      <td>1.147919</td>\n",
       "      <td>[116.74907466300874, 54.64894668679546, 33.087...</td>\n",
       "      <td>[31.27789052350099, 32.07510414646571, 25.0998...</td>\n",
       "      <td>70.758871</td>\n",
       "      <td>21.216643</td>\n",
       "    </tr>\n",
       "    <tr>\n",
       "      <td>2</td>\n",
       "      <td>0</td>\n",
       "      <td>ISIC_0001871</td>\n",
       "      <td>205116</td>\n",
       "      <td>1720</td>\n",
       "      <td>205116</td>\n",
       "      <td>3412.0</td>\n",
       "      <td>1.147751</td>\n",
       "      <td>[182.21681390042707, 134.7412049766961, 102.53...</td>\n",
       "      <td>[6.3898744270946, 12.975379982675513, 19.33878...</td>\n",
       "      <td>145.265327</td>\n",
       "      <td>8.156129</td>\n",
       "    </tr>\n",
       "    <tr>\n",
       "      <td>3</td>\n",
       "      <td>0</td>\n",
       "      <td>ISIC_0003462</td>\n",
       "      <td>161705</td>\n",
       "      <td>1344</td>\n",
       "      <td>161705</td>\n",
       "      <td>2683.0</td>\n",
       "      <td>0.888925</td>\n",
       "      <td>[165.82234315574658, 116.78643826721499, 87.55...</td>\n",
       "      <td>[13.467871330386464, 27.312125552850148, 34.95...</td>\n",
       "      <td>128.115611</td>\n",
       "      <td>17.003706</td>\n",
       "    </tr>\n",
       "    <tr>\n",
       "      <td>4</td>\n",
       "      <td>0</td>\n",
       "      <td>ISIC_0003539</td>\n",
       "      <td>317040</td>\n",
       "      <td>2063</td>\n",
       "      <td>317040</td>\n",
       "      <td>4120.0</td>\n",
       "      <td>1.068254</td>\n",
       "      <td>[165.12712276053495, 99.63897930860459, 63.168...</td>\n",
       "      <td>[23.770632535623616, 33.005983134923085, 30.47...</td>\n",
       "      <td>115.062269</td>\n",
       "      <td>20.927490</td>\n",
       "    </tr>\n",
       "    <tr>\n",
       "      <td>...</td>\n",
       "      <td>...</td>\n",
       "      <td>...</td>\n",
       "      <td>...</td>\n",
       "      <td>...</td>\n",
       "      <td>...</td>\n",
       "      <td>...</td>\n",
       "      <td>...</td>\n",
       "      <td>...</td>\n",
       "      <td>...</td>\n",
       "      <td>...</td>\n",
       "      <td>...</td>\n",
       "    </tr>\n",
       "    <tr>\n",
       "      <td>145</td>\n",
       "      <td>0</td>\n",
       "      <td>ISIC_0015443</td>\n",
       "      <td>9732988</td>\n",
       "      <td>13775</td>\n",
       "      <td>9732988</td>\n",
       "      <td>27463.0</td>\n",
       "      <td>1.551412</td>\n",
       "      <td>[139.39421737702747, 89.18466076399149, 63.660...</td>\n",
       "      <td>[14.693926319508012, 21.175403762962702, 27.40...</td>\n",
       "      <td>101.287584</td>\n",
       "      <td>13.548701</td>\n",
       "    </tr>\n",
       "    <tr>\n",
       "      <td>146</td>\n",
       "      <td>0</td>\n",
       "      <td>ISIC_0015445</td>\n",
       "      <td>12049938</td>\n",
       "      <td>19517</td>\n",
       "      <td>12049938</td>\n",
       "      <td>39025.0</td>\n",
       "      <td>2.515541</td>\n",
       "      <td>[154.57732197460268, 91.72927727926898, 82.038...</td>\n",
       "      <td>[47.62813987684408, 41.48168846201185, 40.1837...</td>\n",
       "      <td>109.416063</td>\n",
       "      <td>28.577897</td>\n",
       "    </tr>\n",
       "    <tr>\n",
       "      <td>147</td>\n",
       "      <td>0</td>\n",
       "      <td>ISIC_0015483</td>\n",
       "      <td>8856478</td>\n",
       "      <td>13813</td>\n",
       "      <td>8856478</td>\n",
       "      <td>27534.0</td>\n",
       "      <td>1.714372</td>\n",
       "      <td>[142.42447065300675, 105.85834335048311, 92.20...</td>\n",
       "      <td>[38.30387070156361, 34.627307043981304, 33.481...</td>\n",
       "      <td>115.234832</td>\n",
       "      <td>23.640907</td>\n",
       "    </tr>\n",
       "    <tr>\n",
       "      <td>148</td>\n",
       "      <td>0</td>\n",
       "      <td>ISIC_0015496</td>\n",
       "      <td>8951522</td>\n",
       "      <td>13742</td>\n",
       "      <td>8951522</td>\n",
       "      <td>27392.0</td>\n",
       "      <td>1.678778</td>\n",
       "      <td>[172.3990948131502, 98.74436403105528, 77.7044...</td>\n",
       "      <td>[71.20114045798132, 56.41305374592664, 50.9847...</td>\n",
       "      <td>118.368574</td>\n",
       "      <td>39.794190</td>\n",
       "    </tr>\n",
       "    <tr>\n",
       "      <td>149</td>\n",
       "      <td>0</td>\n",
       "      <td>ISIC_0015627</td>\n",
       "      <td>3193093</td>\n",
       "      <td>8751</td>\n",
       "      <td>3193093</td>\n",
       "      <td>17431.0</td>\n",
       "      <td>1.908508</td>\n",
       "      <td>[147.31902453201332, 57.81611465748101, 30.184...</td>\n",
       "      <td>[25.55400332278325, 23.24861680888407, 21.9983...</td>\n",
       "      <td>81.427437</td>\n",
       "      <td>15.840060</td>\n",
       "    </tr>\n",
       "  </tbody>\n",
       "</table>\n",
       "<p>150 rows × 11 columns</p>\n",
       "</div>"
      ],
      "text/plain": [
       "     label      image_id  real_area  real_perimeter  calculated_area  \\\n",
       "0        0  ISIC_0001769     216160            2013           216160   \n",
       "1        0  ISIC_0001852     130493            1372           130493   \n",
       "2        0  ISIC_0001871     205116            1720           205116   \n",
       "3        0  ISIC_0003462     161705            1344           161705   \n",
       "4        0  ISIC_0003539     317040            2063           317040   \n",
       "..     ...           ...        ...             ...              ...   \n",
       "145      0  ISIC_0015443    9732988           13775          9732988   \n",
       "146      0  ISIC_0015445   12049938           19517         12049938   \n",
       "147      0  ISIC_0015483    8856478           13813          8856478   \n",
       "148      0  ISIC_0015496    8951522           13742          8951522   \n",
       "149      0  ISIC_0015627    3193093            8751          3193093   \n",
       "\n",
       "     calculated_perimeter  compactness  \\\n",
       "0                  3982.0     1.491772   \n",
       "1                  2718.0     1.147919   \n",
       "2                  3412.0     1.147751   \n",
       "3                  2683.0     0.888925   \n",
       "4                  4120.0     1.068254   \n",
       "..                    ...          ...   \n",
       "145               27463.0     1.551412   \n",
       "146               39025.0     2.515541   \n",
       "147               27534.0     1.714372   \n",
       "148               27392.0     1.678778   \n",
       "149               17431.0     1.908508   \n",
       "\n",
       "                                           average_rgb  \\\n",
       "0    [162.07149333826794, 99.30780440414507, 67.786...   \n",
       "1    [116.74907466300874, 54.64894668679546, 33.087...   \n",
       "2    [182.21681390042707, 134.7412049766961, 102.53...   \n",
       "3    [165.82234315574658, 116.78643826721499, 87.55...   \n",
       "4    [165.12712276053495, 99.63897930860459, 63.168...   \n",
       "..                                                 ...   \n",
       "145  [139.39421737702747, 89.18466076399149, 63.660...   \n",
       "146  [154.57732197460268, 91.72927727926898, 82.038...   \n",
       "147  [142.42447065300675, 105.85834335048311, 92.20...   \n",
       "148  [172.3990948131502, 98.74436403105528, 77.7044...   \n",
       "149  [147.31902453201332, 57.81611465748101, 30.184...   \n",
       "\n",
       "                                   deviation_of_colour  average_luminosity  \\\n",
       "0    [12.205123532436513, 18.754262929408846, 19.89...          114.480686   \n",
       "1    [31.27789052350099, 32.07510414646571, 25.0998...           70.758871   \n",
       "2    [6.3898744270946, 12.975379982675513, 19.33878...          145.265327   \n",
       "3    [13.467871330386464, 27.312125552850148, 34.95...          128.115611   \n",
       "4    [23.770632535623616, 33.005983134923085, 30.47...          115.062269   \n",
       "..                                                 ...                 ...   \n",
       "145  [14.693926319508012, 21.175403762962702, 27.40...          101.287584   \n",
       "146  [47.62813987684408, 41.48168846201185, 40.1837...          109.416063   \n",
       "147  [38.30387070156361, 34.627307043981304, 33.481...          115.234832   \n",
       "148  [71.20114045798132, 56.41305374592664, 50.9847...          118.368574   \n",
       "149  [25.55400332278325, 23.24861680888407, 21.9983...           81.427437   \n",
       "\n",
       "     deviation_luminosity  \n",
       "0               11.817479  \n",
       "1               21.216643  \n",
       "2                8.156129  \n",
       "3               17.003706  \n",
       "4               20.927490  \n",
       "..                    ...  \n",
       "145             13.548701  \n",
       "146             28.577897  \n",
       "147             23.640907  \n",
       "148             39.794190  \n",
       "149             15.840060  \n",
       "\n",
       "[150 rows x 11 columns]"
      ]
     },
     "execution_count": 25,
     "metadata": {},
     "output_type": "execute_result"
    }
   ],
   "source": [
    "data"
   ]
  },
  {
   "cell_type": "code",
   "execution_count": 26,
   "metadata": {},
   "outputs": [],
   "source": [
    "# Here we create a backup of the data, since the creating of the dataframe is really time consuming\n",
    "backup = data.copy()"
   ]
  },
  {
   "cell_type": "markdown",
   "metadata": {},
   "source": [
    "# Testing and cross validation"
   ]
  },
  {
   "cell_type": "markdown",
   "metadata": {},
   "source": [
    "### Test 01 without the color"
   ]
  },
  {
   "cell_type": "code",
   "execution_count": 27,
   "metadata": {},
   "outputs": [],
   "source": [
    "data = data.drop(columns = ['calculated_area', 'calculated_perimeter'])\n",
    "data = data.drop(columns = ['average_rgb','deviation_of_colour'])"
   ]
  },
  {
   "cell_type": "code",
   "execution_count": 28,
   "metadata": {},
   "outputs": [],
   "source": [
    "# Here we get all the data from the dataframe, excluding the id and label\n",
    "np_data = np.array(data.iloc[:,2:11])"
   ]
  },
  {
   "cell_type": "code",
   "execution_count": 29,
   "metadata": {},
   "outputs": [],
   "source": [
    "# Here we get the labels\n",
    "label = np.array(data.iloc[:,0:1])"
   ]
  },
  {
   "cell_type": "code",
   "execution_count": 30,
   "metadata": {},
   "outputs": [],
   "source": [
    "# Here we convert the labels to integers\n",
    "label = [int(x) for x in label]"
   ]
  },
  {
   "cell_type": "code",
   "execution_count": 31,
   "metadata": {},
   "outputs": [],
   "source": [
    "# Here we use sk-learns split function to create our training and test data\n",
    "x_train, x_test, y_train, y_test = train_test_split(np_data,label,test_size=0.2, random_state = 4)"
   ]
  },
  {
   "cell_type": "code",
   "execution_count": 32,
   "metadata": {},
   "outputs": [],
   "source": [
    "# x_train is the training data\n",
    "# y_train is the training labels\n",
    "# x_test is the testing data\n",
    "# y_test is the testing labels"
   ]
  },
  {
   "cell_type": "code",
   "execution_count": 33,
   "metadata": {},
   "outputs": [],
   "source": [
    "# Here we make a accuacy score for different k's\n",
    "acc = []\n",
    "for i in range(1,len(x_train)//3):\n",
    "    pred = make_knn_prediction(i) #Here i create the prediction and appending it\n",
    "    acc.append((accuracy_score(y_test, pred)))"
   ]
  },
  {
   "cell_type": "code",
   "execution_count": 34,
   "metadata": {},
   "outputs": [
    {
     "data": {
      "image/png": "[encoded data removed]",
      "text/plain": [
       "<Figure size 432x288 with 1 Axes>"
      ]
     },
     "metadata": {
      "needs_background": "light"
     },
     "output_type": "display_data"
    }
   ],
   "source": [
    "#Here we create a plot of the sores vs the value of k\n",
    "plt.plot\n",
    "plt.ylabel('Prediction accuracy')\n",
    "plt.xlabel('Value of K')\n",
    "plt.title('Prediction by our KNN-model for different values of k')\n",
    "plt.ylim(0.2,0.8)\n",
    "plt.plot(acc)\n",
    "plt.grid()\n",
    "plt.show()"
   ]
  },
  {
   "cell_type": "code",
   "execution_count": 35,
   "metadata": {},
   "outputs": [],
   "source": [
    "# Here we define our model\n",
    "knn = knn_model_constructor(11,np_data, label)"
   ]
  },
  {
   "cell_type": "code",
   "execution_count": 36,
   "metadata": {},
   "outputs": [],
   "source": [
    "# Here we use cross validation to give it a more accurate representation of its accuracy\n",
    "scores = cross_val_score(knn, np_data, label, cv=5)"
   ]
  },
  {
   "cell_type": "code",
   "execution_count": 37,
   "metadata": {
    "scrolled": false
   },
   "outputs": [
    {
     "data": {
      "text/plain": [
       "array([0.48387097, 0.5483871 , 0.56666667, 0.48275862, 0.20689655])"
      ]
     },
     "execution_count": 37,
     "metadata": {},
     "output_type": "execute_result"
    }
   ],
   "source": [
    "scores"
   ]
  },
  {
   "cell_type": "code",
   "execution_count": 38,
   "metadata": {},
   "outputs": [
    {
     "data": {
      "text/plain": [
       "0.45771598071931774"
      ]
     },
     "execution_count": 38,
     "metadata": {},
     "output_type": "execute_result"
    }
   ],
   "source": [
    "# Here we print the average score from the cross validation\n",
    "sum(scores)/5"
   ]
  },
  {
   "cell_type": "markdown",
   "metadata": {},
   "source": [
    "### Test 02 same test but we use the log on the data"
   ]
  },
  {
   "cell_type": "code",
   "execution_count": 39,
   "metadata": {},
   "outputs": [],
   "source": [
    "data = backup.copy()"
   ]
  },
  {
   "cell_type": "code",
   "execution_count": 40,
   "metadata": {},
   "outputs": [],
   "source": [
    "data = backup.copy()\n",
    "data = data.drop(columns = ['calculated_area', 'calculated_perimeter'])\n",
    "data = data.drop(columns = ['average_rgb','deviation_of_colour'])"
   ]
  },
  {
   "cell_type": "code",
   "execution_count": 41,
   "metadata": {},
   "outputs": [],
   "source": [
    "#Since compactness are such low values, there is no need to take the log of it\n",
    "for elm in data.iloc[:,2:]:\n",
    "    if max(data[elm]) > max(data['compactness']):\n",
    "        data[elm] = np.log10(data[elm])"
   ]
  },
  {
   "cell_type": "code",
   "execution_count": 42,
   "metadata": {},
   "outputs": [],
   "source": [
    "# Here we get all the data from the dataframe, excluding the id and label\n",
    "np_data = np.array(data.iloc[:,2:11])\n",
    "# Here we get the labels\n",
    "label = np.array(data.iloc[:,0:1])\n",
    "# Here we convert the labels to integers\n",
    "label = [int(x) for x in label]\n",
    "# Here we use sk-learns split function to create our training and test data\n",
    "x_train, x_test, y_train, y_test = train_test_split(np_data,label,test_size=0.2, random_state = 4)\n",
    "# Here we make a accuacy score for different k's\n",
    "acc = []\n",
    "for i in range(1,len(x_train)//3):\n",
    "    pred = make_knn_prediction(i) #Here i create the prediction and appending it\n",
    "    acc.append((accuracy_score(y_test, pred)))"
   ]
  },
  {
   "cell_type": "code",
   "execution_count": 43,
   "metadata": {},
   "outputs": [
    {
     "data": {
      "image/png": "[encoded data removed]",
      "text/plain": [
       "<Figure size 432x288 with 1 Axes>"
      ]
     },
     "metadata": {
      "needs_background": "light"
     },
     "output_type": "display_data"
    }
   ],
   "source": [
    "#Here we create a plot of the sores vs the value of k\n",
    "plt.plot\n",
    "plt.ylabel('Prediction accuracy')\n",
    "plt.xlabel('Value of K')\n",
    "plt.title('Prediction by our KNN-model for different values of k')\n",
    "plt.ylim(0.2,0.8)\n",
    "plt.plot(acc)\n",
    "plt.grid()\n",
    "plt.show()"
   ]
  },
  {
   "cell_type": "code",
   "execution_count": 44,
   "metadata": {
    "scrolled": true
   },
   "outputs": [
    {
     "data": {
      "text/plain": [
       "0.5355654430849092"
      ]
     },
     "execution_count": 44,
     "metadata": {},
     "output_type": "execute_result"
    }
   ],
   "source": [
    "# Here we define our model\n",
    "knn = knn_model_constructor(11,np_data, label)\n",
    "# Here we use cross validation to give it a more accurate representation of its accuracy\n",
    "scores = cross_val_score(knn, np_data, label, cv=5)\n",
    "# Here we print the average score from the cross validation\n",
    "sum(scores)/5"
   ]
  },
  {
   "cell_type": "markdown",
   "metadata": {},
   "source": [
    "### Test 03 here we use the color and convert it to an int"
   ]
  },
  {
   "cell_type": "code",
   "execution_count": 45,
   "metadata": {},
   "outputs": [],
   "source": [
    "data = backup.copy()\n",
    "data = data.drop(columns = ['calculated_area', 'calculated_perimeter'])"
   ]
  },
  {
   "cell_type": "code",
   "execution_count": 46,
   "metadata": {},
   "outputs": [],
   "source": [
    "# Here we convert the rgb featues to a number using hex values\n",
    "hex_val = from_rgb_to_int(data['average_rgb'])\n",
    "data['average_rgb'] = hex_val\n",
    "hex_val = from_rgb_to_int(data['deviation_of_colour'])\n",
    "data['deviation_of_colour'] = hex_val"
   ]
  },
  {
   "cell_type": "code",
   "execution_count": 47,
   "metadata": {},
   "outputs": [],
   "source": [
    "# Here we get all the data from the dataframe, excluding the id and label\n",
    "np_data = np.array(data.iloc[:,2:11])\n",
    "# Here we get the labels\n",
    "label = np.array(data.iloc[:,0:1])\n",
    "# Here we convert the labels to integers\n",
    "label = [int(x) for x in label]\n",
    "# Here we use sk-learns split function to create our training and test data\n",
    "x_train, x_test, y_train, y_test = train_test_split(np_data,label,test_size=0.2, random_state = 4)\n",
    "# Here we make a accuacy score for different k's\n",
    "acc = []\n",
    "for i in range(1,len(x_train)//3):\n",
    "    pred = make_knn_prediction(i) #Here i create the prediction and appending it\n",
    "    acc.append((accuracy_score(y_test, pred)))"
   ]
  },
  {
   "cell_type": "code",
   "execution_count": 48,
   "metadata": {},
   "outputs": [
    {
     "data": {
      "image/png": "[encoded data removed]",
      "text/plain": [
       "<Figure size 432x288 with 1 Axes>"
      ]
     },
     "metadata": {
      "needs_background": "light"
     },
     "output_type": "display_data"
    }
   ],
   "source": [
    "#Here we create a plot of the sores vs the value of k\n",
    "plt.plot\n",
    "plt.ylabel('Prediction accuracy')\n",
    "plt.xlabel('Value of K')\n",
    "plt.title('Prediction by our KNN-model for different values of k')\n",
    "plt.ylim(0.2,0.8)\n",
    "plt.plot(acc)\n",
    "plt.grid()\n",
    "plt.show()"
   ]
  },
  {
   "cell_type": "code",
   "execution_count": 49,
   "metadata": {},
   "outputs": [
    {
     "data": {
      "text/plain": [
       "0.5324582869855395"
      ]
     },
     "execution_count": 49,
     "metadata": {},
     "output_type": "execute_result"
    }
   ],
   "source": [
    "# Here we define our model\n",
    "knn = knn_model_constructor(11,np_data, label)\n",
    "# Here we use cross validation to give it a more accurate representation of its accuracy\n",
    "scores = cross_val_score(knn, np_data, label, cv=5)\n",
    "# Here we print the average score from the cross validation\n",
    "sum(scores)/5"
   ]
  },
  {
   "cell_type": "markdown",
   "metadata": {},
   "source": [
    "### Test 04 here we use the color and convert it to an int and taking the log"
   ]
  },
  {
   "cell_type": "code",
   "execution_count": 50,
   "metadata": {},
   "outputs": [],
   "source": [
    "data = backup.copy()\n",
    "data = data.drop(columns = ['calculated_area', 'calculated_perimeter'])"
   ]
  },
  {
   "cell_type": "code",
   "execution_count": 51,
   "metadata": {},
   "outputs": [],
   "source": [
    "# Here we convert the rgb featues to a number using hex values\n",
    "hex_val = from_rgb_to_int(data['average_rgb'])\n",
    "data['average_rgb'] = hex_val\n",
    "hex_val = from_rgb_to_int(data['deviation_of_colour'])\n",
    "data['deviation_of_colour'] = hex_val"
   ]
  },
  {
   "cell_type": "code",
   "execution_count": 52,
   "metadata": {},
   "outputs": [],
   "source": [
    "#Since compactness are such low values, there is no need to take the log of it\n",
    "for elm in data.iloc[:,2:]:\n",
    "    if max(data[elm]) > max(data['compactness']):\n",
    "        data[elm] = np.log10(data[elm])"
   ]
  },
  {
   "cell_type": "code",
   "execution_count": 53,
   "metadata": {},
   "outputs": [],
   "source": [
    "# Here we get all the data from the dataframe, excluding the id and label\n",
    "np_data = np.array(data.iloc[:,2:11])\n",
    "# Here we get the labels\n",
    "label = np.array(data.iloc[:,0:1])\n",
    "# Here we convert the labels to integers\n",
    "label = [int(x) for x in label]\n",
    "# Here we use sk-learns split function to create our training and test data\n",
    "x_train, x_test, y_train, y_test = train_test_split(np_data,label,test_size=0.2, random_state = 4)\n",
    "# Here we make a accuacy score for different k's\n",
    "acc = []\n",
    "for i in range(1,len(x_train)//3):\n",
    "    pred = make_knn_prediction(i) #Here i create the prediction and appending it\n",
    "    acc.append((accuracy_score(y_test, pred)))"
   ]
  },
  {
   "cell_type": "code",
   "execution_count": 54,
   "metadata": {},
   "outputs": [
    {
     "data": {
      "image/png": "[encoded data removed]",
      "text/plain": [
       "<Figure size 432x288 with 1 Axes>"
      ]
     },
     "metadata": {
      "needs_background": "light"
     },
     "output_type": "display_data"
    }
   ],
   "source": [
    "#Here we create a plot of the sores vs the value of k\n",
    "plt.plot\n",
    "plt.ylabel('Prediction accuracy')\n",
    "plt.xlabel('Value of K')\n",
    "plt.title('Prediction by our KNN-model for different values of k')\n",
    "plt.ylim(0.2,0.8)\n",
    "plt.plot(acc)\n",
    "plt.grid()\n",
    "plt.show()"
   ]
  },
  {
   "cell_type": "code",
   "execution_count": 55,
   "metadata": {},
   "outputs": [
    {
     "data": {
      "text/plain": [
       "0.5300037078235076"
      ]
     },
     "execution_count": 55,
     "metadata": {},
     "output_type": "execute_result"
    }
   ],
   "source": [
    "# Here we define our model\n",
    "knn = knn_model_constructor(11,np_data, label)\n",
    "# Here we use cross validation to give it a more accurate representation of its accuracy\n",
    "scores = cross_val_score(knn, np_data, label, cv=5)\n",
    "# Here we print the average score from the cross validation\n",
    "sum(scores)/5"
   ]
  },
  {
   "cell_type": "markdown",
   "metadata": {},
   "source": [
    "### Test 05 binary classification"
   ]
  },
  {
   "cell_type": "code",
   "execution_count": 56,
   "metadata": {},
   "outputs": [],
   "source": [
    "binary_df = backup.copy()"
   ]
  },
  {
   "cell_type": "markdown",
   "metadata": {},
   "source": [
    "So here we want to try something a bit different.\n",
    "Our hypethesis is that, melanoma and keratosis has a lot in common, so maybe it will be easier,\n",
    "if we try and predict wether the input is \"normal\" or \"not normal\"\n",
    "Then after we then want to try and classify wether it is keratosis or melanoma.\n",
    "Since the space is a lot closer when only using keratosis or melanoma, it should be easier to distinguish."
   ]
  },
  {
   "cell_type": "code",
   "execution_count": 57,
   "metadata": {},
   "outputs": [],
   "source": [
    "# Here we convert melanoma and keratosis to 1 and everything else as 0.\n",
    "# \n",
    "label = []\n",
    "for elm in zip(all_feature_merge['melanoma'],all_feature_merge['seborrheic_keratosis']):\n",
    "    \n",
    "    if elm[0] == 1.0 or elm[1] == 1.0:\n",
    "        #print(\"hej\")\n",
    "        label.append(1.0)\n",
    "    else:\n",
    "        label.append(0.0)\n",
    "    \n",
    "binary_df['label'] = label"
   ]
  },
  {
   "cell_type": "code",
   "execution_count": 58,
   "metadata": {},
   "outputs": [],
   "source": [
    "# Here we convert the rgb featues to a number using hex values\n",
    "hex_val = from_rgb_to_int(binary_df['average_rgb'])\n",
    "binary_df['average_rgb'] = hex_val\n",
    "hex_val = from_rgb_to_int(binary_df['deviation_of_colour'])\n",
    "binary_df['deviation_of_colour'] = hex_val"
   ]
  },
  {
   "cell_type": "code",
   "execution_count": 59,
   "metadata": {},
   "outputs": [],
   "source": [
    "#Since compactness are such low values, there is no need to take the log of it\n",
    "for elm in binary_df.iloc[:,2:]:\n",
    "    if max(binary_df[elm]) > max(binary_df['compactness']):\n",
    "        binary_df[elm] = np.log10(binary_df[elm])"
   ]
  },
  {
   "cell_type": "code",
   "execution_count": 60,
   "metadata": {},
   "outputs": [],
   "source": [
    "# Here we get all the data from the dataframe, excluding the id and label\n",
    "np_data = np.array(binary_df.iloc[:,2:11])\n",
    "# Here we get the labels\n",
    "label = np.array(binary_df.iloc[:,0:1])\n",
    "# Here we convert the labels to integers\n",
    "label = [int(x) for x in label]\n",
    "# Here we use sk-learns split function to create our training and test data\n",
    "x_train, x_test, y_train, y_test = train_test_split(np_data,label,test_size=0.2, random_state = 4)\n",
    "# Here we make a accuacy score for different k's\n",
    "acc = []\n",
    "for i in range(1,len(x_train)//3):\n",
    "    pred = make_knn_prediction(i) #Here i create the prediction and appending it\n",
    "    acc.append((accuracy_score(y_test, pred)))"
   ]
  },
  {
   "cell_type": "code",
   "execution_count": 61,
   "metadata": {},
   "outputs": [
    {
     "data": {
      "image/png": "[encoded data removed]",
      "text/plain": [
       "<Figure size 432x288 with 1 Axes>"
      ]
     },
     "metadata": {
      "needs_background": "light"
     },
     "output_type": "display_data"
    }
   ],
   "source": [
    "#Here we create a plot of the sores vs the value of k\n",
    "plt.plot\n",
    "plt.ylabel('Prediction accuracy')\n",
    "plt.xlabel('Value of K')\n",
    "plt.title('Prediction by our KNN-model for different values of k')\n",
    "plt.ylim(0.2,0.8)\n",
    "plt.plot(acc)\n",
    "plt.grid()\n",
    "plt.show()"
   ]
  },
  {
   "cell_type": "code",
   "execution_count": 62,
   "metadata": {
    "scrolled": true
   },
   "outputs": [
    {
     "data": {
      "text/plain": [
       "0.602536151279199"
      ]
     },
     "execution_count": 62,
     "metadata": {},
     "output_type": "execute_result"
    }
   ],
   "source": [
    "# Here we define our model\n",
    "knn = knn_model_constructor(11,np_data, label)\n",
    "# Here we use cross validation to give it a more accurate representation of its accuracy\n",
    "scores = cross_val_score(knn, np_data, label, cv=5)\n",
    "# Here we print the average score from the cross validation\n",
    "sum(scores)/5"
   ]
  },
  {
   "cell_type": "code",
   "execution_count": 63,
   "metadata": {},
   "outputs": [],
   "source": [
    "#This here is the score when comparing sick vs non sick"
   ]
  },
  {
   "cell_type": "code",
   "execution_count": 64,
   "metadata": {},
   "outputs": [],
   "source": [
    "#Now we want to try and classify wether something is melanoma or keratosis"
   ]
  },
  {
   "cell_type": "code",
   "execution_count": 65,
   "metadata": {},
   "outputs": [],
   "source": [
    "data = backup.copy()"
   ]
  },
  {
   "cell_type": "code",
   "execution_count": 66,
   "metadata": {
    "scrolled": true
   },
   "outputs": [],
   "source": [
    "data = data.drop(columns = ['calculated_area','calculated_perimeter'])"
   ]
  },
  {
   "cell_type": "code",
   "execution_count": 67,
   "metadata": {},
   "outputs": [],
   "source": [
    "mask = (data['label'] == 1) | (data['label'] == 2)"
   ]
  },
  {
   "cell_type": "code",
   "execution_count": 68,
   "metadata": {},
   "outputs": [],
   "source": [
    "sick_df = data[mask]"
   ]
  },
  {
   "cell_type": "code",
   "execution_count": 69,
   "metadata": {
    "scrolled": true
   },
   "outputs": [
    {
     "data": {
      "text/html": [
       "<div>\n",
       "<style scoped>\n",
       "    .dataframe tbody tr th:only-of-type {\n",
       "        vertical-align: middle;\n",
       "    }\n",
       "\n",
       "    .dataframe tbody tr th {\n",
       "        vertical-align: top;\n",
       "    }\n",
       "\n",
       "    .dataframe thead th {\n",
       "        text-align: right;\n",
       "    }\n",
       "</style>\n",
       "<table border=\"1\" class=\"dataframe\">\n",
       "  <thead>\n",
       "    <tr style=\"text-align: right;\">\n",
       "      <th></th>\n",
       "      <th>label</th>\n",
       "      <th>image_id</th>\n",
       "      <th>real_area</th>\n",
       "      <th>real_perimeter</th>\n",
       "      <th>compactness</th>\n",
       "      <th>average_rgb</th>\n",
       "      <th>deviation_of_colour</th>\n",
       "      <th>average_luminosity</th>\n",
       "      <th>deviation_luminosity</th>\n",
       "    </tr>\n",
       "  </thead>\n",
       "  <tbody>\n",
       "    <tr>\n",
       "      <td>25</td>\n",
       "      <td>1</td>\n",
       "      <td>ISIC_0012099</td>\n",
       "      <td>88455</td>\n",
       "      <td>1353</td>\n",
       "      <td>1.646885</td>\n",
       "      <td>[133.0839409869425, 74.67328019897123, 63.3797...</td>\n",
       "      <td>[43.84185609572144, 42.9906194601899, 39.70560...</td>\n",
       "      <td>90.850600</td>\n",
       "      <td>28.795090</td>\n",
       "    </tr>\n",
       "    <tr>\n",
       "      <td>29</td>\n",
       "      <td>2</td>\n",
       "      <td>ISIC_0012143</td>\n",
       "      <td>1124326</td>\n",
       "      <td>5267</td>\n",
       "      <td>1.963471</td>\n",
       "      <td>[125.36867865725777, 87.89170845466528, 81.978...</td>\n",
       "      <td>[11.614667474218335, 16.009279535790448, 18.58...</td>\n",
       "      <td>98.423235</td>\n",
       "      <td>10.240129</td>\n",
       "    </tr>\n",
       "    <tr>\n",
       "      <td>30</td>\n",
       "      <td>1</td>\n",
       "      <td>ISIC_0012151</td>\n",
       "      <td>1558295</td>\n",
       "      <td>5920</td>\n",
       "      <td>1.789715</td>\n",
       "      <td>[154.00267150956654, 101.85409630397325, 69.64...</td>\n",
       "      <td>[12.488177086059158, 22.763660597504117, 21.36...</td>\n",
       "      <td>113.774431</td>\n",
       "      <td>14.086425</td>\n",
       "    </tr>\n",
       "    <tr>\n",
       "      <td>35</td>\n",
       "      <td>2</td>\n",
       "      <td>ISIC_0012204</td>\n",
       "      <td>171424</td>\n",
       "      <td>1427</td>\n",
       "      <td>0.945293</td>\n",
       "      <td>[165.94577772073922, 106.19560854956133, 80.87...</td>\n",
       "      <td>[8.13084162136855, 14.007302634806843, 14.7728...</td>\n",
       "      <td>121.174759</td>\n",
       "      <td>8.737996</td>\n",
       "    </tr>\n",
       "    <tr>\n",
       "      <td>37</td>\n",
       "      <td>2</td>\n",
       "      <td>ISIC_0012210</td>\n",
       "      <td>791881</td>\n",
       "      <td>4846</td>\n",
       "      <td>2.359919</td>\n",
       "      <td>[184.94340690078434, 144.15536299014624, 115.0...</td>\n",
       "      <td>[2.920282092086682, 7.261667373682666, 9.57901...</td>\n",
       "      <td>153.030320</td>\n",
       "      <td>4.486050</td>\n",
       "    </tr>\n",
       "    <tr>\n",
       "      <td>...</td>\n",
       "      <td>...</td>\n",
       "      <td>...</td>\n",
       "      <td>...</td>\n",
       "      <td>...</td>\n",
       "      <td>...</td>\n",
       "      <td>...</td>\n",
       "      <td>...</td>\n",
       "      <td>...</td>\n",
       "      <td>...</td>\n",
       "    </tr>\n",
       "    <tr>\n",
       "      <td>133</td>\n",
       "      <td>1</td>\n",
       "      <td>ISIC_0014985</td>\n",
       "      <td>17073688</td>\n",
       "      <td>19027</td>\n",
       "      <td>1.685570</td>\n",
       "      <td>[123.99294470360199, 74.21463463861197, 67.689...</td>\n",
       "      <td>[20.873873774856392, 24.070746008934705, 23.84...</td>\n",
       "      <td>88.354444</td>\n",
       "      <td>15.683895</td>\n",
       "    </tr>\n",
       "    <tr>\n",
       "      <td>136</td>\n",
       "      <td>2</td>\n",
       "      <td>ISIC_0015062</td>\n",
       "      <td>27706864</td>\n",
       "      <td>23002</td>\n",
       "      <td>1.524509</td>\n",
       "      <td>[121.0199836307492, 91.65647917749658, 92.6513...</td>\n",
       "      <td>[49.93624354724213, 43.18833669980172, 45.3151...</td>\n",
       "      <td>100.549579</td>\n",
       "      <td>29.871742</td>\n",
       "    </tr>\n",
       "    <tr>\n",
       "      <td>137</td>\n",
       "      <td>1</td>\n",
       "      <td>ISIC_0015124</td>\n",
       "      <td>12048040</td>\n",
       "      <td>17115</td>\n",
       "      <td>1.934762</td>\n",
       "      <td>[167.42364592083027, 106.60566266380258, 82.31...</td>\n",
       "      <td>[44.26718597621176, 46.94699940844143, 48.1454...</td>\n",
       "      <td>122.020931</td>\n",
       "      <td>31.060434</td>\n",
       "    </tr>\n",
       "    <tr>\n",
       "      <td>140</td>\n",
       "      <td>1</td>\n",
       "      <td>ISIC_0015243</td>\n",
       "      <td>19736156</td>\n",
       "      <td>18599</td>\n",
       "      <td>1.394183</td>\n",
       "      <td>[148.02007472578254, 87.64673654854845, 79.589...</td>\n",
       "      <td>[32.9952937356417, 29.808602609479337, 35.3989...</td>\n",
       "      <td>104.779859</td>\n",
       "      <td>20.488601</td>\n",
       "    </tr>\n",
       "    <tr>\n",
       "      <td>141</td>\n",
       "      <td>1</td>\n",
       "      <td>ISIC_0015256</td>\n",
       "      <td>25221610</td>\n",
       "      <td>18790</td>\n",
       "      <td>1.116217</td>\n",
       "      <td>[188.96715433217517, 99.53980492348798, 78.826...</td>\n",
       "      <td>[39.57738242615837, 36.52870500266439, 37.0798...</td>\n",
       "      <td>123.917211</td>\n",
       "      <td>24.853124</td>\n",
       "    </tr>\n",
       "  </tbody>\n",
       "</table>\n",
       "<p>72 rows × 9 columns</p>\n",
       "</div>"
      ],
      "text/plain": [
       "     label      image_id  real_area  real_perimeter  compactness  \\\n",
       "25       1  ISIC_0012099      88455            1353     1.646885   \n",
       "29       2  ISIC_0012143    1124326            5267     1.963471   \n",
       "30       1  ISIC_0012151    1558295            5920     1.789715   \n",
       "35       2  ISIC_0012204     171424            1427     0.945293   \n",
       "37       2  ISIC_0012210     791881            4846     2.359919   \n",
       "..     ...           ...        ...             ...          ...   \n",
       "133      1  ISIC_0014985   17073688           19027     1.685570   \n",
       "136      2  ISIC_0015062   27706864           23002     1.524509   \n",
       "137      1  ISIC_0015124   12048040           17115     1.934762   \n",
       "140      1  ISIC_0015243   19736156           18599     1.394183   \n",
       "141      1  ISIC_0015256   25221610           18790     1.116217   \n",
       "\n",
       "                                           average_rgb  \\\n",
       "25   [133.0839409869425, 74.67328019897123, 63.3797...   \n",
       "29   [125.36867865725777, 87.89170845466528, 81.978...   \n",
       "30   [154.00267150956654, 101.85409630397325, 69.64...   \n",
       "35   [165.94577772073922, 106.19560854956133, 80.87...   \n",
       "37   [184.94340690078434, 144.15536299014624, 115.0...   \n",
       "..                                                 ...   \n",
       "133  [123.99294470360199, 74.21463463861197, 67.689...   \n",
       "136  [121.0199836307492, 91.65647917749658, 92.6513...   \n",
       "137  [167.42364592083027, 106.60566266380258, 82.31...   \n",
       "140  [148.02007472578254, 87.64673654854845, 79.589...   \n",
       "141  [188.96715433217517, 99.53980492348798, 78.826...   \n",
       "\n",
       "                                   deviation_of_colour  average_luminosity  \\\n",
       "25   [43.84185609572144, 42.9906194601899, 39.70560...           90.850600   \n",
       "29   [11.614667474218335, 16.009279535790448, 18.58...           98.423235   \n",
       "30   [12.488177086059158, 22.763660597504117, 21.36...          113.774431   \n",
       "35   [8.13084162136855, 14.007302634806843, 14.7728...          121.174759   \n",
       "37   [2.920282092086682, 7.261667373682666, 9.57901...          153.030320   \n",
       "..                                                 ...                 ...   \n",
       "133  [20.873873774856392, 24.070746008934705, 23.84...           88.354444   \n",
       "136  [49.93624354724213, 43.18833669980172, 45.3151...          100.549579   \n",
       "137  [44.26718597621176, 46.94699940844143, 48.1454...          122.020931   \n",
       "140  [32.9952937356417, 29.808602609479337, 35.3989...          104.779859   \n",
       "141  [39.57738242615837, 36.52870500266439, 37.0798...          123.917211   \n",
       "\n",
       "     deviation_luminosity  \n",
       "25              28.795090  \n",
       "29              10.240129  \n",
       "30              14.086425  \n",
       "35               8.737996  \n",
       "37               4.486050  \n",
       "..                    ...  \n",
       "133             15.683895  \n",
       "136             29.871742  \n",
       "137             31.060434  \n",
       "140             20.488601  \n",
       "141             24.853124  \n",
       "\n",
       "[72 rows x 9 columns]"
      ]
     },
     "execution_count": 69,
     "metadata": {},
     "output_type": "execute_result"
    }
   ],
   "source": [
    "sick_df"
   ]
  },
  {
   "cell_type": "code",
   "execution_count": 70,
   "metadata": {},
   "outputs": [
    {
     "name": "stderr",
     "output_type": "stream",
     "text": [
      "C:\\Users\\Martin\\Anaconda3\\lib\\site-packages\\ipykernel_launcher.py:3: SettingWithCopyWarning: \n",
      "A value is trying to be set on a copy of a slice from a DataFrame.\n",
      "Try using .loc[row_indexer,col_indexer] = value instead\n",
      "\n",
      "See the caveats in the documentation: http://pandas.pydata.org/pandas-docs/stable/user_guide/indexing.html#returning-a-view-versus-a-copy\n",
      "  This is separate from the ipykernel package so we can avoid doing imports until\n",
      "C:\\Users\\Martin\\Anaconda3\\lib\\site-packages\\ipykernel_launcher.py:5: SettingWithCopyWarning: \n",
      "A value is trying to be set on a copy of a slice from a DataFrame.\n",
      "Try using .loc[row_indexer,col_indexer] = value instead\n",
      "\n",
      "See the caveats in the documentation: http://pandas.pydata.org/pandas-docs/stable/user_guide/indexing.html#returning-a-view-versus-a-copy\n",
      "  \"\"\"\n"
     ]
    }
   ],
   "source": [
    "# Here we convert the rgb featues to a number using hex values\n",
    "hex_val = from_rgb_to_int(sick_df['average_rgb'])\n",
    "sick_df['average_rgb'] = hex_val\n",
    "hex_val = from_rgb_to_int(sick_df['deviation_of_colour'])\n",
    "sick_df['deviation_of_colour'] = hex_val"
   ]
  },
  {
   "cell_type": "code",
   "execution_count": 71,
   "metadata": {},
   "outputs": [
    {
     "name": "stderr",
     "output_type": "stream",
     "text": [
      "C:\\Users\\Martin\\Anaconda3\\lib\\site-packages\\ipykernel_launcher.py:4: SettingWithCopyWarning: \n",
      "A value is trying to be set on a copy of a slice from a DataFrame.\n",
      "Try using .loc[row_indexer,col_indexer] = value instead\n",
      "\n",
      "See the caveats in the documentation: http://pandas.pydata.org/pandas-docs/stable/user_guide/indexing.html#returning-a-view-versus-a-copy\n",
      "  after removing the cwd from sys.path.\n"
     ]
    }
   ],
   "source": [
    "#Since compactness are such low values, there is no need to take the log of it\n",
    "for elm in sick_df.iloc[:,2:]:\n",
    "    if max(sick_df[elm]) > max(sick_df['compactness']):\n",
    "        sick_df[elm] = np.log10(sick_df[elm])"
   ]
  },
  {
   "cell_type": "code",
   "execution_count": 72,
   "metadata": {},
   "outputs": [],
   "source": [
    "# Here we get all the data from the dataframe, excluding the id and label\n",
    "np_data = np.array(sick_df.iloc[:,2:11])\n",
    "# Here we get the labels\n",
    "label = np.array(sick_df.iloc[:,0:1])\n",
    "# Here we convert the labels to integers\n",
    "label = [int(x) for x in label]\n",
    "# Here we use sk-learns split function to create our training and test data\n",
    "x_train, x_test, y_train, y_test = train_test_split(np_data,label,test_size=0.2, random_state = 4)\n",
    "# Here we make a accuacy score for different k's\n",
    "acc = []\n",
    "for i in range(1,len(x_train)//3):\n",
    "    pred = make_knn_prediction(i) #Here i create the prediction and appending it\n",
    "    acc.append((accuracy_score(y_test, pred)))"
   ]
  },
  {
   "cell_type": "code",
   "execution_count": 73,
   "metadata": {},
   "outputs": [
    {
     "data": {
      "image/png": "[encoded data removed]",
      "text/plain": [
       "<Figure size 432x288 with 1 Axes>"
      ]
     },
     "metadata": {
      "needs_background": "light"
     },
     "output_type": "display_data"
    }
   ],
   "source": [
    "#Here we create a plot of the sores vs the value of k\n",
    "plt.plot\n",
    "plt.ylabel('Prediction accuracy')\n",
    "plt.xlabel('Value of K')\n",
    "plt.title('Prediction by our KNN-model for different values of k')\n",
    "plt.ylim(0.2,0.8)\n",
    "plt.plot(acc)\n",
    "plt.grid()\n",
    "plt.show()"
   ]
  },
  {
   "cell_type": "code",
   "execution_count": 74,
   "metadata": {},
   "outputs": [
    {
     "data": {
      "text/plain": [
       "0.6533333333333333"
      ]
     },
     "execution_count": 74,
     "metadata": {},
     "output_type": "execute_result"
    }
   ],
   "source": [
    "# Here we define our model\n",
    "knn = knn_model_constructor(11,np_data, label)\n",
    "# Here we use cross validation to give it a more accurate representation of its accuracy\n",
    "scores = cross_val_score(knn, np_data, label, cv=5)\n",
    "# Here we print the average score from the cross validation\n",
    "sum(scores)/5"
   ]
  },
  {
   "cell_type": "code",
   "execution_count": null,
   "metadata": {},
   "outputs": [],
   "source": []
  }
 ],
 "metadata": {
  "kernelspec": {
   "display_name": "Python 3",
   "language": "python",
   "name": "python3"
  },
  "language_info": {
   "codemirror_mode": {
    "name": "ipython",
    "version": 3
   },
   "file_extension": ".py",
   "mimetype": "text/x-python",
   "name": "python",
   "nbconvert_exporter": "python",
   "pygments_lexer": "ipython3",
   "version": "3.7.4"
  }
 },
 "nbformat": 4,
 "nbformat_minor": 2
}
