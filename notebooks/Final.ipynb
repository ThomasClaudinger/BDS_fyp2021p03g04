{
 "cells": [
  {
   "cell_type": "markdown",
   "metadata": {},
   "source": [
    "# Imports"
   ]
  },
  {
   "cell_type": "code",
   "execution_count": null,
   "metadata": {},
   "outputs": [],
   "source": [
    "import pandas as pd\n",
    "import matplotlib.pyplot as plt\n",
    "import numpy as np\n",
    "import math\n",
    "from skimage import morphology\n",
    "import matplotlib.image as mpimg\n",
    "import random\n",
    "from sklearn.cluster import KMeans\n",
    "import cv2\n",
    "from collections import Counter\n",
    "from skimage.color import rgb2lab, deltaE_cie76\n",
    "import os\n",
    "from PIL import ImageColor\n",
    "from sklearn.model_selection import cross_val_score\n",
    "from sklearn.model_selection import train_test_split\n",
    "from sklearn.neighbors import KNeighborsClassifier\n",
    "from sklearn.metrics import accuracy_score\n",
    "from skimage import transform\n",
    "\n",
    "import pandas as pd\n",
    "import matplotlib.pyplot as plt\n",
    "import numpy as np\n",
    "import math\n",
    "from skimage import morphology\n",
    "import matplotlib.image as mpimg\n",
    "import random\n",
    "from sklearn.cluster import KMeans\n",
    "import cv2\n",
    "from collections import Counter\n",
    "from skimage.color import rgb2lab, deltaE_cie76\n",
    "import os\n",
    "from PIL import ImageColor\n",
    "import seaborn as sns"
   ]
  },
  {
   "cell_type": "markdown",
   "metadata": {},
   "source": [
    "# Loading data"
   ]
  },
  {
   "cell_type": "code",
   "execution_count": null,
   "metadata": {},
   "outputs": [],
   "source": [
    "features = pd.read_csv(r'../features/features.csv')\n",
    "ground_truth = pd.read_csv(r\"../data/example_ground_truth.csv\")\n"
   ]
  },
  {
   "cell_type": "markdown",
   "metadata": {},
   "source": [
    "# Functions"
   ]
  },
  {
   "cell_type": "code",
   "execution_count": null,
   "metadata": {},
   "outputs": [],
   "source": [
    "def calculate_area(image):\n",
    "    \"\"\"\n",
    "    image = a numpy array\n",
    "    \"\"\"\n",
    "    return np.sum(image)\n",
    "\n",
    "def calculate_border(image,thickness):\n",
    "    \"\"\"\n",
    "    image = np array of a picture\n",
    "    thicness = an integer of the thiccness of the border\n",
    "    returns = the border of the figure\n",
    "    \"\"\"\n",
    "    struct_el = morphology.disk(thickness)\n",
    "    mask_eroded = morphology.binary_erosion(image, struct_el)\n",
    "    return calculate_area(image)-np.sum(mask_eroded)\n",
    "\n",
    "\n",
    "def compactness(area, border):\n",
    "    \"\"\"\n",
    "    area = the area of the figure\n",
    "    border = the circumference of the figure\n",
    "    return = returns the compactness\n",
    "    \"\"\"\n",
    "    top = border**2\n",
    "    bot = 4*math.pi*area\n",
    "    return top/bot\n",
    "\n",
    "def RGB2HEX(color):\n",
    "    return \"#{:02x}{:02x}{:02x}\".format(int(color[0]), int(color[1]), int(color[2]))\n",
    "\n",
    "\n",
    "\n",
    "def average_colour(image,segmentation):\n",
    "    mask = segmentation == 1\n",
    "    copy = image.copy()\n",
    "    r = np.mean(copy[mask,0])\n",
    "    g = np.mean(copy[mask,1])\n",
    "    b = np.mean(copy[mask,2])\n",
    "    #num_of_pixels = copy[mask].shape[0]\n",
    "    return [r,g,b]\n",
    "\n",
    "def deviation_of_colour(image,segmentation):\n",
    "    mask = segmentation == 1\n",
    "    copy = image.copy()\n",
    "    r = np.std(copy[mask,0])\n",
    "    g = np.std(copy[mask,1])\n",
    "    b = np.std(copy[mask,2])\n",
    "    return [r,g,b]\n",
    "\n",
    "def average_luminosity(image,segmentation):\n",
    "    avg_colour = average_colour(image,segmentation)\n",
    "    return 0.299*avg_colour[0] + 0.587*avg_colour[1] + 0.114*avg_colour[2]\n",
    "\n",
    "def deviation_luminosity(image,segmentation):\n",
    "    deviation_colour = deviation_of_colour(image,segmentation)\n",
    "    return np.sqrt(0.299**2*deviation_colour[0]**2 + 0.587**2*deviation_colour[1]**2 + 0.114**2*deviation_colour[2]**2)\n",
    "\n",
    "def findImage(image_id):\n",
    "    image = plt.imread('../data/example_image/'+image_id+'.jpg')\n",
    "    image_seg = plt.imread('../data/example_segmentation/'+image_id+'_segmentation.png')\n",
    "    return image,image_seg\n",
    "\n",
    "def make_knn_prediction(k):\n",
    "    neigh = KNeighborsClassifier(n_neighbors=k)\n",
    "    neigh.fit(x_train, y_train)\n",
    "    return neigh.predict(x_test)\n",
    "\n",
    "def from_rgb_to_int(df):\n",
    "    placeholder = [RGB2HEX(elm) for elm in df]\n",
    "    hex_val = [int(\"0x\" + elm[1:],0) for elm in placeholder]\n",
    "    return hex_val\n",
    "\n",
    "def knn_model_constructor(k,training,labels):\n",
    "    model = KNeighborsClassifier(n_neighbors=k)\n",
    "    model.fit(training, labels)\n",
    "    return model\n",
    "\n",
    "def crop_segmentation(img,tol=0):\n",
    "    # img is 2D image data\n",
    "    # tol  is tolerance\n",
    "    mask = img>tol\n",
    "    return img[np.ix_(mask.any(1),mask.any(0))]\n",
    "\n",
    "#Gino is the boss\n",
    "def centerpoint(mask):\n",
    "    borders = np.where(mask != 0) # This will return 2 arrays with the index where the pixels are ones\n",
    "    up, down, left, right = max(borders[0]), min(borders[0]), min(borders[1]), max(borders[1])\n",
    "    center = ((up+down) //2, (left + right) //2) # Tuple with the coordinates for the center of the lesion\n",
    "    return center"
   ]
  },
  {
   "cell_type": "code",
   "execution_count": null,
   "metadata": {},
   "outputs": [],
   "source": [
    "def assymetry(segmentation):\n",
    "    left_symmetric_differences = []\n",
    "    right_symmetric_differences =[]\n",
    "    for angle in range(0,46,10):\n",
    "        cropped = crop_segmentation(transform.rotate(segmentation, angle))\n",
    "        \n",
    "        \n",
    "        #cropped = crop_segmentation(segmentation)\n",
    "        center = centerpoint(cropped)\n",
    "        center = (center[1],center[0])\n",
    "\n",
    "        #LEFT part\n",
    "        left_horizontal_segmentation = cropped[:,0:center[0]+1].astype(float)\n",
    "        left_flipped_segmentation = np.fliplr(cropped)[:,0:center[0]+1].astype(float)\n",
    "\n",
    "        overlap_left_segmentation = cv2.addWeighted(left_horizontal_segmentation, 0.5, left_flipped_segmentation, 0.5, 1.0)\n",
    "\n",
    "        #Right part\n",
    "        right_horizontal_segmentation = cropped[:,center[0]:].astype(float)\n",
    "        right_flipped_segmentation = np.fliplr(cropped)[:,center[0]:].astype(float)\n",
    "\n",
    "        overlapping_right_horizontal_segmentation = cv2.addWeighted(right_horizontal_segmentation, 0.5, right_flipped_segmentation, 0.5, 1.0)\n",
    "\n",
    "        def right_horizontal_symmetry(right_horizontal_image, left_flipped_image):\n",
    "            img_bwa = cv2.bitwise_and(right_horizontal_image,left_flipped_image)\n",
    "            img_bwo = cv2.bitwise_or(right_horizontal_image,left_flipped_image)\n",
    "            img_bwx = cv2.bitwise_xor(right_horizontal_image,left_flipped_image)\n",
    "            symmetry_right = np.count_nonzero(img_bwa)\n",
    "            total_size_right = np.count_nonzero(img_bwo)\n",
    "            asymmetry_right = np.count_nonzero(img_bwx)\n",
    "            return asymmetry_right\n",
    "\n",
    "        def left_horizontal_symmetry(left_horizontal_image, right_flipped_image):\n",
    "            img_bwa = cv2.bitwise_and(left_horizontal_image,right_flipped_image)\n",
    "            img_bwo = cv2.bitwise_or(left_horizontal_image,right_flipped_image)\n",
    "            img_bwx = cv2.bitwise_xor(left_horizontal_image,right_flipped_image)\n",
    "            symmetry_left = np.count_nonzero(img_bwa)\n",
    "            total_size_left = np.count_nonzero(img_bwo)\n",
    "            asymmetry_left = np.count_nonzero(img_bwx)\n",
    "            return asymmetry_left\n",
    "\n",
    "        x = right_horizontal_symmetry(right_horizontal_segmentation,right_flipped_segmentation)\n",
    "        y = left_horizontal_symmetry(left_horizontal_segmentation,left_flipped_segmentation)\n",
    "        \n",
    "        right_diff_percentage = x / calculate_area(right_horizontal_segmentation)\n",
    "        left_diff_percentage = y / calculate_area(left_horizontal_segmentation)\n",
    "        \n",
    "        left_symmetric_differences.append(left_diff_percentage)\n",
    "        right_symmetric_differences.append(right_diff_percentage)\n",
    "        \n",
    "        \n",
    "    #return x,y,left_horizontal_segmentation,right_horizontal_segmentation\n",
    "    return round(np.mean([min(left_symmetric_differences),min(right_symmetric_differences)]),3)\n",
    "    \n",
    "    "
   ]
  },
  {
   "cell_type": "markdown",
   "metadata": {},
   "source": [
    "# Task 0: Exploring the data"
   ]
  },
  {
   "cell_type": "code",
   "execution_count": null,
   "metadata": {},
   "outputs": [],
   "source": [
    "#rename column 'id' to 'image_id'\n",
    "features.rename(columns={'id': 'image_id'}, inplace=True)"
   ]
  },
  {
   "cell_type": "code",
   "execution_count": null,
   "metadata": {},
   "outputs": [],
   "source": [
    "# Here we merge the two data frames\n",
    "all_feature_merge = features.merge(ground_truth, on='image_id', how='right')"
   ]
  },
  {
   "cell_type": "code",
   "execution_count": null,
   "metadata": {},
   "outputs": [],
   "source": [
    "# Here we plot the dataframe\n",
    "all_feature_merge"
   ]
  },
  {
   "cell_type": "code",
   "execution_count": null,
   "metadata": {},
   "outputs": [],
   "source": [
    "# Here we check for missing values, which we do not have\n",
    "all_feature_merge.isna().any()"
   ]
  },
  {
   "cell_type": "markdown",
   "metadata": {},
   "source": [
    "# Task 1: implement two features"
   ]
  },
  {
   "cell_type": "code",
   "execution_count": null,
   "metadata": {},
   "outputs": [],
   "source": [
    "# Here we are creating masks for which we are going to sort our data"
   ]
  },
  {
   "cell_type": "code",
   "execution_count": null,
   "metadata": {},
   "outputs": [],
   "source": [
    "mask = ground_truth['melanoma'] == 1\n",
    "melanoma_mask = ground_truth[mask]"
   ]
  },
  {
   "cell_type": "code",
   "execution_count": null,
   "metadata": {},
   "outputs": [],
   "source": [
    "mask = ground_truth['seborrheic_keratosis'] == 1\n",
    "keratosis_mask = ground_truth[mask]"
   ]
  },
  {
   "cell_type": "code",
   "execution_count": null,
   "metadata": {},
   "outputs": [],
   "source": [
    "# Here we create a couple lists with the data\n",
    "# the structure of the lists are [(\"Image_id\", \"np_array of the picture\", \"np_array of the mask\")]"
   ]
  },
  {
   "cell_type": "code",
   "execution_count": null,
   "metadata": {
    "scrolled": true
   },
   "outputs": [],
   "source": [
    "# total_data = []\n",
    "# melanoma_data = []\n",
    "# keratosis_data = []\n",
    "# non_infected_data = []\n",
    "# x = 0\n",
    "\n",
    "# for image_id in ground_truth['image_id']:\n",
    "#     print(image_id,x)\n",
    "#     image = plt.imread('../data/example_image/'+image_id+'.jpg') # Here we load the image\n",
    "#     image_seg = plt.imread('../data/example_segmentation/'+image_id+'_segmentation.png') # Here we load the mask\n",
    "#     if image_id in list(melanoma_mask['image_id']): # If the image id is in the melanoma list, label it as melanoma\n",
    "#         melanoma_data.append((image_id,image,image_seg)) #else label it as keratosis\n",
    "#     if image_id in list(keratosis_mask['image_id']):\n",
    "#         keratosis_data.append((image_id,image,image_seg))\n",
    "#     if (image_id not in list(keratosis_mask['image_id'])) and (image_id not in list(melanoma_mask['image_id'])): # If the image id is in the melanoma list, label it as melanoma\n",
    "#         non_infected_data.append((image_id,image,image_seg))\n",
    "#     total_data.append((image_id,image,image_seg)) #Here we have a list of all the data together\n",
    "#     x += 1"
   ]
  },
  {
   "cell_type": "code",
   "execution_count": null,
   "metadata": {
    "scrolled": true
   },
   "outputs": [],
   "source": [
    "# Here we get the id of the first legion\n",
    "melanoma_data[0][0]"
   ]
  },
  {
   "cell_type": "code",
   "execution_count": null,
   "metadata": {},
   "outputs": [],
   "source": [
    "# Here we create the mask\n",
    "id_mask = all_feature_merge['image_id'] == 'ISIC_0012099'"
   ]
  },
  {
   "cell_type": "code",
   "execution_count": null,
   "metadata": {},
   "outputs": [],
   "source": [
    "area = calculate_area(melanoma_data[0][2])"
   ]
  },
  {
   "cell_type": "code",
   "execution_count": null,
   "metadata": {
    "scrolled": true
   },
   "outputs": [],
   "source": [
    "print(\"Here is the actual area {} and here is the computed area\".format(int(all_feature_merge[id_mask]['area'])), area)"
   ]
  },
  {
   "cell_type": "code",
   "execution_count": null,
   "metadata": {},
   "outputs": [],
   "source": [
    "# This shows us that our function is correct. This is important because we are using the \n",
    "# calculate_area function in the perimeter Function"
   ]
  },
  {
   "cell_type": "code",
   "execution_count": null,
   "metadata": {},
   "outputs": [],
   "source": [
    "# Now we compare our border function"
   ]
  },
  {
   "cell_type": "code",
   "execution_count": null,
   "metadata": {},
   "outputs": [],
   "source": [
    "border = calculate_border(melanoma_data[0][2],1)"
   ]
  },
  {
   "cell_type": "code",
   "execution_count": null,
   "metadata": {},
   "outputs": [],
   "source": [
    "print(\"Here is the actual area {} and here is the computed area\".format(int(all_feature_merge[id_mask]['perimeter'])), border)"
   ]
  },
  {
   "cell_type": "code",
   "execution_count": null,
   "metadata": {},
   "outputs": [],
   "source": [
    "# Now we are going to compute the compactness"
   ]
  },
  {
   "cell_type": "code",
   "execution_count": null,
   "metadata": {},
   "outputs": [],
   "source": [
    "print(\"Legion: {} Compactness: {}\".format(melanoma_data[0][0],compactness(area,border)))"
   ]
  },
  {
   "cell_type": "markdown",
   "metadata": {},
   "source": [
    "# Task 02"
   ]
  },
  {
   "cell_type": "code",
   "execution_count": null,
   "metadata": {},
   "outputs": [],
   "source": [
    "label = []\n",
    "for elm in zip(all_feature_merge['melanoma'],all_feature_merge['seborrheic_keratosis']):\n",
    "    \n",
    "    if elm[0] == 1.0:\n",
    "        #print(\"hej\")\n",
    "        label.append(1.0)\n",
    "    if elm[1] == 1.0:\n",
    "        label.append(2.0)\n",
    "    if (elm[0] == 0.0) and (elm[1] == 0.0):\n",
    "        label.append(0)\n",
    "    #print(type(elm[0]))\n",
    "#len(label)\n",
    "all_feature_merge['label'] = label"
   ]
  },
  {
   "cell_type": "code",
   "execution_count": null,
   "metadata": {},
   "outputs": [],
   "source": [
    "#Export features from images\n",
    "# data = pd.DataFrame()\n",
    "# count = 0\n",
    "# rows = []\n",
    "# for image_id in all_feature_merge['image_id']:\n",
    "#     print(image_id,count)\n",
    "    \n",
    "#     image = plt.imread('../data/example_image/'+image_id+'.jpg')\n",
    "#     image_seg = plt.imread('../data/example_segmentation/'+image_id+'_segmentation.png')\n",
    "#     #data['image_id'] = image_id\n",
    "#     real_area = int(all_feature_merge[all_feature_merge['image_id'] == image_id]['area'])\n",
    "#     real_perimeter = int(all_feature_merge[all_feature_merge['image_id'] == image_id]['perimeter'])\n",
    "#     thing = all_feature_merge['image_id'] == image_id\n",
    "#     label = int(all_feature_merge[thing]['label'])\n",
    "\n",
    "#     calculated_area = int(calculate_area(image_seg))\n",
    "#     calculated_perimeter = calculate_border(image_seg,1)\n",
    "#     #print(real_perimeter, calculated_perimeter)\n",
    "#     imgCompactness = compactness(calculate_area(image_seg),calculate_border(image_seg,1))\n",
    "#     average_rgb = average_colour(image,image_seg)\n",
    "#     deviation_of_rgb = deviation_of_colour(image,image_seg)\n",
    "#     average_luminosity_img = average_luminosity(image,image_seg)\n",
    "#     deviation_luminosity_img = deviation_luminosity(image,image_seg)\n",
    "#     row = [label,image_id, real_area, real_perimeter,calculated_area,calculated_perimeter,imgCompactness,average_rgb,deviation_of_rgb,average_luminosity_img,deviation_luminosity_img]\n",
    "#     rows.append(row)\n",
    "#     count+= 1\n",
    "\n",
    "# data = pd.DataFrame(rows, columns = ['label','image_id','real_area','real_perimeter','calculated_area','calculated_perimeter','compactness','average_rgb','deviation_of_colour','average_luminosity','deviation_luminosity'])"
   ]
  },
  {
   "cell_type": "code",
   "execution_count": null,
   "metadata": {
    "scrolled": true
   },
   "outputs": [],
   "source": [
    "data = pd.read_csv('../data/final_df.csv')\n",
    "data = data.drop(columns='Unnamed: 0')"
   ]
  },
  {
   "cell_type": "code",
   "execution_count": null,
   "metadata": {},
   "outputs": [],
   "source": [
    "# Here we create a backup of the data, since the creating of the dataframe is really time consuming\n",
    "backup = data.copy()"
   ]
  },
  {
   "cell_type": "markdown",
   "metadata": {},
   "source": [
    "# Testing and cross validation"
   ]
  },
  {
   "cell_type": "markdown",
   "metadata": {},
   "source": [
    "### Test 01 without the color"
   ]
  },
  {
   "cell_type": "code",
   "execution_count": null,
   "metadata": {},
   "outputs": [],
   "source": [
    "data = data.drop(columns = ['calculated_area', 'calculated_perimeter'])\n",
    "data = data.drop(columns = ['average_rgb','deviation_of_colour'])"
   ]
  },
  {
   "cell_type": "code",
   "execution_count": null,
   "metadata": {},
   "outputs": [],
   "source": [
    "# Here we get all the data from the dataframe, excluding the id and label\n",
    "np_data = np.array(data.iloc[:,2:11])"
   ]
  },
  {
   "cell_type": "code",
   "execution_count": null,
   "metadata": {},
   "outputs": [],
   "source": [
    "# Here we get the labels\n",
    "label = np.array(data.iloc[:,0:1])"
   ]
  },
  {
   "cell_type": "code",
   "execution_count": null,
   "metadata": {},
   "outputs": [],
   "source": [
    "# Here we convert the labels to integers\n",
    "label = [int(x) for x in label]"
   ]
  },
  {
   "cell_type": "code",
   "execution_count": null,
   "metadata": {},
   "outputs": [],
   "source": [
    "# Here we use sk-learns split function to create our training and test data\n",
    "x_train, x_test, y_train, y_test = train_test_split(np_data,label,test_size=0.2, random_state = 4)"
   ]
  },
  {
   "cell_type": "code",
   "execution_count": null,
   "metadata": {},
   "outputs": [],
   "source": [
    "# x_train is the training data\n",
    "# y_train is the training labels\n",
    "# x_test is the testing data\n",
    "# y_test is the testing labels"
   ]
  },
  {
   "cell_type": "code",
   "execution_count": null,
   "metadata": {},
   "outputs": [],
   "source": [
    "# Here we make a accuacy score for different k's\n",
    "acc = []\n",
    "for i in range(1,len(x_train)//3):\n",
    "    pred = make_knn_prediction(i) #Here i create the prediction and appending it\n",
    "    acc.append((accuracy_score(y_test, pred)))"
   ]
  },
  {
   "cell_type": "code",
   "execution_count": null,
   "metadata": {},
   "outputs": [],
   "source": [
    "#Here we create a plot of the sores vs the value of k\n",
    "plt.plot\n",
    "plt.ylabel('Prediction accuracy')\n",
    "plt.xlabel('Value of K')\n",
    "plt.title('Prediction by our KNN-model for different values of k')\n",
    "plt.ylim(0.2,0.8)\n",
    "plt.plot(acc)\n",
    "plt.grid()\n",
    "plt.show()"
   ]
  },
  {
   "cell_type": "code",
   "execution_count": null,
   "metadata": {},
   "outputs": [],
   "source": [
    "# Here we define our model\n",
    "knn = knn_model_constructor(11,np_data, label)"
   ]
  },
  {
   "cell_type": "code",
   "execution_count": null,
   "metadata": {},
   "outputs": [],
   "source": [
    "# Here we use cross validation to give it a more accurate representation of its accuracy\n",
    "scores = cross_val_score(knn, np_data, label, cv=5)"
   ]
  },
  {
   "cell_type": "code",
   "execution_count": null,
   "metadata": {
    "scrolled": false
   },
   "outputs": [],
   "source": [
    "scores"
   ]
  },
  {
   "cell_type": "code",
   "execution_count": null,
   "metadata": {},
   "outputs": [],
   "source": [
    "# Here we print the average score from the cross validation\n",
    "sum(scores)/5"
   ]
  },
  {
   "cell_type": "markdown",
   "metadata": {},
   "source": [
    "### Test 02 same test but we use the log on the data"
   ]
  },
  {
   "cell_type": "code",
   "execution_count": null,
   "metadata": {},
   "outputs": [],
   "source": [
    "data = backup.copy()"
   ]
  },
  {
   "cell_type": "code",
   "execution_count": null,
   "metadata": {},
   "outputs": [],
   "source": [
    "data = backup.copy()\n",
    "data = data.drop(columns = ['calculated_area', 'calculated_perimeter'])\n",
    "data = data.drop(columns = ['average_rgb','deviation_of_colour'])"
   ]
  },
  {
   "cell_type": "code",
   "execution_count": null,
   "metadata": {},
   "outputs": [],
   "source": [
    "#Since compactness are such low values, there is no need to take the log of it\n",
    "for elm in data.iloc[:,2:]:\n",
    "    if max(data[elm]) > max(data['compactness']):\n",
    "        data[elm] = np.log10(data[elm])"
   ]
  },
  {
   "cell_type": "code",
   "execution_count": null,
   "metadata": {},
   "outputs": [],
   "source": [
    "# Here we get all the data from the dataframe, excluding the id and label\n",
    "np_data = np.array(data.iloc[:,2:11])\n",
    "# Here we get the labels\n",
    "label = np.array(data.iloc[:,0:1])\n",
    "# Here we convert the labels to integers\n",
    "label = [int(x) for x in label]\n",
    "# Here we use sk-learns split function to create our training and test data\n",
    "x_train, x_test, y_train, y_test = train_test_split(np_data,label,test_size=0.2, random_state = 4)\n",
    "# Here we make a accuacy score for different k's\n",
    "acc = []\n",
    "for i in range(1,len(x_train)//3):\n",
    "    pred = make_knn_prediction(i) #Here i create the prediction and appending it\n",
    "    acc.append((accuracy_score(y_test, pred)))"
   ]
  },
  {
   "cell_type": "code",
   "execution_count": null,
   "metadata": {},
   "outputs": [],
   "source": [
    "#Here we create a plot of the sores vs the value of k\n",
    "plt.plot\n",
    "plt.ylabel('Prediction accuracy')\n",
    "plt.xlabel('Value of K')\n",
    "plt.title('Prediction by our KNN-model for different values of k')\n",
    "plt.ylim(0.2,0.8)\n",
    "plt.plot(acc)\n",
    "plt.grid()\n",
    "plt.show()"
   ]
  },
  {
   "cell_type": "code",
   "execution_count": null,
   "metadata": {
    "scrolled": true
   },
   "outputs": [],
   "source": [
    "# Here we define our model\n",
    "knn = knn_model_constructor(11,np_data, label)\n",
    "# Here we use cross validation to give it a more accurate representation of its accuracy\n",
    "scores = cross_val_score(knn, np_data, label, cv=5)\n",
    "# Here we print the average score from the cross validation\n",
    "sum(scores)/5"
   ]
  },
  {
   "cell_type": "markdown",
   "metadata": {},
   "source": [
    "### Test 03 here we use the color and convert it to an int"
   ]
  },
  {
   "cell_type": "code",
   "execution_count": null,
   "metadata": {},
   "outputs": [],
   "source": [
    "data = backup.copy()\n",
    "data = data.drop(columns = ['calculated_area', 'calculated_perimeter'])"
   ]
  },
  {
   "cell_type": "code",
   "execution_count": null,
   "metadata": {},
   "outputs": [],
   "source": [
    "# Here we convert the rgb featues to a number using hex values\n",
    "hex_val = from_rgb_to_int(data['average_rgb'])\n",
    "data['average_rgb'] = hex_val\n",
    "hex_val = from_rgb_to_int(data['deviation_of_colour'])\n",
    "data['deviation_of_colour'] = hex_val"
   ]
  },
  {
   "cell_type": "code",
   "execution_count": null,
   "metadata": {},
   "outputs": [],
   "source": [
    "# Here we get all the data from the dataframe, excluding the id and label\n",
    "np_data = np.array(data.iloc[:,2:11])\n",
    "# Here we get the labels\n",
    "label = np.array(data.iloc[:,0:1])\n",
    "# Here we convert the labels to integers\n",
    "label = [int(x) for x in label]\n",
    "# Here we use sk-learns split function to create our training and test data\n",
    "x_train, x_test, y_train, y_test = train_test_split(np_data,label,test_size=0.2, random_state = 4)\n",
    "# Here we make a accuacy score for different k's\n",
    "acc = []\n",
    "for i in range(1,len(x_train)//3):\n",
    "    pred = make_knn_prediction(i) #Here i create the prediction and appending it\n",
    "    acc.append((accuracy_score(y_test, pred)))"
   ]
  },
  {
   "cell_type": "code",
   "execution_count": null,
   "metadata": {},
   "outputs": [],
   "source": [
    "#Here we create a plot of the sores vs the value of k\n",
    "plt.plot\n",
    "plt.ylabel('Prediction accuracy')\n",
    "plt.xlabel('Value of K')\n",
    "plt.title('Prediction by our KNN-model for different values of k')\n",
    "plt.ylim(0.2,0.8)\n",
    "plt.plot(acc)\n",
    "plt.grid()\n",
    "plt.show()"
   ]
  },
  {
   "cell_type": "code",
   "execution_count": null,
   "metadata": {},
   "outputs": [],
   "source": [
    "# Here we define our model\n",
    "knn = knn_model_constructor(11,np_data, label)\n",
    "# Here we use cross validation to give it a more accurate representation of its accuracy\n",
    "scores = cross_val_score(knn, np_data, label, cv=5)\n",
    "# Here we print the average score from the cross validation\n",
    "sum(scores)/5"
   ]
  },
  {
   "cell_type": "markdown",
   "metadata": {},
   "source": [
    "### Test 04 here we use the color and convert it to an int and taking the log"
   ]
  },
  {
   "cell_type": "code",
   "execution_count": null,
   "metadata": {},
   "outputs": [],
   "source": [
    "data = backup.copy()\n",
    "data = data.drop(columns = ['calculated_area', 'calculated_perimeter'])"
   ]
  },
  {
   "cell_type": "code",
   "execution_count": null,
   "metadata": {},
   "outputs": [],
   "source": [
    "# Here we convert the rgb featues to a number using hex values\n",
    "hex_val = from_rgb_to_int(data['average_rgb'])\n",
    "data['average_rgb'] = hex_val\n",
    "hex_val = from_rgb_to_int(data['deviation_of_colour'])\n",
    "data['deviation_of_colour'] = hex_val"
   ]
  },
  {
   "cell_type": "code",
   "execution_count": null,
   "metadata": {},
   "outputs": [],
   "source": [
    "#Since compactness are such low values, there is no need to take the log of it\n",
    "for elm in data.iloc[:,2:]:\n",
    "    if max(data[elm]) > max(data['compactness']):\n",
    "        data[elm] = np.log10(data[elm])"
   ]
  },
  {
   "cell_type": "code",
   "execution_count": null,
   "metadata": {},
   "outputs": [],
   "source": [
    "# Here we get all the data from the dataframe, excluding the id and label\n",
    "np_data = np.array(data.iloc[:,2:11])\n",
    "# Here we get the labels\n",
    "label = np.array(data.iloc[:,0:1])\n",
    "# Here we convert the labels to integers\n",
    "label = [int(x) for x in label]\n",
    "# Here we use sk-learns split function to create our training and test data\n",
    "x_train, x_test, y_train, y_test = train_test_split(np_data,label,test_size=0.2, random_state = 4)\n",
    "# Here we make a accuacy score for different k's\n",
    "acc = []\n",
    "for i in range(1,len(x_train)//3):\n",
    "    pred = make_knn_prediction(i) #Here i create the prediction and appending it\n",
    "    acc.append((accuracy_score(y_test, pred)))"
   ]
  },
  {
   "cell_type": "code",
   "execution_count": null,
   "metadata": {},
   "outputs": [],
   "source": [
    "#Here we create a plot of the sores vs the value of k\n",
    "plt.plot\n",
    "plt.ylabel('Prediction accuracy')\n",
    "plt.xlabel('Value of K')\n",
    "plt.title('Prediction by our KNN-model for different values of k')\n",
    "plt.ylim(0.2,0.8)\n",
    "plt.plot(acc)\n",
    "plt.grid()\n",
    "plt.show()"
   ]
  },
  {
   "cell_type": "code",
   "execution_count": null,
   "metadata": {},
   "outputs": [],
   "source": [
    "# Here we define our model\n",
    "knn = knn_model_constructor(11,np_data, label)\n",
    "# Here we use cross validation to give it a more accurate representation of its accuracy\n",
    "scores = cross_val_score(knn, np_data, label, cv=5)\n",
    "# Here we print the average score from the cross validation\n",
    "sum(scores)/5"
   ]
  },
  {
   "cell_type": "markdown",
   "metadata": {},
   "source": [
    "### Test 05 binary classification"
   ]
  },
  {
   "cell_type": "code",
   "execution_count": null,
   "metadata": {},
   "outputs": [],
   "source": [
    "binary_df = backup.copy()"
   ]
  },
  {
   "cell_type": "markdown",
   "metadata": {},
   "source": [
    "So here we want to try something a bit different.\n",
    "Our hypethesis is that, melanoma and keratosis has a lot in common, so maybe it will be easier,\n",
    "if we try and predict wether the input is \"normal\" or \"not normal\"\n",
    "Then after we then want to try and classify wether it is keratosis or melanoma.\n",
    "Since the space is a lot closer when only using keratosis or melanoma, it should be easier to distinguish."
   ]
  },
  {
   "cell_type": "code",
   "execution_count": null,
   "metadata": {},
   "outputs": [],
   "source": [
    "# Here we convert melanoma and keratosis to 1 and everything else as 0.\n",
    "# \n",
    "label = []\n",
    "for elm in zip(all_feature_merge['melanoma'],all_feature_merge['seborrheic_keratosis']):\n",
    "    \n",
    "    if elm[0] == 1.0 or elm[1] == 1.0:\n",
    "        #print(\"hej\")\n",
    "        label.append(1.0)\n",
    "    else:\n",
    "        label.append(0.0)\n",
    "    \n",
    "binary_df['label'] = label"
   ]
  },
  {
   "cell_type": "code",
   "execution_count": null,
   "metadata": {},
   "outputs": [],
   "source": [
    "# Here we convert the rgb featues to a number using hex values\n",
    "hex_val = from_rgb_to_int(binary_df['average_rgb'])\n",
    "binary_df['average_rgb'] = hex_val\n",
    "hex_val = from_rgb_to_int(binary_df['deviation_of_colour'])\n",
    "binary_df['deviation_of_colour'] = hex_val"
   ]
  },
  {
   "cell_type": "code",
   "execution_count": null,
   "metadata": {},
   "outputs": [],
   "source": [
    "#Since compactness are such low values, there is no need to take the log of it\n",
    "for elm in binary_df.iloc[:,2:]:\n",
    "    if max(binary_df[elm]) > max(binary_df['compactness']):\n",
    "        binary_df[elm] = np.log10(binary_df[elm])\n",
    "        "
   ]
  },
  {
   "cell_type": "code",
   "execution_count": null,
   "metadata": {},
   "outputs": [],
   "source": [
    "# Here we get all the data from the dataframe, excluding the id and label\n",
    "np_data = np.array(binary_df.iloc[:,2:11])\n",
    "# Here we get the labels\n",
    "label = np.array(binary_df.iloc[:,0:1])\n",
    "# Here we convert the labels to integers\n",
    "label = [int(x) for x in label]\n",
    "# Here we use sk-learns split function to create our training and test data\n",
    "x_train, x_test, y_train, y_test = train_test_split(np_data,label,test_size=0.2, random_state = 4)\n",
    "# Here we make a accuacy score for different k's\n",
    "acc = []\n",
    "for i in range(1,len(x_train)//3):\n",
    "    pred = make_knn_prediction(i) #Here i create the prediction and appending it\n",
    "    acc.append((accuracy_score(y_test, pred)))"
   ]
  },
  {
   "cell_type": "code",
   "execution_count": null,
   "metadata": {},
   "outputs": [],
   "source": [
    "#Here we create a plot of the sores vs the value of k\n",
    "plt.plot\n",
    "plt.ylabel('Prediction accuracy')\n",
    "plt.xlabel('Value of K')\n",
    "plt.title('Prediction by our KNN-model for different values of k')\n",
    "plt.ylim(0.2,0.8)\n",
    "plt.plot(acc)\n",
    "plt.grid()\n",
    "plt.show()"
   ]
  },
  {
   "cell_type": "code",
   "execution_count": null,
   "metadata": {
    "scrolled": true
   },
   "outputs": [],
   "source": [
    "# Here we define our model\n",
    "knn = knn_model_constructor(11,np_data, label)\n",
    "# Here we use cross validation to give it a more accurate representation of its accuracy\n",
    "scores = cross_val_score(knn, np_data, label, cv=5)\n",
    "# Here we print the average score from the cross validation\n",
    "sum(scores)/5"
   ]
  },
  {
   "cell_type": "code",
   "execution_count": null,
   "metadata": {},
   "outputs": [],
   "source": [
    "#This here is the score when comparing sick vs non sick"
   ]
  },
  {
   "cell_type": "code",
   "execution_count": null,
   "metadata": {},
   "outputs": [],
   "source": [
    "#Now we want to try and classify wether something is melanoma or keratosis"
   ]
  },
  {
   "cell_type": "code",
   "execution_count": null,
   "metadata": {},
   "outputs": [],
   "source": [
    "data = backup.copy()"
   ]
  },
  {
   "cell_type": "code",
   "execution_count": null,
   "metadata": {
    "scrolled": true
   },
   "outputs": [],
   "source": [
    "data = data.drop(columns = ['calculated_area','calculated_perimeter'])"
   ]
  },
  {
   "cell_type": "code",
   "execution_count": null,
   "metadata": {},
   "outputs": [],
   "source": [
    "mask = (data['label'] == 1) | (data['label'] == 2)"
   ]
  },
  {
   "cell_type": "code",
   "execution_count": null,
   "metadata": {},
   "outputs": [],
   "source": [
    "sick_df = data[mask]"
   ]
  },
  {
   "cell_type": "code",
   "execution_count": null,
   "metadata": {},
   "outputs": [],
   "source": [
    "# Here we convert the rgb featues to a number using hex values\n",
    "hex_val = from_rgb_to_int(sick_df['average_rgb'])\n",
    "sick_df['average_rgb'] = hex_val\n",
    "hex_val = from_rgb_to_int(sick_df['deviation_of_colour'])\n",
    "sick_df['deviation_of_colour'] = hex_val"
   ]
  },
  {
   "cell_type": "code",
   "execution_count": null,
   "metadata": {},
   "outputs": [],
   "source": [
    "#Since compactness are such low values, there is no need to take the log of it\n",
    "for elm in sick_df.iloc[:,2:]:\n",
    "    if max(sick_df[elm]) > max(sick_df['compactness']):\n",
    "        sick_df[elm] = np.log10(sick_df[elm])"
   ]
  },
  {
   "cell_type": "code",
   "execution_count": null,
   "metadata": {},
   "outputs": [],
   "source": [
    "# Here we get all the data from the dataframe, excluding the id and label\n",
    "np_data = np.array(sick_df.iloc[:,2:11])\n",
    "# Here we get the labels\n",
    "label = np.array(sick_df.iloc[:,0:1])\n",
    "# Here we convert the labels to integers\n",
    "label = [int(x) for x in label]\n",
    "# Here we use sk-learns split function to create our training and test data\n",
    "x_train, x_test, y_train, y_test = train_test_split(np_data,label,test_size=0.2, random_state = 4)\n",
    "# Here we make a accuacy score for different k's\n",
    "acc = []\n",
    "for i in range(1,len(x_train)//3):\n",
    "    pred = make_knn_prediction(i) #Here i create the prediction and appending it\n",
    "    acc.append((accuracy_score(y_test, pred)))"
   ]
  },
  {
   "cell_type": "code",
   "execution_count": null,
   "metadata": {},
   "outputs": [],
   "source": [
    "#Here we create a plot of the sores vs the value of k\n",
    "plt.plot\n",
    "plt.ylabel('Prediction accuracy')\n",
    "plt.xlabel('Value of K')\n",
    "plt.title('Prediction by our KNN-model for different values of k')\n",
    "plt.ylim(0.2,0.8)\n",
    "plt.plot(acc)\n",
    "plt.grid()\n",
    "plt.show()"
   ]
  },
  {
   "cell_type": "code",
   "execution_count": null,
   "metadata": {},
   "outputs": [],
   "source": [
    "# Here we define our model\n",
    "knn = knn_model_constructor(11,np_data, label)\n",
    "# Here we use cross validation to give it a more accurate representation of its accuracy\n",
    "scores = cross_val_score(knn, np_data, label, cv=5)\n",
    "# Here we print the average score from the cross validation\n",
    "sum(scores)/5"
   ]
  },
  {
   "cell_type": "markdown",
   "metadata": {},
   "source": [
    "# Final results"
   ]
  },
  {
   "cell_type": "markdown",
   "metadata": {},
   "source": [
    "## Load data (final_df contains all the features and labels)"
   ]
  },
  {
   "cell_type": "code",
   "execution_count": null,
   "metadata": {},
   "outputs": [],
   "source": [
    "final_df = pd.read_csv('../data/final_df.csv')\n",
    "final_df = final_df.drop(columns='Unnamed: 0')"
   ]
  },
  {
   "cell_type": "markdown",
   "metadata": {},
   "source": [
    "## Test 0 - Predicting unhealthy lesions and healthy lesions"
   ]
  },
  {
   "cell_type": "code",
   "execution_count": null,
   "metadata": {},
   "outputs": [],
   "source": [
    "y = final_df['unhealthy'].to_numpy()\n",
    "x = final_df.iloc[:,[4,9]].to_numpy() #compactness, #assymetry decimal\n",
    "\n",
    "# Here we use sk-learns split function to create our training and test data\n",
    "x_train, x_test, y_train, y_test = train_test_split(x,y,test_size=0.2, random_state = 2)\n",
    "\n",
    "model = KNeighborsClassifier(n_neighbors=12)\n",
    "model.fit(x_train, y_train)\n",
    "\n",
    "predicted_unhealthy = model.predict(x_test)\n",
    "real_unhealthy_y = y_test\n",
    "real_unhealthy_x = x_test\n",
    "print(\"Accuracy score: \", accuracy_score(y_test,predicted_unhealthy))\n",
    "\n",
    "scores_unhealthy = cross_val_score(model, x, y, cv=5)\n",
    "print(\"Average cross validation: \", sum(scores_unhealthy)/5)"
   ]
  },
  {
   "cell_type": "markdown",
   "metadata": {},
   "source": [
    "## Test 1 - Predicting whether a mole is keratosis or not"
   ]
  },
  {
   "cell_type": "code",
   "execution_count": null,
   "metadata": {},
   "outputs": [],
   "source": [
    "y_keratosis = final_df['is_keratosis'].to_numpy()\n",
    "x_keratosis = final_df.iloc[:,[4,9]].to_numpy() #compactness, assymetric_decimal\n",
    "\n",
    "model = KNeighborsClassifier(n_neighbors=12)\n",
    "x_train, x_test, y_train, y_test = train_test_split(x_keratosis,y_keratosis,test_size=0.2, random_state = 4)\n",
    "model.fit(x_train, y_train)\n",
    "predicted = model.predict(x_test)\n",
    "\n",
    "print(\"Accuracy score: \", accuracy_score(y_test,predicted))\n",
    "\n",
    "scores_keratosis = cross_val_score(model, x_keratosis, y_keratosis, cv=5)\n",
    "print(\"Average cross validation: \", sum(scores_keratosis/5))"
   ]
  },
  {
   "cell_type": "markdown",
   "metadata": {},
   "source": [
    "## Test 2 - Predicting whether a mole is melanoma or not"
   ]
  },
  {
   "cell_type": "code",
   "execution_count": null,
   "metadata": {},
   "outputs": [],
   "source": [
    "y_melanoma = final_df['is_melanoma'].to_numpy()\n",
    "x_melanoma = final_df.iloc[:,[4,9]].to_numpy() #compactness, assymetric_decimal\n",
    "\n",
    "model = KNeighborsClassifier(n_neighbors=12)\n",
    "x_train, x_test, y_train, y_test = train_test_split(x_melanoma,y_melanoma,test_size=0.2, random_state = 4)\n",
    "model.fit(x_train, y_train)\n",
    "predicted = model.predict(x_test)\n",
    "\n",
    "print(\"Accuracy score: \", accuracy_score(y_test,predicted))\n",
    "\n",
    "scores_melanoma = cross_val_score(model, x_melanoma, y_melanoma, cv=5)\n",
    "print(\"Average cross validation: \",sum(scores_melanoma)/5)\n",
    "print(predicted)\n",
    "print(y_test)\n",
    "1- 5/len(predicted)"
   ]
  },
  {
   "cell_type": "markdown",
   "metadata": {},
   "source": [
    "## Task 3 - Predicting all labels - healthy/melanoma/keratosis"
   ]
  },
  {
   "cell_type": "code",
   "execution_count": null,
   "metadata": {},
   "outputs": [],
   "source": [
    "y_all = final_df['label'].to_numpy()\n",
    "x_all = final_df.iloc[:,[4,9]].to_numpy() #compactness, deviation_luminosity, assymetric_decimal\n",
    "\n",
    "model = KNeighborsClassifier(n_neighbors=12)\n",
    "x_train, x_test, y_train, y_test = train_test_split(x_all,y_all,test_size=0.2, random_state = 4)\n",
    "model.fit(x_train, y_train)\n",
    "predicted = model.predict(x_test)\n",
    "\n",
    "print(\"Accuracy score: \", accuracy_score(y_test,predicted))\n",
    "\n",
    "scores_all = cross_val_score(model, x_all, y_all, cv=5)\n",
    "print(\"Average cross validation: \", sum(scores_all)/5)"
   ]
  },
  {
   "cell_type": "markdown",
   "metadata": {},
   "source": [
    "## Visualize"
   ]
  },
  {
   "cell_type": "code",
   "execution_count": null,
   "metadata": {},
   "outputs": [],
   "source": [
    "fig = plt.figure()\n",
    "ax = fig.add_axes([0,0,1,1])\n",
    "titles = ['Unhealthy prediction','Keratosis prediction','Melanoma prediction', 'Healthy/keratosis/melanoma pred.']\n",
    "scores = [sum(scores_unhealthy)/5,sum(scores_keratosis)/5,sum(scores_melanoma)/5,sum(scores_all)/5]\n",
    "ax.bar(titles,scores, color ='gold')\n",
    "ax.set_facecolor('k')\n",
    "plt.xticks(rotation=8)\n",
    "plt.grid()\n",
    "plt.title('Accuracy score on different predictions')\n",
    "plt.show()"
   ]
  },
  {
   "cell_type": "code",
   "execution_count": null,
   "metadata": {},
   "outputs": [],
   "source": [
    "sns.lmplot(x='Assymetric_decimal', y='compactness', data=final_df, hue='is_keratosis', fit_reg=False)\n",
    "plt.show()"
   ]
  },
  {
   "cell_type": "code",
   "execution_count": null,
   "metadata": {},
   "outputs": [],
   "source": [
    "sns.lmplot(x='Assymetric_decimal', y='compactness', data=final_df, hue='is_melanoma', fit_reg=False)\n",
    "plt.show()"
   ]
  },
  {
   "cell_type": "code",
   "execution_count": null,
   "metadata": {},
   "outputs": [],
   "source": [
    "sns.lmplot(x='Assymetric_decimal', y='compactness', data=final_df, hue='unhealthy', fit_reg=False)\n",
    "plt.show()"
   ]
  },
  {
   "cell_type": "code",
   "execution_count": null,
   "metadata": {},
   "outputs": [],
   "source": [
    "sns.lmplot(x='Assymetric_decimal', y='compactness', data=final_df, hue='label', fit_reg=False)\n",
    "plt.show()"
   ]
  },
  {
   "cell_type": "code",
   "execution_count": null,
   "metadata": {},
   "outputs": [],
   "source": [
    "sns.lmplot(x='average_luminosity', y='deviation_luminosity', data=final_df, hue='unhealthy', fit_reg=False)\n",
    "plt.show()"
   ]
  },
  {
   "cell_type": "code",
   "execution_count": null,
   "metadata": {},
   "outputs": [],
   "source": [
    "sns.lmplot(x='real_area', y='real_perimeter', data=final_df, hue='is_keratosis', fit_reg=False)\n",
    "plt.show()"
   ]
  },
  {
   "cell_type": "code",
   "execution_count": null,
   "metadata": {},
   "outputs": [],
   "source": [
    "array1 = np.reshape(predicted_unhealthy,(-1,1))\n",
    "array2 = np.reshape(real_unhealthy_y,(-1,1))\n",
    "array3 = np.hstack((real_unhealthy_x,array1,array2))\n",
    "df = pd.DataFrame(array3,columns=['compactness','assymetry','Predicted unhealthy','Real unhealthy'])"
   ]
  },
  {
   "cell_type": "code",
   "execution_count": null,
   "metadata": {},
   "outputs": [],
   "source": [
    "sns.lmplot(x='compactness', y='assymetry', data=df, hue='Predicted unhealthy', fit_reg=False)\n",
    "plt.show()"
   ]
  },
  {
   "cell_type": "code",
   "execution_count": null,
   "metadata": {},
   "outputs": [],
   "source": [
    "sns.lmplot(x='compactness', y='assymetry', data=df, hue='Real unhealthy', fit_reg=False)\n",
    "plt.show()\n",
    "\n",
    "sns.lmplot(x='compactness', y='assymetry', data=df, hue='Real unhealthy', fit_reg=False)\n",
    "plt.show()"
   ]
  },
  {
   "cell_type": "code",
   "execution_count": null,
   "metadata": {},
   "outputs": [],
   "source": [
    "melanoma = final_df[final_df['is_melanoma'] == 1]\n",
    "keratosis =  final_df[final_df['is_keratosis'] == 1]\n",
    "unhealthy = final_df[final_df['unhealthy'] == 0]\n",
    "# plt.boxplot(melanoma['Assymetric_decimal'])\n",
    "\n",
    "# # Creating dataset\n",
    "\n",
    "data = [melanoma['Assymetric_decimal'], keratosis['Assymetric_decimal'], unhealthy['Assymetric_decimal']]\n",
    "  \n",
    "fig = plt.figure(figsize =(10, 7))\n",
    "  \n",
    "# Creating axes instance\n",
    "ax = fig.add_axes([0, 0, 1, 1])\n",
    "\n",
    "# Creating plot\n",
    "bp = ax.boxplot(data,patch_artist = True,\n",
    "                notch ='True', vert = 1)\n",
    "\n",
    "\n",
    "plt.xticks([1, 2, 3], ['Melanoma assymetry', 'Keratosis assymetry', 'Healthy assymetry'])\n",
    "\n",
    "\n",
    "\n",
    "plt.title(\"Assymetry decimal for melanoma / keratosis / healthy\", fontsize=15)\n",
    "# show plot\n",
    "plt.show()\n"
   ]
  },
  {
   "cell_type": "code",
   "execution_count": null,
   "metadata": {
    "scrolled": false
   },
   "outputs": [],
   "source": [
    "#Apply to data itself\n",
    "from sklearn import preprocessing\n",
    "\n",
    "#Fit scaler on our data\n",
    "\n",
    "\n",
    "sns.pairplot(final_df,x_vars=['real_area','compactness'],y_vars=['real_perimeter','Assymetric_decimal'], hue=\"\", height=3,diag_kind=\"hist\")"
   ]
  },
  {
   "cell_type": "code",
   "execution_count": null,
   "metadata": {},
   "outputs": [],
   "source": []
  }
 ],
 "metadata": {
  "kernelspec": {
   "display_name": "Python 3",
   "language": "python",
   "name": "python3"
  },
  "language_info": {
   "codemirror_mode": {
    "name": "ipython",
    "version": 3
   },
   "file_extension": ".py",
   "mimetype": "text/x-python",
   "name": "python",
   "nbconvert_exporter": "python",
   "pygments_lexer": "ipython3",
   "version": "3.8.5"
  }
 },
 "nbformat": 4,
 "nbformat_minor": 2
}
