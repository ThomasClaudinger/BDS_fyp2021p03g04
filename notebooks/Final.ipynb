{
 "cells": [
  {
   "cell_type": "markdown",
   "metadata": {},
   "source": [
    "## Imports"
   ]
  },
  {
   "cell_type": "code",
   "execution_count": 1,
   "metadata": {},
   "outputs": [],
   "source": [
    "import pandas as pd\n",
    "import matplotlib.pyplot as plt\n",
    "import numpy as np\n",
    "import math\n",
    "from skimage import morphology\n",
    "import matplotlib.image as mpimg\n",
    "import random\n",
    "from sklearn.cluster import KMeans\n",
    "import cv2\n",
    "from collections import Counter\n",
    "from skimage.color import rgb2lab, deltaE_cie76\n",
    "import os\n",
    "from PIL import ImageColor\n",
    "from sklearn.model_selection import cross_val_score\n",
    "from sklearn.model_selection import train_test_split\n",
    "from sklearn.neighbors import KNeighborsClassifier\n",
    "from sklearn.metrics import accuracy_score\n",
    "\n",
    "import pandas as pd\n",
    "import matplotlib.pyplot as plt\n",
    "import numpy as np\n",
    "import math\n",
    "from skimage import morphology\n",
    "import matplotlib.image as mpimg\n",
    "import random\n",
    "from sklearn.cluster import KMeans\n",
    "import cv2\n",
    "from collections import Counter\n",
    "from skimage.color import rgb2lab, deltaE_cie76\n",
    "import os\n",
    "from PIL import ImageColor"
   ]
  },
  {
   "cell_type": "markdown",
   "metadata": {},
   "source": [
    "## Loading data"
   ]
  },
  {
   "cell_type": "code",
   "execution_count": 2,
   "metadata": {},
   "outputs": [],
   "source": [
    "features = pd.read_csv(r'../features/features.csv')\n",
    "ground_truth = pd.read_csv(r\"../data/example_ground_truth.csv\")\n"
   ]
  },
  {
   "cell_type": "markdown",
   "metadata": {},
   "source": [
    "## Functions"
   ]
  },
  {
   "cell_type": "code",
   "execution_count": 3,
   "metadata": {},
   "outputs": [],
   "source": [
    "def calculate_area(image):\n",
    "    \"\"\"\n",
    "    image = a numpy array\n",
    "    \"\"\"\n",
    "    return np.sum(image)\n",
    "\n",
    "def calculate_border(image,thickness):\n",
    "    \"\"\"\n",
    "    image = np array of a picture\n",
    "    thicness = an integer of the thiccness of the border\n",
    "    returns = the border of the figure\n",
    "    \"\"\"\n",
    "    struct_el = morphology.disk(thickness)\n",
    "    mask_eroded = morphology.binary_erosion(image, struct_el)\n",
    "    return calculate_area(image)-np.sum(mask_eroded)\n",
    "\n",
    "\n",
    "def compactness(area, border):\n",
    "    \"\"\"\n",
    "    area = the area of the figure\n",
    "    border = the circumference of the figure\n",
    "    return = returns the compactness\n",
    "    \"\"\"\n",
    "    top = border**2\n",
    "    bot = 4*math.pi*area\n",
    "    return top/bot\n",
    "\n",
    "def RGB2HEX(color):\n",
    "    return \"#{:02x}{:02x}{:02x}\".format(int(color[0]), int(color[1]), int(color[2]))\n",
    "\n",
    "\n",
    "\n",
    "def average_colour(image,segmentation):\n",
    "    mask = segmentation == 1\n",
    "    copy = image.copy()\n",
    "    r = np.mean(copy[mask,0])\n",
    "    g = np.mean(copy[mask,1])\n",
    "    b = np.mean(copy[mask,2])\n",
    "    #num_of_pixels = copy[mask].shape[0]\n",
    "    return [r,g,b]\n",
    "\n",
    "def deviation_of_colour(image,segmentation):\n",
    "    mask = segmentation == 1\n",
    "    copy = image.copy()\n",
    "    r = np.std(copy[mask,0])\n",
    "    g = np.std(copy[mask,1])\n",
    "    b = np.std(copy[mask,2])\n",
    "    return [r,g,b]\n",
    "\n",
    "def average_luminosity(image,segmentation):\n",
    "    avg_colour = average_colour(image,segmentation)\n",
    "    return 0.299*avg_colour[0] + 0.587*avg_colour[1] + 0.114*avg_colour[2]\n",
    "\n",
    "def deviation_luminosity(image,segmentation):\n",
    "    deviation_colour = deviation_of_colour(image,segmentation)\n",
    "    return np.sqrt(0.299**2*deviation_colour[0]**2 + 0.587**2*deviation_colour[1]**2 + 0.114**2*deviation_colour[2]**2)\n",
    "\n",
    "def findImage(image_id):\n",
    "    image = plt.imread('../data/example_image/'+image_id+'.jpg')\n",
    "    image_seg = plt.imread('../data/example_segmentation/'+image_id+'_segmentation.png')\n",
    "    return image,image_seg\n",
    "\n",
    "def make_knn_prediction(k):\n",
    "    neigh = KNeighborsClassifier(n_neighbors=k)\n",
    "    neigh.fit(x_train, y_train)\n",
    "    return neigh.predict(x_test)\n",
    "\n",
    "def from_rgb_to_int(df):\n",
    "    placeholder = [RGB2HEX(elm) for elm in df]\n",
    "    hex_val = [int(\"0x\" + elm[1:],0) for elm in placeholder]\n",
    "    return hex_val\n",
    "\n",
    "def knn_model_constructor(k,training,labels):\n",
    "    model = KNeighborsClassifier(n_neighbors=k)\n",
    "    model.fit(training, labels)\n",
    "    return model"
   ]
  },
  {
   "cell_type": "markdown",
   "metadata": {},
   "source": [
    "## Task 0: Exploring the data"
   ]
  },
  {
   "cell_type": "code",
   "execution_count": 7,
   "metadata": {},
   "outputs": [],
   "source": [
    "#rename column 'id' to 'image_id'\n",
    "features.rename(columns={'id': 'image_id'}, inplace=True)"
   ]
  },
  {
   "cell_type": "code",
   "execution_count": 8,
   "metadata": {},
   "outputs": [],
   "source": [
    "# Here we merge the two data frames\n",
    "all_feature_merge = features.merge(ground_truth, on='image_id', how='right')"
   ]
  },
  {
   "cell_type": "code",
   "execution_count": 9,
   "metadata": {},
   "outputs": [
    {
     "data": {
      "text/html": [
       "<div>\n",
       "<style scoped>\n",
       "    .dataframe tbody tr th:only-of-type {\n",
       "        vertical-align: middle;\n",
       "    }\n",
       "\n",
       "    .dataframe tbody tr th {\n",
       "        vertical-align: top;\n",
       "    }\n",
       "\n",
       "    .dataframe thead th {\n",
       "        text-align: right;\n",
       "    }\n",
       "</style>\n",
       "<table border=\"1\" class=\"dataframe\">\n",
       "  <thead>\n",
       "    <tr style=\"text-align: right;\">\n",
       "      <th></th>\n",
       "      <th>image_id</th>\n",
       "      <th>area</th>\n",
       "      <th>perimeter</th>\n",
       "      <th>melanoma</th>\n",
       "      <th>seborrheic_keratosis</th>\n",
       "    </tr>\n",
       "  </thead>\n",
       "  <tbody>\n",
       "    <tr>\n",
       "      <td>0</td>\n",
       "      <td>ISIC_0001769</td>\n",
       "      <td>216160.0</td>\n",
       "      <td>2013.0</td>\n",
       "      <td>0.0</td>\n",
       "      <td>0.0</td>\n",
       "    </tr>\n",
       "    <tr>\n",
       "      <td>1</td>\n",
       "      <td>ISIC_0001852</td>\n",
       "      <td>130493.0</td>\n",
       "      <td>1372.0</td>\n",
       "      <td>0.0</td>\n",
       "      <td>0.0</td>\n",
       "    </tr>\n",
       "    <tr>\n",
       "      <td>2</td>\n",
       "      <td>ISIC_0001871</td>\n",
       "      <td>205116.0</td>\n",
       "      <td>1720.0</td>\n",
       "      <td>0.0</td>\n",
       "      <td>0.0</td>\n",
       "    </tr>\n",
       "    <tr>\n",
       "      <td>3</td>\n",
       "      <td>ISIC_0003462</td>\n",
       "      <td>161705.0</td>\n",
       "      <td>1344.0</td>\n",
       "      <td>0.0</td>\n",
       "      <td>0.0</td>\n",
       "    </tr>\n",
       "    <tr>\n",
       "      <td>4</td>\n",
       "      <td>ISIC_0003539</td>\n",
       "      <td>317040.0</td>\n",
       "      <td>2063.0</td>\n",
       "      <td>0.0</td>\n",
       "      <td>0.0</td>\n",
       "    </tr>\n",
       "    <tr>\n",
       "      <td>...</td>\n",
       "      <td>...</td>\n",
       "      <td>...</td>\n",
       "      <td>...</td>\n",
       "      <td>...</td>\n",
       "      <td>...</td>\n",
       "    </tr>\n",
       "    <tr>\n",
       "      <td>145</td>\n",
       "      <td>ISIC_0015443</td>\n",
       "      <td>9732988.0</td>\n",
       "      <td>13775.0</td>\n",
       "      <td>0.0</td>\n",
       "      <td>0.0</td>\n",
       "    </tr>\n",
       "    <tr>\n",
       "      <td>146</td>\n",
       "      <td>ISIC_0015445</td>\n",
       "      <td>12049938.0</td>\n",
       "      <td>19517.0</td>\n",
       "      <td>0.0</td>\n",
       "      <td>0.0</td>\n",
       "    </tr>\n",
       "    <tr>\n",
       "      <td>147</td>\n",
       "      <td>ISIC_0015483</td>\n",
       "      <td>8856478.0</td>\n",
       "      <td>13813.0</td>\n",
       "      <td>0.0</td>\n",
       "      <td>0.0</td>\n",
       "    </tr>\n",
       "    <tr>\n",
       "      <td>148</td>\n",
       "      <td>ISIC_0015496</td>\n",
       "      <td>8951522.0</td>\n",
       "      <td>13742.0</td>\n",
       "      <td>0.0</td>\n",
       "      <td>0.0</td>\n",
       "    </tr>\n",
       "    <tr>\n",
       "      <td>149</td>\n",
       "      <td>ISIC_0015627</td>\n",
       "      <td>3193093.0</td>\n",
       "      <td>8751.0</td>\n",
       "      <td>0.0</td>\n",
       "      <td>0.0</td>\n",
       "    </tr>\n",
       "  </tbody>\n",
       "</table>\n",
       "<p>150 rows × 5 columns</p>\n",
       "</div>"
      ],
      "text/plain": [
       "         image_id        area  perimeter  melanoma  seborrheic_keratosis\n",
       "0    ISIC_0001769    216160.0     2013.0       0.0                   0.0\n",
       "1    ISIC_0001852    130493.0     1372.0       0.0                   0.0\n",
       "2    ISIC_0001871    205116.0     1720.0       0.0                   0.0\n",
       "3    ISIC_0003462    161705.0     1344.0       0.0                   0.0\n",
       "4    ISIC_0003539    317040.0     2063.0       0.0                   0.0\n",
       "..            ...         ...        ...       ...                   ...\n",
       "145  ISIC_0015443   9732988.0    13775.0       0.0                   0.0\n",
       "146  ISIC_0015445  12049938.0    19517.0       0.0                   0.0\n",
       "147  ISIC_0015483   8856478.0    13813.0       0.0                   0.0\n",
       "148  ISIC_0015496   8951522.0    13742.0       0.0                   0.0\n",
       "149  ISIC_0015627   3193093.0     8751.0       0.0                   0.0\n",
       "\n",
       "[150 rows x 5 columns]"
      ]
     },
     "execution_count": 9,
     "metadata": {},
     "output_type": "execute_result"
    }
   ],
   "source": [
    "# Here we plot the dataframe\n",
    "all_feature_merge"
   ]
  },
  {
   "cell_type": "code",
   "execution_count": 10,
   "metadata": {},
   "outputs": [
    {
     "data": {
      "text/plain": [
       "image_id                False\n",
       "area                    False\n",
       "perimeter               False\n",
       "melanoma                False\n",
       "seborrheic_keratosis    False\n",
       "dtype: bool"
      ]
     },
     "execution_count": 10,
     "metadata": {},
     "output_type": "execute_result"
    }
   ],
   "source": [
    "# Here we check for missing values, which we do not have\n",
    "all_feature_merge.isna().any()"
   ]
  },
  {
   "cell_type": "markdown",
   "metadata": {},
   "source": [
    "## Task 1: implement two features"
   ]
  },
  {
   "cell_type": "code",
   "execution_count": 11,
   "metadata": {},
   "outputs": [],
   "source": [
    "mask = ground_truth['melanoma'] == 1\n",
    "melanoma_mask = ground_truth[mask]"
   ]
  },
  {
   "cell_type": "code",
   "execution_count": 13,
   "metadata": {},
   "outputs": [],
   "source": [
    "mask = ground_truth['seborrheic_keratosis'] == 1\n",
    "keratosis_mask = ground_truth[mask]"
   ]
  },
  {
   "cell_type": "code",
   "execution_count": 15,
   "metadata": {},
   "outputs": [
    {
     "name": "stdout",
     "output_type": "stream",
     "text": [
      "ISIC_0001769 0\n",
      "ISIC_0001852 1\n",
      "ISIC_0001871 2\n",
      "ISIC_0003462 3\n",
      "ISIC_0003539 4\n",
      "ISIC_0003582 5\n",
      "ISIC_0003657 6\n",
      "ISIC_0003805 7\n",
      "ISIC_0004337 8\n",
      "ISIC_0006651 9\n",
      "ISIC_0006671 10\n",
      "ISIC_0006815 11\n",
      "ISIC_0006914 12\n",
      "ISIC_0007141 13\n",
      "ISIC_0007156 14\n",
      "ISIC_0007235 15\n",
      "ISIC_0007241 16\n",
      "ISIC_0007332 17\n",
      "ISIC_0007344 18\n",
      "ISIC_0007528 19\n",
      "ISIC_0007796 20\n",
      "ISIC_0008025 21\n",
      "ISIC_0008524 22\n",
      "ISIC_0009995 23\n",
      "ISIC_0010459 24\n",
      "ISIC_0012099 25\n",
      "ISIC_0012109 26\n",
      "ISIC_0012126 27\n",
      "ISIC_0012127 28\n",
      "ISIC_0012143 29\n",
      "ISIC_0012151 30\n",
      "ISIC_0012159 31\n",
      "ISIC_0012160 32\n",
      "ISIC_0012191 33\n",
      "ISIC_0012201 34\n",
      "ISIC_0012204 35\n",
      "ISIC_0012206 36\n",
      "ISIC_0012210 37\n",
      "ISIC_0012221 38\n",
      "ISIC_0012222 39\n",
      "ISIC_0012254 40\n",
      "ISIC_0012256 41\n",
      "ISIC_0012288 42\n",
      "ISIC_0012306 43\n",
      "ISIC_0012313 44\n",
      "ISIC_0012316 45\n",
      "ISIC_0012335 46\n",
      "ISIC_0012380 47\n",
      "ISIC_0012383 48\n",
      "ISIC_0012400 49\n",
      "ISIC_0012417 50\n",
      "ISIC_0012434 51\n",
      "ISIC_0012492 52\n",
      "ISIC_0012513 53\n",
      "ISIC_0012538 54\n",
      "ISIC_0012547 55\n",
      "ISIC_0012660 56\n",
      "ISIC_0012684 57\n",
      "ISIC_0012720 58\n",
      "ISIC_0012746 59\n",
      "ISIC_0012876 60\n",
      "ISIC_0012927 61\n",
      "ISIC_0012956 62\n",
      "ISIC_0012959 63\n",
      "ISIC_0012965 64\n",
      "ISIC_0013010 65\n",
      "ISIC_0013082 66\n",
      "ISIC_0013104 67\n",
      "ISIC_0013127 68\n",
      "ISIC_0013128 69\n",
      "ISIC_0013132 70\n",
      "ISIC_0013188 71\n",
      "ISIC_0013215 72\n",
      "ISIC_0013232 73\n",
      "ISIC_0013421 74\n",
      "ISIC_0013491 75\n",
      "ISIC_0013501 76\n",
      "ISIC_0013518 77\n",
      "ISIC_0013527 78\n",
      "ISIC_0013549 79\n",
      "ISIC_0013561 80\n",
      "ISIC_0013562 81\n",
      "ISIC_0013632 82\n",
      "ISIC_0013637 83\n",
      "ISIC_0013644 84\n",
      "ISIC_0013651 85\n",
      "ISIC_0013663 86\n",
      "ISIC_0013702 87\n",
      "ISIC_0013736 88\n",
      "ISIC_0013793 89\n",
      "ISIC_0013828 90\n",
      "ISIC_0013863 91\n",
      "ISIC_0013898 92\n",
      "ISIC_0013945 93\n",
      "ISIC_0014037 94\n",
      "ISIC_0014038 95\n",
      "ISIC_0014055 96\n",
      "ISIC_0014139 97\n",
      "ISIC_0014162 98\n",
      "ISIC_0014178 99\n",
      "ISIC_0014211 100\n",
      "ISIC_0014212 101\n",
      "ISIC_0014217 102\n",
      "ISIC_0014302 103\n",
      "ISIC_0014310 104\n",
      "ISIC_0014382 105\n",
      "ISIC_0014428 106\n",
      "ISIC_0014558 107\n",
      "ISIC_0014568 108\n",
      "ISIC_0014572 109\n",
      "ISIC_0014597 110\n",
      "ISIC_0014601 111\n",
      "ISIC_0014608 112\n",
      "ISIC_0014610 113\n",
      "ISIC_0014611 114\n",
      "ISIC_0014616 115\n",
      "ISIC_0014618 116\n",
      "ISIC_0014620 117\n",
      "ISIC_0014623 118\n",
      "ISIC_0014624 119\n",
      "ISIC_0014633 120\n",
      "ISIC_0014635 121\n",
      "ISIC_0014637 122\n",
      "ISIC_0014688 123\n",
      "ISIC_0014712 124\n",
      "ISIC_0014809 125\n",
      "ISIC_0014829 126\n",
      "ISIC_0014857 127\n",
      "ISIC_0014931 128\n",
      "ISIC_0014937 129\n",
      "ISIC_0014945 130\n",
      "ISIC_0014946 131\n",
      "ISIC_0014979 132\n",
      "ISIC_0014985 133\n",
      "ISIC_0014989 134\n",
      "ISIC_0015043 135\n",
      "ISIC_0015062 136\n",
      "ISIC_0015124 137\n",
      "ISIC_0015144 138\n",
      "ISIC_0015211 139\n",
      "ISIC_0015243 140\n",
      "ISIC_0015256 141\n",
      "ISIC_0015313 142\n",
      "ISIC_0015372 143\n",
      "ISIC_0015401 144\n",
      "ISIC_0015443 145\n",
      "ISIC_0015445 146\n",
      "ISIC_0015483 147\n",
      "ISIC_0015496 148\n",
      "ISIC_0015627 149\n"
     ]
    }
   ],
   "source": [
    "\n",
    "\n",
    "total_data = []\n",
    "melanoma_data = []\n",
    "keratosis_data = []\n",
    "non_infected_data = []\n",
    "x = 0\n",
    "\n",
    "for image_id in ground_truth['image_id']:\n",
    "    print(image_id,x)\n",
    "    image = plt.imread('../data/example_image/'+image_id+'.jpg') # Here we load the image\n",
    "    image_seg = plt.imread('../data/example_segmentation/'+image_id+'_segmentation.png') # Here we load the mask\n",
    "    if image_id in list(melanoma_mask['image_id']): # If the image id is in the melanoma list, label it as melanoma\n",
    "        melanoma_data.append((image_id,image,image_seg)) #else label it as keratosis\n",
    "    if image_id in list(keratosis_mask['image_id']):\n",
    "        keratosis_data.append((image_id,image,image_seg))\n",
    "    else:\n",
    "        non_infected_data.append((image_id,image,image_seg))\n",
    "    total_data.append((image_id,image,image_seg)) #Here we have a list of all the data together\n",
    "    x += 1"
   ]
  },
  {
   "cell_type": "code",
   "execution_count": 17,
   "metadata": {},
   "outputs": [
    {
     "data": {
      "text/plain": [
       "150"
      ]
     },
     "execution_count": 17,
     "metadata": {},
     "output_type": "execute_result"
    }
   ],
   "source": [
    "len(total_data)"
   ]
  },
  {
   "cell_type": "code",
   "execution_count": 18,
   "metadata": {
    "scrolled": true
   },
   "outputs": [
    {
     "data": {
      "text/plain": [
       "42"
      ]
     },
     "execution_count": 18,
     "metadata": {},
     "output_type": "execute_result"
    }
   ],
   "source": [
    "len(keratosis_data)"
   ]
  },
  {
   "cell_type": "code",
   "execution_count": 19,
   "metadata": {},
   "outputs": [
    {
     "data": {
      "text/plain": [
       "30"
      ]
     },
     "execution_count": 19,
     "metadata": {},
     "output_type": "execute_result"
    }
   ],
   "source": [
    "len(melanoma_data)"
   ]
  },
  {
   "cell_type": "code",
   "execution_count": 20,
   "metadata": {},
   "outputs": [
    {
     "data": {
      "text/plain": [
       "108"
      ]
     },
     "execution_count": 20,
     "metadata": {},
     "output_type": "execute_result"
    }
   ],
   "source": [
    "len(non_infected_data)"
   ]
  },
  {
   "cell_type": "code",
   "execution_count": 22,
   "metadata": {},
   "outputs": [
    {
     "data": {
      "text/plain": [
       "180"
      ]
     },
     "execution_count": 22,
     "metadata": {},
     "output_type": "execute_result"
    }
   ],
   "source": [
    "108 + 42 + 30"
   ]
  },
  {
   "cell_type": "code",
   "execution_count": null,
   "metadata": {},
   "outputs": [],
   "source": [
    "# Here we use our functions area and border to calculate the compactness of the first image\n",
    "area1 = calculate_area(melanoma_data[0][2])\n",
    "#border1 = calculate_border(melanoma_data[0][2],4)\n",
    "#compactness(area1,border1)"
   ]
  }
 ],
 "metadata": {
  "kernelspec": {
   "display_name": "Python 3",
   "language": "python",
   "name": "python3"
  },
  "language_info": {
   "codemirror_mode": {
    "name": "ipython",
    "version": 3
   },
   "file_extension": ".py",
   "mimetype": "text/x-python",
   "name": "python",
   "nbconvert_exporter": "python",
   "pygments_lexer": "ipython3",
   "version": "3.7.4"
  }
 },
 "nbformat": 4,
 "nbformat_minor": 2
}
